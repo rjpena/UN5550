{
 "cells": [
  {
   "cell_type": "markdown",
   "metadata": {},
   "source": [
    "# Project 4\n",
    "Ruben Pena   \n",
    "UN5550  \n",
    "10/10/2018  \n",
    "Due 10/14/2018  "
   ]
  },
  {
   "cell_type": "code",
   "execution_count": 1,
   "metadata": {
    "scrolled": true
   },
   "outputs": [],
   "source": [
    "import numpy as np\n",
    "import pandas as pd\n",
    "# Apparently Anaconda has a different mnist package than python-mnist\n",
    "# https://github.com/datapythonista/mnist for info - anaconda developer\n",
    "import mnist\n",
    "from matplotlib import pyplot as plt\n",
    "%matplotlib inline\n",
    "from sklearn import neighbors, metrics\n",
    "from sklearn.metrics import confusion_matrix\n",
    "from sklearn.svm import SVC\n",
    "import scikitplot as skplt"
   ]
  },
  {
   "cell_type": "code",
   "execution_count": 2,
   "metadata": {},
   "outputs": [],
   "source": [
    "from sklearn.svm import LinearSVC"
   ]
  },
  {
   "cell_type": "code",
   "execution_count": 3,
   "metadata": {},
   "outputs": [],
   "source": [
    "# Anaconda minst loading(from dev page - The dataset is downloaded and cached in your temporary directory, so, calling the functions again, is much faster and doesn't hit the server)\n",
    "X_train = mnist.train_images()\n",
    "y_train = mnist.train_labels()\n",
    "X_test = mnist.test_images()\n",
    "y_test = mnist.test_labels()"
   ]
  },
  {
   "cell_type": "code",
   "execution_count": 4,
   "metadata": {},
   "outputs": [
    {
     "data": {
      "text/plain": [
       "(60000, 28, 28)"
      ]
     },
     "execution_count": 4,
     "metadata": {},
     "output_type": "execute_result"
    }
   ],
   "source": [
    "# Shape of Training Set Predictors\n",
    "X_train.shape"
   ]
  },
  {
   "cell_type": "code",
   "execution_count": 5,
   "metadata": {},
   "outputs": [
    {
     "data": {
      "text/plain": [
       "(60000,)"
      ]
     },
     "execution_count": 5,
     "metadata": {},
     "output_type": "execute_result"
    }
   ],
   "source": [
    "# Shape of Training Set Targets\n",
    "y_train.shape"
   ]
  },
  {
   "cell_type": "code",
   "execution_count": 6,
   "metadata": {},
   "outputs": [
    {
     "data": {
      "text/plain": [
       "(10000, 28, 28)"
      ]
     },
     "execution_count": 6,
     "metadata": {},
     "output_type": "execute_result"
    }
   ],
   "source": [
    "# Shape of Test Set of Predictors\n",
    "X_test.shape"
   ]
  },
  {
   "cell_type": "code",
   "execution_count": 7,
   "metadata": {},
   "outputs": [
    {
     "data": {
      "text/plain": [
       "(10000,)"
      ]
     },
     "execution_count": 7,
     "metadata": {},
     "output_type": "execute_result"
    }
   ],
   "source": [
    "# Shape of Test Set of Targets\n",
    "y_test.shape"
   ]
  },
  {
   "cell_type": "code",
   "execution_count": 8,
   "metadata": {},
   "outputs": [
    {
     "data": {
      "image/png": "[encoded data removed]",
      "text/plain": [
       "<Figure size 432x288 with 1 Axes>"
      ]
     },
     "metadata": {},
     "output_type": "display_data"
    }
   ],
   "source": [
    "# Print of Training Set first element\n",
    "plt.imshow(X_train[0], cmap='gray')\n",
    "plt.title(y_train[0]);"
   ]
  },
  {
   "cell_type": "code",
   "execution_count": 9,
   "metadata": {},
   "outputs": [
    {
     "data": {
      "image/png": "[encoded data removed]",
      "text/plain": [
       "<Figure size 432x288 with 1 Axes>"
      ]
     },
     "metadata": {},
     "output_type": "display_data"
    }
   ],
   "source": [
    "# Print Training Set second element\n",
    "plt.imshow(X_train[1], cmap='gray')\n",
    "plt.title(y_train[1]);"
   ]
  },
  {
   "cell_type": "code",
   "execution_count": 10,
   "metadata": {},
   "outputs": [],
   "source": [
    "# Reshape training and test set predictors so they can be used in analysis\n",
    "X_train = X_train.reshape((X_train.shape[0], X_train.shape[1] * X_train.shape[2]))\n",
    "X_test = X_test.reshape((X_test.shape[0], X_test.shape[1] * X_test.shape[2]))"
   ]
  },
  {
   "cell_type": "code",
   "execution_count": 11,
   "metadata": {},
   "outputs": [
    {
     "data": {
      "text/plain": [
       "(10000, 784)"
      ]
     },
     "execution_count": 11,
     "metadata": {},
     "output_type": "execute_result"
    }
   ],
   "source": [
    "# Confirm reshape\n",
    "X_test.shape"
   ]
  },
  {
   "cell_type": "code",
   "execution_count": 12,
   "metadata": {},
   "outputs": [
    {
     "data": {
      "text/plain": [
       "(60000, 784)"
      ]
     },
     "execution_count": 12,
     "metadata": {},
     "output_type": "execute_result"
    }
   ],
   "source": [
    "X_train.shape"
   ]
  },
  {
   "cell_type": "markdown",
   "metadata": {},
   "source": [
    "### In your own words, explain how the K nearest neighbor (KNN) algorithm works.\n",
    "\n",
    "KNN is a supervised learning classifier that uses euclidean distance(some version of KNN) to find the nearest neighbors of a fixed point. It takes the class from K number of closest neighbors to that point and averages them to find the most likely class for that point. Using this \"majority vote\" among all the data in the set, KNN distinguishes classes."
   ]
  },
  {
   "cell_type": "markdown",
   "metadata": {},
   "source": [
    "### Develop python functions to compute the accuracy, sensitivity, specificity, precision and negative predictive value"
   ]
  },
  {
   "cell_type": "code",
   "execution_count": 13,
   "metadata": {},
   "outputs": [],
   "source": [
    "# Function that accepts a confusion matrix and computes accuracy, sensitivity, specificity, precision, and negative predictive value(NPV)\n",
    "# See sources at end of notebook\n",
    "def deconfuse(cm):\n",
    "    fp = cm.sum(axis=0) - np.diag(cm)\n",
    "    fp = sum(fp)\n",
    "    #sum columns of matrix - the diagonals\n",
    "    fn = cm.sum(axis=1) - np.diag(cm)\n",
    "    fn = sum(fn)\n",
    "    #tps are all on diags\n",
    "    tp = np.diag(cm)\n",
    "    tp = sum(tp)\n",
    "    #derive tn from the other values\n",
    "    tn = cm.sum() - (fp + fn + tp)\n",
    "    \n",
    "    #Accuracy\n",
    "    acc = (tp+tn)/(tp+fp+fn+tn)\n",
    "    #Recall\n",
    "    rcl = abs(tp)/(abs(tp)+abs(fn))\n",
    "    #Specificity\n",
    "    spc = abs(tn)/(abs(tn)+abs(fp))\n",
    "    #Precision\n",
    "    prc = abs(tp)/(abs(tp)+abs(fp))\n",
    "    #Negative Predictive Value\n",
    "    npv = abs(tn)/(abs(tn)+abs(fn))\n",
    "    \n",
    "    print(\"TP\\tTN\\tFN\\tFP\")\n",
    "    print(tp,\"\\t\", tn,\"\\t\", fn,\"\\t\", fp)\n",
    "    print(\"Accuracy:\\t \", acc)\n",
    "    print(\"Recall:\\t\\t \", rcl)\n",
    "    print(\"Specificity:\\t \", spc)\n",
    "    print(\"Precision:\\t \", prc)\n",
    "    print(\"NPV:\\t\\t \", npv)\n",
    "    \n",
    "     "
   ]
  },
  {
   "cell_type": "markdown",
   "metadata": {},
   "source": [
    "### Apply a KNN Classifier with n_neighbors = {3,4,5}.   \n",
    "#### For each model, compute the confusion matrix, as applied to the test set report the accuracy, sensitivity, specificity, precision and negative predictive value using your developed functions. compare the different models."
   ]
  },
  {
   "cell_type": "markdown",
   "metadata": {},
   "source": [
    "##### 3 Neighbors"
   ]
  },
  {
   "cell_type": "code",
   "execution_count": 14,
   "metadata": {},
   "outputs": [],
   "source": [
    "# Create a knn classifier with 3 neighbors, train and fit to training data\n",
    "knn3 = neighbors.KNeighborsClassifier(n_neighbors = 3)\n",
    "knn3.fit(X_train, y_train);"
   ]
  },
  {
   "cell_type": "code",
   "execution_count": 15,
   "metadata": {},
   "outputs": [],
   "source": [
    "# predict against test data\n",
    "predict3 = knn3.predict(X_test)"
   ]
  },
  {
   "cell_type": "code",
   "execution_count": 16,
   "metadata": {},
   "outputs": [
    {
     "data": {
      "text/plain": [
       "array([[ 974,    1,    1,    0,    0,    1,    2,    1,    0,    0],\n",
       "       [   0, 1133,    2,    0,    0,    0,    0,    0,    0,    0],\n",
       "       [  10,    9,  996,    2,    0,    0,    0,   13,    2,    0],\n",
       "       [   0,    2,    4,  976,    1,   13,    1,    7,    3,    3],\n",
       "       [   1,    6,    0,    0,  950,    0,    4,    2,    0,   19],\n",
       "       [   6,    1,    0,   11,    2,  859,    5,    1,    3,    4],\n",
       "       [   5,    3,    0,    0,    3,    3,  944,    0,    0,    0],\n",
       "       [   0,   21,    5,    0,    1,    0,    0,  991,    0,   10],\n",
       "       [   8,    2,    4,   16,    8,   11,    3,    4,  914,    4],\n",
       "       [   4,    5,    2,    8,    9,    2,    1,    8,    2,  968]],\n",
       "      dtype=int64)"
      ]
     },
     "execution_count": 16,
     "metadata": {},
     "output_type": "execute_result"
    }
   ],
   "source": [
    "#calculate confusion matrix\n",
    "cm3 = confusion_matrix(y_test, predict3)\n",
    "cm3"
   ]
  },
  {
   "cell_type": "code",
   "execution_count": 17,
   "metadata": {},
   "outputs": [
    {
     "name": "stdout",
     "output_type": "stream",
     "text": [
      "TP\tTN\tFN\tFP\n",
      "9705 \t -295 \t 295 \t 295\n",
      "Accuracy:\t  0.941\n",
      "Recall:\t\t  0.9705\n",
      "Specificity:\t  0.5\n",
      "Precision:\t  0.9705\n",
      "NPV:\t\t  0.5\n"
     ]
    }
   ],
   "source": [
    "# run deconfuse function on confusion matrix\n",
    "deconfuse(cm3)"
   ]
  },
  {
   "cell_type": "markdown",
   "metadata": {},
   "source": [
    "##### 4 Neighbors"
   ]
  },
  {
   "cell_type": "code",
   "execution_count": 18,
   "metadata": {},
   "outputs": [],
   "source": [
    "# with 4 neighbors\n",
    "knn4 = neighbors.KNeighborsClassifier(n_neighbors = 4)\n",
    "knn4.fit(X_train, y_train);"
   ]
  },
  {
   "cell_type": "code",
   "execution_count": 19,
   "metadata": {},
   "outputs": [],
   "source": [
    "predict4 = knn4.predict(X_test)"
   ]
  },
  {
   "cell_type": "code",
   "execution_count": 20,
   "metadata": {},
   "outputs": [],
   "source": [
    "cm4 = confusion_matrix(y_test, predict4)"
   ]
  },
  {
   "cell_type": "code",
   "execution_count": 21,
   "metadata": {},
   "outputs": [
    {
     "name": "stdout",
     "output_type": "stream",
     "text": [
      "TP\tTN\tFN\tFP\n",
      "9682 \t -318 \t 318 \t 318\n",
      "Accuracy:\t  0.9364\n",
      "Recall:\t\t  0.9682\n",
      "Specificity:\t  0.5\n",
      "Precision:\t  0.9682\n",
      "NPV:\t\t  0.5\n"
     ]
    }
   ],
   "source": [
    "deconfuse(cm4)"
   ]
  },
  {
   "cell_type": "markdown",
   "metadata": {},
   "source": [
    "##### 5 Neighbors"
   ]
  },
  {
   "cell_type": "code",
   "execution_count": 22,
   "metadata": {},
   "outputs": [],
   "source": [
    "# 5 neighbors\n",
    "knn5 = neighbors.KNeighborsClassifier(n_neighbors = 5)\n",
    "knn5.fit(X_train, y_train);"
   ]
  },
  {
   "cell_type": "code",
   "execution_count": 23,
   "metadata": {},
   "outputs": [],
   "source": [
    "predict5 = knn5.predict(X_test)"
   ]
  },
  {
   "cell_type": "code",
   "execution_count": 24,
   "metadata": {},
   "outputs": [],
   "source": [
    "cm5 = confusion_matrix(y_test, predict5)"
   ]
  },
  {
   "cell_type": "code",
   "execution_count": 25,
   "metadata": {},
   "outputs": [
    {
     "name": "stdout",
     "output_type": "stream",
     "text": [
      "TP\tTN\tFN\tFP\n",
      "9688 \t -312 \t 312 \t 312\n",
      "Accuracy:\t  0.9376\n",
      "Recall:\t\t  0.9688\n",
      "Specificity:\t  0.5\n",
      "Precision:\t  0.9688\n",
      "NPV:\t\t  0.5\n"
     ]
    }
   ],
   "source": [
    "deconfuse(cm5)"
   ]
  },
  {
   "cell_type": "markdown",
   "metadata": {},
   "source": [
    "#### Comparison\n",
    "- Recall - All recalls are nearly similar with N3 having slightly better results.   \n",
    "- Precision - Precision for N4 and N5 are the same. N3 has slightly more precision.   \n",
    "- Specificity - All specificity values are the same.   \n",
    "- NPV - All NPV values are the same.    \n",
    "- Accuracy - N4 and N5 have similar values. N3 scored slghtly higher in accuracy.   \n",
    "\n",
    "#### Evaluation\n",
    "All three of the models have very similar results. 3N appears to have slightly greater performance overall. As 3N should be the most computationally efficient model and has the highest accuracy it should be chosen over the others."
   ]
  },
  {
   "cell_type": "markdown",
   "metadata": {},
   "source": [
    "### Apply an SVM classifier. \n",
    "\n",
    "#### Again, report the confusion matrix, as well as the accuracy, sensitivity, specificity, precision and negative predictive value."
   ]
  },
  {
   "cell_type": "code",
   "execution_count": 26,
   "metadata": {},
   "outputs": [
    {
     "name": "stderr",
     "output_type": "stream",
     "text": [
      "C:\\Users\\rpena\\Anaconda3\\lib\\site-packages\\sklearn\\svm\\base.py:922: ConvergenceWarning: Liblinear failed to converge, increase the number of iterations.\n",
      "  \"the number of iterations.\", ConvergenceWarning)\n"
     ]
    }
   ],
   "source": [
    "# Create a linear svm classifier and fit using training data\n",
    "svm = LinearSVC()\n",
    "svm.fit(X_train, y_train);"
   ]
  },
  {
   "cell_type": "code",
   "execution_count": 27,
   "metadata": {},
   "outputs": [],
   "source": [
    "#Predicting on the Test Set\n",
    "predict_svm = svm.predict(X_test)"
   ]
  },
  {
   "cell_type": "code",
   "execution_count": 28,
   "metadata": {},
   "outputs": [],
   "source": [
    "# Compute confusion matrix on predictions vs test\n",
    "cmSVM = confusion_matrix(y_test, predict_svm)"
   ]
  },
  {
   "cell_type": "code",
   "execution_count": 29,
   "metadata": {},
   "outputs": [
    {
     "name": "stdout",
     "output_type": "stream",
     "text": [
      "TP\tTN\tFN\tFP\n",
      "8511 \t -1489 \t 1489 \t 1489\n",
      "Accuracy:\t  0.7022\n",
      "Recall:\t\t  0.8511\n",
      "Specificity:\t  0.5\n",
      "Precision:\t  0.8511\n",
      "NPV:\t\t  0.5\n"
     ]
    }
   ],
   "source": [
    "# Run deconfuse on confusion matrix from svm classifier\n",
    "deconfuse(cmSVM)"
   ]
  },
  {
   "cell_type": "markdown",
   "metadata": {},
   "source": [
    "#### How does the SVM classifier compare to the KNN classifiers?\n",
    "This classifier has less accuracy than all of the KNN classifiers, but better precision and recall. I initially tried using an RBF classifier, but after an hour of processing, I chose to try a different model."
   ]
  },
  {
   "cell_type": "markdown",
   "metadata": {},
   "source": [
    "* I noticed that the specificity and npv for all models was the same. I am not sure if this is due to an error in my function or if that is correct based on the model"
   ]
  },
  {
   "cell_type": "markdown",
   "metadata": {},
   "source": [
    "##### Sources  \n",
    "lucidv01d- https://stackoverflow.com/questions/31324218/scikit-learn-how-to-obtain-true-positive-true-negative-false-positive-and-fal"
   ]
  }
 ],
 "metadata": {
  "kernelspec": {
   "display_name": "Python 3",
   "language": "python",
   "name": "python3"
  },
  "language_info": {
   "codemirror_mode": {
    "name": "ipython",
    "version": 3
   },
   "file_extension": ".py",
   "mimetype": "text/x-python",
   "name": "python",
   "nbconvert_exporter": "python",
   "pygments_lexer": "ipython3",
   "version": "3.6.6"
  }
 },
 "nbformat": 4,
 "nbformat_minor": 2
}
