{
 "cells": [
  {
   "cell_type": "markdown",
   "metadata": {},
   "source": [
    "# Project 1 - Iris Data Set\n",
    "\n",
    "Ruben Pena  \n",
    "UN55550.2018  \n",
    "Python3  \n",
    "Due September 14, 2018  "
   ]
  },
  {
   "cell_type": "markdown",
   "metadata": {},
   "source": [
    "### Imported Libraries"
   ]
  },
  {
   "cell_type": "code",
   "execution_count": 1,
   "metadata": {
    "scrolled": true
   },
   "outputs": [],
   "source": [
    "# Import and rename pandas, add matplotlib inline magic, set decimal precision.\n",
    "import pandas as pd\n",
    "%matplotlib inline\n",
    "pd.set_option('display.float_format', lambda x: '%.3f' % x)"
   ]
  },
  {
   "cell_type": "code",
   "execution_count": 2,
   "metadata": {
    "scrolled": true
   },
   "outputs": [
    {
     "data": {
      "text/html": [
       "<div>\n",
       "<style scoped>\n",
       "    .dataframe tbody tr th:only-of-type {\n",
       "        vertical-align: middle;\n",
       "    }\n",
       "\n",
       "    .dataframe tbody tr th {\n",
       "        vertical-align: top;\n",
       "    }\n",
       "\n",
       "    .dataframe thead th {\n",
       "        text-align: right;\n",
       "    }\n",
       "</style>\n",
       "<table border=\"1\" class=\"dataframe\">\n",
       "  <thead>\n",
       "    <tr style=\"text-align: right;\">\n",
       "      <th></th>\n",
       "      <th>Sepal.Length</th>\n",
       "      <th>Sepal.Width</th>\n",
       "      <th>Petal.Length</th>\n",
       "      <th>Petal.Width</th>\n",
       "      <th>Species</th>\n",
       "    </tr>\n",
       "  </thead>\n",
       "  <tbody>\n",
       "    <tr>\n",
       "      <th>0</th>\n",
       "      <td>5.100</td>\n",
       "      <td>3.500</td>\n",
       "      <td>1.400</td>\n",
       "      <td>0.200</td>\n",
       "      <td>setosa</td>\n",
       "    </tr>\n",
       "    <tr>\n",
       "      <th>1</th>\n",
       "      <td>4.900</td>\n",
       "      <td>3.000</td>\n",
       "      <td>1.400</td>\n",
       "      <td>0.200</td>\n",
       "      <td>setosa</td>\n",
       "    </tr>\n",
       "    <tr>\n",
       "      <th>2</th>\n",
       "      <td>4.700</td>\n",
       "      <td>3.200</td>\n",
       "      <td>1.300</td>\n",
       "      <td>0.200</td>\n",
       "      <td>setosa</td>\n",
       "    </tr>\n",
       "    <tr>\n",
       "      <th>3</th>\n",
       "      <td>4.600</td>\n",
       "      <td>3.100</td>\n",
       "      <td>1.500</td>\n",
       "      <td>0.200</td>\n",
       "      <td>setosa</td>\n",
       "    </tr>\n",
       "    <tr>\n",
       "      <th>4</th>\n",
       "      <td>5.000</td>\n",
       "      <td>3.600</td>\n",
       "      <td>1.400</td>\n",
       "      <td>0.200</td>\n",
       "      <td>setosa</td>\n",
       "    </tr>\n",
       "  </tbody>\n",
       "</table>\n",
       "</div>"
      ],
      "text/plain": [
       "   Sepal.Length  Sepal.Width  Petal.Length  Petal.Width Species\n",
       "0         5.100        3.500         1.400        0.200  setosa\n",
       "1         4.900        3.000         1.400        0.200  setosa\n",
       "2         4.700        3.200         1.300        0.200  setosa\n",
       "3         4.600        3.100         1.500        0.200  setosa\n",
       "4         5.000        3.600         1.400        0.200  setosa"
      ]
     },
     "execution_count": 2,
     "metadata": {},
     "output_type": "execute_result"
    }
   ],
   "source": [
    "# Read 'iris.csv' into pandas data frame named iris and print first 5 rows.\n",
    "url='https://raw.githubusercontent.com/ongbw/UN5550-Fall2018-rjpena/master/Project1/iris.csv?token=ApC_9euUGoqqyQvmD4AUIIEfI6xQ9XeHks5bpFvuwA%3D%3D'\n",
    "iris=pd.read_csv(url)\n",
    "iris.head(5)"
   ]
  },
  {
   "cell_type": "code",
   "execution_count": 3,
   "metadata": {
    "scrolled": true
   },
   "outputs": [
    {
     "data": {
      "text/html": [
       "<div>\n",
       "<style scoped>\n",
       "    .dataframe tbody tr th:only-of-type {\n",
       "        vertical-align: middle;\n",
       "    }\n",
       "\n",
       "    .dataframe tbody tr th {\n",
       "        vertical-align: top;\n",
       "    }\n",
       "\n",
       "    .dataframe thead th {\n",
       "        text-align: right;\n",
       "    }\n",
       "</style>\n",
       "<table border=\"1\" class=\"dataframe\">\n",
       "  <thead>\n",
       "    <tr style=\"text-align: right;\">\n",
       "      <th></th>\n",
       "      <th>Sepal.Length</th>\n",
       "      <th>Sepal.Width</th>\n",
       "      <th>Petal.Length</th>\n",
       "      <th>Petal.Width</th>\n",
       "      <th>Species</th>\n",
       "    </tr>\n",
       "  </thead>\n",
       "  <tbody>\n",
       "    <tr>\n",
       "      <th>1</th>\n",
       "      <td>5.100</td>\n",
       "      <td>3.500</td>\n",
       "      <td>1.400</td>\n",
       "      <td>0.200</td>\n",
       "      <td>setosa</td>\n",
       "    </tr>\n",
       "    <tr>\n",
       "      <th>2</th>\n",
       "      <td>4.900</td>\n",
       "      <td>3.000</td>\n",
       "      <td>1.400</td>\n",
       "      <td>0.200</td>\n",
       "      <td>setosa</td>\n",
       "    </tr>\n",
       "    <tr>\n",
       "      <th>3</th>\n",
       "      <td>4.700</td>\n",
       "      <td>3.200</td>\n",
       "      <td>1.300</td>\n",
       "      <td>0.200</td>\n",
       "      <td>setosa</td>\n",
       "    </tr>\n",
       "    <tr>\n",
       "      <th>4</th>\n",
       "      <td>4.600</td>\n",
       "      <td>3.100</td>\n",
       "      <td>1.500</td>\n",
       "      <td>0.200</td>\n",
       "      <td>setosa</td>\n",
       "    </tr>\n",
       "    <tr>\n",
       "      <th>5</th>\n",
       "      <td>5.000</td>\n",
       "      <td>3.600</td>\n",
       "      <td>1.400</td>\n",
       "      <td>0.200</td>\n",
       "      <td>setosa</td>\n",
       "    </tr>\n",
       "    <tr>\n",
       "      <th>6</th>\n",
       "      <td>5.400</td>\n",
       "      <td>3.900</td>\n",
       "      <td>1.700</td>\n",
       "      <td>0.400</td>\n",
       "      <td>setosa</td>\n",
       "    </tr>\n",
       "    <tr>\n",
       "      <th>7</th>\n",
       "      <td>4.600</td>\n",
       "      <td>3.400</td>\n",
       "      <td>1.400</td>\n",
       "      <td>0.300</td>\n",
       "      <td>setosa</td>\n",
       "    </tr>\n",
       "    <tr>\n",
       "      <th>8</th>\n",
       "      <td>5.000</td>\n",
       "      <td>3.400</td>\n",
       "      <td>1.500</td>\n",
       "      <td>0.200</td>\n",
       "      <td>setosa</td>\n",
       "    </tr>\n",
       "    <tr>\n",
       "      <th>9</th>\n",
       "      <td>4.400</td>\n",
       "      <td>2.900</td>\n",
       "      <td>1.400</td>\n",
       "      <td>0.200</td>\n",
       "      <td>setosa</td>\n",
       "    </tr>\n",
       "    <tr>\n",
       "      <th>10</th>\n",
       "      <td>4.900</td>\n",
       "      <td>3.100</td>\n",
       "      <td>1.500</td>\n",
       "      <td>0.100</td>\n",
       "      <td>setosa</td>\n",
       "    </tr>\n",
       "    <tr>\n",
       "      <th>11</th>\n",
       "      <td>5.400</td>\n",
       "      <td>3.700</td>\n",
       "      <td>1.500</td>\n",
       "      <td>0.200</td>\n",
       "      <td>setosa</td>\n",
       "    </tr>\n",
       "    <tr>\n",
       "      <th>12</th>\n",
       "      <td>4.800</td>\n",
       "      <td>3.400</td>\n",
       "      <td>1.600</td>\n",
       "      <td>0.200</td>\n",
       "      <td>setosa</td>\n",
       "    </tr>\n",
       "    <tr>\n",
       "      <th>13</th>\n",
       "      <td>4.800</td>\n",
       "      <td>3.000</td>\n",
       "      <td>1.400</td>\n",
       "      <td>0.100</td>\n",
       "      <td>setosa</td>\n",
       "    </tr>\n",
       "    <tr>\n",
       "      <th>14</th>\n",
       "      <td>4.300</td>\n",
       "      <td>3.000</td>\n",
       "      <td>1.100</td>\n",
       "      <td>0.100</td>\n",
       "      <td>setosa</td>\n",
       "    </tr>\n",
       "    <tr>\n",
       "      <th>15</th>\n",
       "      <td>5.800</td>\n",
       "      <td>4.000</td>\n",
       "      <td>1.200</td>\n",
       "      <td>0.200</td>\n",
       "      <td>setosa</td>\n",
       "    </tr>\n",
       "    <tr>\n",
       "      <th>16</th>\n",
       "      <td>5.700</td>\n",
       "      <td>4.400</td>\n",
       "      <td>1.500</td>\n",
       "      <td>0.400</td>\n",
       "      <td>setosa</td>\n",
       "    </tr>\n",
       "    <tr>\n",
       "      <th>17</th>\n",
       "      <td>5.400</td>\n",
       "      <td>3.900</td>\n",
       "      <td>1.300</td>\n",
       "      <td>0.400</td>\n",
       "      <td>setosa</td>\n",
       "    </tr>\n",
       "    <tr>\n",
       "      <th>18</th>\n",
       "      <td>5.100</td>\n",
       "      <td>3.500</td>\n",
       "      <td>1.400</td>\n",
       "      <td>0.300</td>\n",
       "      <td>setosa</td>\n",
       "    </tr>\n",
       "    <tr>\n",
       "      <th>19</th>\n",
       "      <td>5.700</td>\n",
       "      <td>3.800</td>\n",
       "      <td>1.700</td>\n",
       "      <td>0.300</td>\n",
       "      <td>setosa</td>\n",
       "    </tr>\n",
       "    <tr>\n",
       "      <th>20</th>\n",
       "      <td>5.100</td>\n",
       "      <td>3.800</td>\n",
       "      <td>1.500</td>\n",
       "      <td>0.300</td>\n",
       "      <td>setosa</td>\n",
       "    </tr>\n",
       "    <tr>\n",
       "      <th>21</th>\n",
       "      <td>5.400</td>\n",
       "      <td>3.400</td>\n",
       "      <td>1.700</td>\n",
       "      <td>0.200</td>\n",
       "      <td>setosa</td>\n",
       "    </tr>\n",
       "    <tr>\n",
       "      <th>22</th>\n",
       "      <td>5.100</td>\n",
       "      <td>3.700</td>\n",
       "      <td>1.500</td>\n",
       "      <td>0.400</td>\n",
       "      <td>setosa</td>\n",
       "    </tr>\n",
       "    <tr>\n",
       "      <th>23</th>\n",
       "      <td>4.600</td>\n",
       "      <td>3.600</td>\n",
       "      <td>1.000</td>\n",
       "      <td>0.200</td>\n",
       "      <td>setosa</td>\n",
       "    </tr>\n",
       "    <tr>\n",
       "      <th>24</th>\n",
       "      <td>5.100</td>\n",
       "      <td>3.300</td>\n",
       "      <td>1.700</td>\n",
       "      <td>0.500</td>\n",
       "      <td>setosa</td>\n",
       "    </tr>\n",
       "    <tr>\n",
       "      <th>25</th>\n",
       "      <td>4.800</td>\n",
       "      <td>3.400</td>\n",
       "      <td>1.900</td>\n",
       "      <td>0.200</td>\n",
       "      <td>setosa</td>\n",
       "    </tr>\n",
       "    <tr>\n",
       "      <th>26</th>\n",
       "      <td>5.000</td>\n",
       "      <td>3.000</td>\n",
       "      <td>1.600</td>\n",
       "      <td>0.200</td>\n",
       "      <td>setosa</td>\n",
       "    </tr>\n",
       "    <tr>\n",
       "      <th>27</th>\n",
       "      <td>5.000</td>\n",
       "      <td>3.400</td>\n",
       "      <td>1.600</td>\n",
       "      <td>0.400</td>\n",
       "      <td>setosa</td>\n",
       "    </tr>\n",
       "    <tr>\n",
       "      <th>28</th>\n",
       "      <td>5.200</td>\n",
       "      <td>3.500</td>\n",
       "      <td>1.500</td>\n",
       "      <td>0.200</td>\n",
       "      <td>setosa</td>\n",
       "    </tr>\n",
       "    <tr>\n",
       "      <th>29</th>\n",
       "      <td>5.200</td>\n",
       "      <td>3.400</td>\n",
       "      <td>1.400</td>\n",
       "      <td>0.200</td>\n",
       "      <td>setosa</td>\n",
       "    </tr>\n",
       "    <tr>\n",
       "      <th>30</th>\n",
       "      <td>4.700</td>\n",
       "      <td>3.200</td>\n",
       "      <td>1.600</td>\n",
       "      <td>0.200</td>\n",
       "      <td>setosa</td>\n",
       "    </tr>\n",
       "    <tr>\n",
       "      <th>...</th>\n",
       "      <td>...</td>\n",
       "      <td>...</td>\n",
       "      <td>...</td>\n",
       "      <td>...</td>\n",
       "      <td>...</td>\n",
       "    </tr>\n",
       "    <tr>\n",
       "      <th>121</th>\n",
       "      <td>6.900</td>\n",
       "      <td>3.200</td>\n",
       "      <td>5.700</td>\n",
       "      <td>2.300</td>\n",
       "      <td>virginica</td>\n",
       "    </tr>\n",
       "    <tr>\n",
       "      <th>122</th>\n",
       "      <td>5.600</td>\n",
       "      <td>2.800</td>\n",
       "      <td>4.900</td>\n",
       "      <td>2.000</td>\n",
       "      <td>virginica</td>\n",
       "    </tr>\n",
       "    <tr>\n",
       "      <th>123</th>\n",
       "      <td>7.700</td>\n",
       "      <td>2.800</td>\n",
       "      <td>6.700</td>\n",
       "      <td>2.000</td>\n",
       "      <td>virginica</td>\n",
       "    </tr>\n",
       "    <tr>\n",
       "      <th>124</th>\n",
       "      <td>6.300</td>\n",
       "      <td>2.700</td>\n",
       "      <td>4.900</td>\n",
       "      <td>1.800</td>\n",
       "      <td>virginica</td>\n",
       "    </tr>\n",
       "    <tr>\n",
       "      <th>125</th>\n",
       "      <td>6.700</td>\n",
       "      <td>3.300</td>\n",
       "      <td>5.700</td>\n",
       "      <td>2.100</td>\n",
       "      <td>virginica</td>\n",
       "    </tr>\n",
       "    <tr>\n",
       "      <th>126</th>\n",
       "      <td>7.200</td>\n",
       "      <td>3.200</td>\n",
       "      <td>6.000</td>\n",
       "      <td>1.800</td>\n",
       "      <td>virginica</td>\n",
       "    </tr>\n",
       "    <tr>\n",
       "      <th>127</th>\n",
       "      <td>6.200</td>\n",
       "      <td>2.800</td>\n",
       "      <td>4.800</td>\n",
       "      <td>1.800</td>\n",
       "      <td>virginica</td>\n",
       "    </tr>\n",
       "    <tr>\n",
       "      <th>128</th>\n",
       "      <td>6.100</td>\n",
       "      <td>3.000</td>\n",
       "      <td>4.900</td>\n",
       "      <td>1.800</td>\n",
       "      <td>virginica</td>\n",
       "    </tr>\n",
       "    <tr>\n",
       "      <th>129</th>\n",
       "      <td>6.400</td>\n",
       "      <td>2.800</td>\n",
       "      <td>5.600</td>\n",
       "      <td>2.100</td>\n",
       "      <td>virginica</td>\n",
       "    </tr>\n",
       "    <tr>\n",
       "      <th>130</th>\n",
       "      <td>7.200</td>\n",
       "      <td>3.000</td>\n",
       "      <td>5.800</td>\n",
       "      <td>1.600</td>\n",
       "      <td>virginica</td>\n",
       "    </tr>\n",
       "    <tr>\n",
       "      <th>131</th>\n",
       "      <td>7.400</td>\n",
       "      <td>2.800</td>\n",
       "      <td>6.100</td>\n",
       "      <td>1.900</td>\n",
       "      <td>virginica</td>\n",
       "    </tr>\n",
       "    <tr>\n",
       "      <th>132</th>\n",
       "      <td>7.900</td>\n",
       "      <td>3.800</td>\n",
       "      <td>6.400</td>\n",
       "      <td>2.000</td>\n",
       "      <td>virginica</td>\n",
       "    </tr>\n",
       "    <tr>\n",
       "      <th>133</th>\n",
       "      <td>6.400</td>\n",
       "      <td>2.800</td>\n",
       "      <td>5.600</td>\n",
       "      <td>2.200</td>\n",
       "      <td>virginica</td>\n",
       "    </tr>\n",
       "    <tr>\n",
       "      <th>134</th>\n",
       "      <td>6.300</td>\n",
       "      <td>2.800</td>\n",
       "      <td>5.100</td>\n",
       "      <td>1.500</td>\n",
       "      <td>virginica</td>\n",
       "    </tr>\n",
       "    <tr>\n",
       "      <th>135</th>\n",
       "      <td>6.100</td>\n",
       "      <td>2.600</td>\n",
       "      <td>5.600</td>\n",
       "      <td>1.400</td>\n",
       "      <td>virginica</td>\n",
       "    </tr>\n",
       "    <tr>\n",
       "      <th>136</th>\n",
       "      <td>7.700</td>\n",
       "      <td>3.000</td>\n",
       "      <td>6.100</td>\n",
       "      <td>2.300</td>\n",
       "      <td>virginica</td>\n",
       "    </tr>\n",
       "    <tr>\n",
       "      <th>137</th>\n",
       "      <td>6.300</td>\n",
       "      <td>3.400</td>\n",
       "      <td>5.600</td>\n",
       "      <td>2.400</td>\n",
       "      <td>virginica</td>\n",
       "    </tr>\n",
       "    <tr>\n",
       "      <th>138</th>\n",
       "      <td>6.400</td>\n",
       "      <td>3.100</td>\n",
       "      <td>5.500</td>\n",
       "      <td>1.800</td>\n",
       "      <td>virginica</td>\n",
       "    </tr>\n",
       "    <tr>\n",
       "      <th>139</th>\n",
       "      <td>6.000</td>\n",
       "      <td>3.000</td>\n",
       "      <td>4.800</td>\n",
       "      <td>1.800</td>\n",
       "      <td>virginica</td>\n",
       "    </tr>\n",
       "    <tr>\n",
       "      <th>140</th>\n",
       "      <td>6.900</td>\n",
       "      <td>3.100</td>\n",
       "      <td>5.400</td>\n",
       "      <td>2.100</td>\n",
       "      <td>virginica</td>\n",
       "    </tr>\n",
       "    <tr>\n",
       "      <th>141</th>\n",
       "      <td>6.700</td>\n",
       "      <td>3.100</td>\n",
       "      <td>5.600</td>\n",
       "      <td>2.400</td>\n",
       "      <td>virginica</td>\n",
       "    </tr>\n",
       "    <tr>\n",
       "      <th>142</th>\n",
       "      <td>6.900</td>\n",
       "      <td>3.100</td>\n",
       "      <td>5.100</td>\n",
       "      <td>2.300</td>\n",
       "      <td>virginica</td>\n",
       "    </tr>\n",
       "    <tr>\n",
       "      <th>143</th>\n",
       "      <td>5.800</td>\n",
       "      <td>2.700</td>\n",
       "      <td>5.100</td>\n",
       "      <td>1.900</td>\n",
       "      <td>virginica</td>\n",
       "    </tr>\n",
       "    <tr>\n",
       "      <th>144</th>\n",
       "      <td>6.800</td>\n",
       "      <td>3.200</td>\n",
       "      <td>5.900</td>\n",
       "      <td>2.300</td>\n",
       "      <td>virginica</td>\n",
       "    </tr>\n",
       "    <tr>\n",
       "      <th>145</th>\n",
       "      <td>6.700</td>\n",
       "      <td>3.300</td>\n",
       "      <td>5.700</td>\n",
       "      <td>2.500</td>\n",
       "      <td>virginica</td>\n",
       "    </tr>\n",
       "    <tr>\n",
       "      <th>146</th>\n",
       "      <td>6.700</td>\n",
       "      <td>3.000</td>\n",
       "      <td>5.200</td>\n",
       "      <td>2.300</td>\n",
       "      <td>virginica</td>\n",
       "    </tr>\n",
       "    <tr>\n",
       "      <th>147</th>\n",
       "      <td>6.300</td>\n",
       "      <td>2.500</td>\n",
       "      <td>5.000</td>\n",
       "      <td>1.900</td>\n",
       "      <td>virginica</td>\n",
       "    </tr>\n",
       "    <tr>\n",
       "      <th>148</th>\n",
       "      <td>6.500</td>\n",
       "      <td>3.000</td>\n",
       "      <td>5.200</td>\n",
       "      <td>2.000</td>\n",
       "      <td>virginica</td>\n",
       "    </tr>\n",
       "    <tr>\n",
       "      <th>149</th>\n",
       "      <td>6.200</td>\n",
       "      <td>3.400</td>\n",
       "      <td>5.400</td>\n",
       "      <td>2.300</td>\n",
       "      <td>virginica</td>\n",
       "    </tr>\n",
       "    <tr>\n",
       "      <th>150</th>\n",
       "      <td>5.900</td>\n",
       "      <td>3.000</td>\n",
       "      <td>5.100</td>\n",
       "      <td>1.800</td>\n",
       "      <td>virginica</td>\n",
       "    </tr>\n",
       "  </tbody>\n",
       "</table>\n",
       "<p>150 rows × 5 columns</p>\n",
       "</div>"
      ],
      "text/plain": [
       "     Sepal.Length  Sepal.Width  Petal.Length  Petal.Width    Species\n",
       "1           5.100        3.500         1.400        0.200     setosa\n",
       "2           4.900        3.000         1.400        0.200     setosa\n",
       "3           4.700        3.200         1.300        0.200     setosa\n",
       "4           4.600        3.100         1.500        0.200     setosa\n",
       "5           5.000        3.600         1.400        0.200     setosa\n",
       "6           5.400        3.900         1.700        0.400     setosa\n",
       "7           4.600        3.400         1.400        0.300     setosa\n",
       "8           5.000        3.400         1.500        0.200     setosa\n",
       "9           4.400        2.900         1.400        0.200     setosa\n",
       "10          4.900        3.100         1.500        0.100     setosa\n",
       "11          5.400        3.700         1.500        0.200     setosa\n",
       "12          4.800        3.400         1.600        0.200     setosa\n",
       "13          4.800        3.000         1.400        0.100     setosa\n",
       "14          4.300        3.000         1.100        0.100     setosa\n",
       "15          5.800        4.000         1.200        0.200     setosa\n",
       "16          5.700        4.400         1.500        0.400     setosa\n",
       "17          5.400        3.900         1.300        0.400     setosa\n",
       "18          5.100        3.500         1.400        0.300     setosa\n",
       "19          5.700        3.800         1.700        0.300     setosa\n",
       "20          5.100        3.800         1.500        0.300     setosa\n",
       "21          5.400        3.400         1.700        0.200     setosa\n",
       "22          5.100        3.700         1.500        0.400     setosa\n",
       "23          4.600        3.600         1.000        0.200     setosa\n",
       "24          5.100        3.300         1.700        0.500     setosa\n",
       "25          4.800        3.400         1.900        0.200     setosa\n",
       "26          5.000        3.000         1.600        0.200     setosa\n",
       "27          5.000        3.400         1.600        0.400     setosa\n",
       "28          5.200        3.500         1.500        0.200     setosa\n",
       "29          5.200        3.400         1.400        0.200     setosa\n",
       "30          4.700        3.200         1.600        0.200     setosa\n",
       "..            ...          ...           ...          ...        ...\n",
       "121         6.900        3.200         5.700        2.300  virginica\n",
       "122         5.600        2.800         4.900        2.000  virginica\n",
       "123         7.700        2.800         6.700        2.000  virginica\n",
       "124         6.300        2.700         4.900        1.800  virginica\n",
       "125         6.700        3.300         5.700        2.100  virginica\n",
       "126         7.200        3.200         6.000        1.800  virginica\n",
       "127         6.200        2.800         4.800        1.800  virginica\n",
       "128         6.100        3.000         4.900        1.800  virginica\n",
       "129         6.400        2.800         5.600        2.100  virginica\n",
       "130         7.200        3.000         5.800        1.600  virginica\n",
       "131         7.400        2.800         6.100        1.900  virginica\n",
       "132         7.900        3.800         6.400        2.000  virginica\n",
       "133         6.400        2.800         5.600        2.200  virginica\n",
       "134         6.300        2.800         5.100        1.500  virginica\n",
       "135         6.100        2.600         5.600        1.400  virginica\n",
       "136         7.700        3.000         6.100        2.300  virginica\n",
       "137         6.300        3.400         5.600        2.400  virginica\n",
       "138         6.400        3.100         5.500        1.800  virginica\n",
       "139         6.000        3.000         4.800        1.800  virginica\n",
       "140         6.900        3.100         5.400        2.100  virginica\n",
       "141         6.700        3.100         5.600        2.400  virginica\n",
       "142         6.900        3.100         5.100        2.300  virginica\n",
       "143         5.800        2.700         5.100        1.900  virginica\n",
       "144         6.800        3.200         5.900        2.300  virginica\n",
       "145         6.700        3.300         5.700        2.500  virginica\n",
       "146         6.700        3.000         5.200        2.300  virginica\n",
       "147         6.300        2.500         5.000        1.900  virginica\n",
       "148         6.500        3.000         5.200        2.000  virginica\n",
       "149         6.200        3.400         5.400        2.300  virginica\n",
       "150         5.900        3.000         5.100        1.800  virginica\n",
       "\n",
       "[150 rows x 5 columns]"
      ]
     },
     "execution_count": 3,
     "metadata": {},
     "output_type": "execute_result"
    }
   ],
   "source": [
    "# Reindexed dataset to begin at 1.\n",
    "iris.rename(index = lambda x: x + 1)"
   ]
  },
  {
   "cell_type": "markdown",
   "metadata": {},
   "source": [
    "### Question 1\n",
    "#### A.  \n",
    "This dataset has five columns (or attributes) named: \n",
    "* __Sepal.Length__ - Length in cm of the sepals of the observed specimen\n",
    "* __Sepal.Width__ -  Width in cm of the sepals of the observed specimen\n",
    "* __Petal.Length__ - Length in cm of the petals of the observed specimen\n",
    "* __Petal.Width__ - Width in cm of the petals of the observed specimen\n",
    "* __Species__ - The recorded species of the specimen.\n",
    "\n",
    "#### B.  \n",
    "There are 150 observations (rows or entries) in this dataset."
   ]
  },
  {
   "cell_type": "code",
   "execution_count": 4,
   "metadata": {
    "scrolled": true
   },
   "outputs": [
    {
     "name": "stdout",
     "output_type": "stream",
     "text": [
      "<class 'pandas.core.frame.DataFrame'>\n",
      "RangeIndex: 150 entries, 0 to 149\n",
      "Data columns (total 5 columns):\n",
      "Sepal.Length    150 non-null float64\n",
      "Sepal.Width     150 non-null float64\n",
      "Petal.Length    150 non-null float64\n",
      "Petal.Width     150 non-null float64\n",
      "Species         150 non-null object\n",
      "dtypes: float64(4), object(1)\n",
      "memory usage: 5.9+ KB\n"
     ]
    }
   ],
   "source": [
    "# Print index, Datatypes and memory information of Iris dataset.\n",
    "iris.info()"
   ]
  },
  {
   "cell_type": "markdown",
   "metadata": {},
   "source": [
    "#### C.\n",
    "There are three unique species included in this dataset:"
   ]
  },
  {
   "cell_type": "code",
   "execution_count": 5,
   "metadata": {
    "scrolled": true
   },
   "outputs": [
    {
     "data": {
      "text/plain": [
       "setosa        50\n",
       "virginica     50\n",
       "versicolor    50\n",
       "Name: Species, dtype: int64"
      ]
     },
     "execution_count": 5,
     "metadata": {},
     "output_type": "execute_result"
    }
   ],
   "source": [
    "iris[\"Species\"].value_counts()"
   ]
  },
  {
   "cell_type": "markdown",
   "metadata": {},
   "source": [
    "### Question 2\n",
    "Fisher's iris dataset is well-known and widely used. Over the years mistakes were identified in the 35th and 38th rows of the data. \n",
    "\n",
    "Normally, these would need to be located using a 0 index, but the dataset has been reindexed to an initial index of 1. This makes identifying the errors in rows 35 and 38 more intuitive.\n"
   ]
  },
  {
   "cell_type": "code",
   "execution_count": 6,
   "metadata": {
    "scrolled": true
   },
   "outputs": [
    {
     "data": {
      "text/plain": [
       "Sepal.Length     5.000\n",
       "Sepal.Width      3.200\n",
       "Petal.Length     1.200\n",
       "Petal.Width      0.200\n",
       "Species         setosa\n",
       "Name: 35, dtype: object"
      ]
     },
     "execution_count": 6,
     "metadata": {},
     "output_type": "execute_result"
    }
   ],
   "source": [
    "# Print the data in the 35th row.\n",
    "iris.loc[35]"
   ]
  },
  {
   "cell_type": "markdown",
   "metadata": {},
   "source": [
    "The correct data for the specimen in the 35th row is:\n",
    "[4.9,3.1,1.5,0.2,\"Iris-setosa\"]"
   ]
  },
  {
   "cell_type": "code",
   "execution_count": 7,
   "metadata": {
    "scrolled": true
   },
   "outputs": [],
   "source": [
    "iris.loc[35,:]= 4.9,3.1,1.5,0.2,\"setosa\""
   ]
  },
  {
   "cell_type": "code",
   "execution_count": 8,
   "metadata": {
    "scrolled": true
   },
   "outputs": [
    {
     "data": {
      "text/plain": [
       "Sepal.Length     4.900\n",
       "Sepal.Width      3.100\n",
       "Petal.Length     1.500\n",
       "Petal.Width      0.200\n",
       "Species         setosa\n",
       "Name: 35, dtype: object"
      ]
     },
     "execution_count": 8,
     "metadata": {},
     "output_type": "execute_result"
    }
   ],
   "source": [
    "# Ensure that the correct data is in the 35th row.\n",
    "iris.loc[35]"
   ]
  },
  {
   "cell_type": "markdown",
   "metadata": {},
   "source": [
    "The same process was used to correct the error in row 38."
   ]
  },
  {
   "cell_type": "code",
   "execution_count": 9,
   "metadata": {
    "scrolled": true
   },
   "outputs": [
    {
     "data": {
      "text/plain": [
       "Sepal.Length     4.400\n",
       "Sepal.Width      3.000\n",
       "Petal.Length     1.300\n",
       "Petal.Width      0.200\n",
       "Species         setosa\n",
       "Name: 38, dtype: object"
      ]
     },
     "execution_count": 9,
     "metadata": {},
     "output_type": "execute_result"
    }
   ],
   "source": [
    "# Print data in the 38th row.\n",
    "iris.loc[38]"
   ]
  },
  {
   "cell_type": "markdown",
   "metadata": {},
   "source": [
    "The correct data for the specimen in the 38th row is: [4.9,3.6,1.4,0.1,\"Iris-setosa\"]"
   ]
  },
  {
   "cell_type": "code",
   "execution_count": 10,
   "metadata": {
    "scrolled": true
   },
   "outputs": [],
   "source": [
    "iris.loc[38,:]= 4.9,3.6,1.4,0.1,\"setosa\""
   ]
  },
  {
   "cell_type": "code",
   "execution_count": 11,
   "metadata": {
    "scrolled": true
   },
   "outputs": [
    {
     "data": {
      "text/plain": [
       "Sepal.Length     4.900\n",
       "Sepal.Width      3.600\n",
       "Petal.Length     1.400\n",
       "Petal.Width      0.100\n",
       "Species         setosa\n",
       "Name: 38, dtype: object"
      ]
     },
     "execution_count": 11,
     "metadata": {},
     "output_type": "execute_result"
    }
   ],
   "source": [
    "# Ensure that the correct data is in the 38th row.\n",
    "iris.loc[38]"
   ]
  },
  {
   "cell_type": "markdown",
   "metadata": {},
   "source": [
    "### Question 3\n",
    "Add two new columns to the iris dataframe:\n",
    "* __\"Petal.Ratio\"__ - the ratio of the petal length to petal width\n",
    "* __\"Sepal.Ratio\"__ - the ratio of the sepal length to sepal width  \n",
    "\n",
    "The ratios will be computed using simple division. Custom functions will be created to calculate these ratios. These newly calculated ratios will be applied to the newly appended columns."
   ]
  },
  {
   "cell_type": "code",
   "execution_count": 12,
   "metadata": {
    "scrolled": true
   },
   "outputs": [],
   "source": [
    "# Create a function to calculate Petal ratios that can be applied to the dataframe\n",
    "def ratioPetals(row):\n",
    "    return (row[\"Petal.Length\"]/row[\"Petal.Width\"])"
   ]
  },
  {
   "cell_type": "code",
   "execution_count": 13,
   "metadata": {
    "scrolled": true
   },
   "outputs": [
    {
     "data": {
      "text/html": [
       "<div>\n",
       "<style scoped>\n",
       "    .dataframe tbody tr th:only-of-type {\n",
       "        vertical-align: middle;\n",
       "    }\n",
       "\n",
       "    .dataframe tbody tr th {\n",
       "        vertical-align: top;\n",
       "    }\n",
       "\n",
       "    .dataframe thead th {\n",
       "        text-align: right;\n",
       "    }\n",
       "</style>\n",
       "<table border=\"1\" class=\"dataframe\">\n",
       "  <thead>\n",
       "    <tr style=\"text-align: right;\">\n",
       "      <th></th>\n",
       "      <th>Sepal.Length</th>\n",
       "      <th>Sepal.Width</th>\n",
       "      <th>Petal.Length</th>\n",
       "      <th>Petal.Width</th>\n",
       "      <th>Species</th>\n",
       "      <th>Petal.Ratio</th>\n",
       "    </tr>\n",
       "  </thead>\n",
       "  <tbody>\n",
       "    <tr>\n",
       "      <th>0</th>\n",
       "      <td>5.100</td>\n",
       "      <td>3.500</td>\n",
       "      <td>1.400</td>\n",
       "      <td>0.200</td>\n",
       "      <td>setosa</td>\n",
       "      <td>7.000</td>\n",
       "    </tr>\n",
       "    <tr>\n",
       "      <th>1</th>\n",
       "      <td>4.900</td>\n",
       "      <td>3.000</td>\n",
       "      <td>1.400</td>\n",
       "      <td>0.200</td>\n",
       "      <td>setosa</td>\n",
       "      <td>7.000</td>\n",
       "    </tr>\n",
       "    <tr>\n",
       "      <th>2</th>\n",
       "      <td>4.700</td>\n",
       "      <td>3.200</td>\n",
       "      <td>1.300</td>\n",
       "      <td>0.200</td>\n",
       "      <td>setosa</td>\n",
       "      <td>6.500</td>\n",
       "    </tr>\n",
       "    <tr>\n",
       "      <th>3</th>\n",
       "      <td>4.600</td>\n",
       "      <td>3.100</td>\n",
       "      <td>1.500</td>\n",
       "      <td>0.200</td>\n",
       "      <td>setosa</td>\n",
       "      <td>7.500</td>\n",
       "    </tr>\n",
       "    <tr>\n",
       "      <th>4</th>\n",
       "      <td>5.000</td>\n",
       "      <td>3.600</td>\n",
       "      <td>1.400</td>\n",
       "      <td>0.200</td>\n",
       "      <td>setosa</td>\n",
       "      <td>7.000</td>\n",
       "    </tr>\n",
       "  </tbody>\n",
       "</table>\n",
       "</div>"
      ],
      "text/plain": [
       "   Sepal.Length  Sepal.Width  Petal.Length  Petal.Width Species  Petal.Ratio\n",
       "0         5.100        3.500         1.400        0.200  setosa        7.000\n",
       "1         4.900        3.000         1.400        0.200  setosa        7.000\n",
       "2         4.700        3.200         1.300        0.200  setosa        6.500\n",
       "3         4.600        3.100         1.500        0.200  setosa        7.500\n",
       "4         5.000        3.600         1.400        0.200  setosa        7.000"
      ]
     },
     "execution_count": 13,
     "metadata": {},
     "output_type": "execute_result"
    }
   ],
   "source": [
    "# Calculate and fill Petal.ratio into correct column\n",
    "iris[\"Petal.Ratio\"] = iris.apply(ratioPetals, axis=1)\n",
    "iris.head()"
   ]
  },
  {
   "cell_type": "code",
   "execution_count": 14,
   "metadata": {
    "scrolled": true
   },
   "outputs": [],
   "source": [
    "# Create a function to calculate Sepal ratios that can be applied to the dataframe\n",
    "def ratioSepals(row):\n",
    "    return (row[\"Sepal.Length\"]/row[\"Sepal.Width\"])"
   ]
  },
  {
   "cell_type": "code",
   "execution_count": 15,
   "metadata": {
    "scrolled": true
   },
   "outputs": [
    {
     "data": {
      "text/html": [
       "<div>\n",
       "<style scoped>\n",
       "    .dataframe tbody tr th:only-of-type {\n",
       "        vertical-align: middle;\n",
       "    }\n",
       "\n",
       "    .dataframe tbody tr th {\n",
       "        vertical-align: top;\n",
       "    }\n",
       "\n",
       "    .dataframe thead th {\n",
       "        text-align: right;\n",
       "    }\n",
       "</style>\n",
       "<table border=\"1\" class=\"dataframe\">\n",
       "  <thead>\n",
       "    <tr style=\"text-align: right;\">\n",
       "      <th></th>\n",
       "      <th>Sepal.Length</th>\n",
       "      <th>Sepal.Width</th>\n",
       "      <th>Petal.Length</th>\n",
       "      <th>Petal.Width</th>\n",
       "      <th>Species</th>\n",
       "      <th>Petal.Ratio</th>\n",
       "      <th>Sepal.Ratio</th>\n",
       "    </tr>\n",
       "  </thead>\n",
       "  <tbody>\n",
       "    <tr>\n",
       "      <th>0</th>\n",
       "      <td>5.100</td>\n",
       "      <td>3.500</td>\n",
       "      <td>1.400</td>\n",
       "      <td>0.200</td>\n",
       "      <td>setosa</td>\n",
       "      <td>7.000</td>\n",
       "      <td>1.457</td>\n",
       "    </tr>\n",
       "    <tr>\n",
       "      <th>1</th>\n",
       "      <td>4.900</td>\n",
       "      <td>3.000</td>\n",
       "      <td>1.400</td>\n",
       "      <td>0.200</td>\n",
       "      <td>setosa</td>\n",
       "      <td>7.000</td>\n",
       "      <td>1.633</td>\n",
       "    </tr>\n",
       "    <tr>\n",
       "      <th>2</th>\n",
       "      <td>4.700</td>\n",
       "      <td>3.200</td>\n",
       "      <td>1.300</td>\n",
       "      <td>0.200</td>\n",
       "      <td>setosa</td>\n",
       "      <td>6.500</td>\n",
       "      <td>1.469</td>\n",
       "    </tr>\n",
       "    <tr>\n",
       "      <th>3</th>\n",
       "      <td>4.600</td>\n",
       "      <td>3.100</td>\n",
       "      <td>1.500</td>\n",
       "      <td>0.200</td>\n",
       "      <td>setosa</td>\n",
       "      <td>7.500</td>\n",
       "      <td>1.484</td>\n",
       "    </tr>\n",
       "    <tr>\n",
       "      <th>4</th>\n",
       "      <td>5.000</td>\n",
       "      <td>3.600</td>\n",
       "      <td>1.400</td>\n",
       "      <td>0.200</td>\n",
       "      <td>setosa</td>\n",
       "      <td>7.000</td>\n",
       "      <td>1.389</td>\n",
       "    </tr>\n",
       "  </tbody>\n",
       "</table>\n",
       "</div>"
      ],
      "text/plain": [
       "   Sepal.Length  Sepal.Width  Petal.Length  Petal.Width Species  Petal.Ratio  \\\n",
       "0         5.100        3.500         1.400        0.200  setosa        7.000   \n",
       "1         4.900        3.000         1.400        0.200  setosa        7.000   \n",
       "2         4.700        3.200         1.300        0.200  setosa        6.500   \n",
       "3         4.600        3.100         1.500        0.200  setosa        7.500   \n",
       "4         5.000        3.600         1.400        0.200  setosa        7.000   \n",
       "\n",
       "   Sepal.Ratio  \n",
       "0        1.457  \n",
       "1        1.633  \n",
       "2        1.469  \n",
       "3        1.484  \n",
       "4        1.389  "
      ]
     },
     "execution_count": 15,
     "metadata": {},
     "output_type": "execute_result"
    }
   ],
   "source": [
    "# Calculate and fill Sepal.ratio into correct column\n",
    "iris[\"Sepal.Ratio\"] = iris.apply(ratioSepals, axis=1)\n",
    "iris.head()"
   ]
  },
  {
   "cell_type": "markdown",
   "metadata": {},
   "source": [
    "### Question 4\n",
    "Determine the mean, median, minimum, maximum and standard deviation of the Petal and Sepal Ratio for each species."
   ]
  },
  {
   "cell_type": "markdown",
   "metadata": {},
   "source": [
    "#### Setosa\n",
    "\n",
    "##### Petal Ratio - Min, Max, Mean, Median, and Standard Deviation\n",
    "\n",
    "The Minimum value for Petal Ratio in the Setosa subset was 2.7 with a Maximum value of 15.0. With a Mean of 7.26 being larger than the Median value of 7.00 indicates that this ratio is right-skewed. The Standard Deviation was found to be 3.265."
   ]
  },
  {
   "cell_type": "code",
   "execution_count": 16,
   "metadata": {
    "scrolled": true
   },
   "outputs": [],
   "source": [
    "# Create the setosa subset of data\n",
    "setosa=iris[iris[\"Species\"]==\"setosa\"]"
   ]
  },
  {
   "cell_type": "code",
   "execution_count": 17,
   "metadata": {
    "scrolled": true
   },
   "outputs": [
    {
     "data": {
      "image/png": "[encoded data removed]",
      "text/plain": [
       "<matplotlib.figure.Figure at 0x25b27b75ba8>"
      ]
     },
     "metadata": {},
     "output_type": "display_data"
    }
   ],
   "source": [
    "# Create a boxplot for Setosa Petal.Ratio\n",
    "setosa.boxplot(column=\"Petal.Ratio\",sym=\"\");"
   ]
  },
  {
   "cell_type": "code",
   "execution_count": 18,
   "metadata": {
    "scrolled": true
   },
   "outputs": [
    {
     "data": {
      "text/plain": [
       "count   50.000\n",
       "mean     7.258\n",
       "std      3.267\n",
       "min      2.667\n",
       "25%      4.688\n",
       "50%      7.000\n",
       "75%      8.000\n",
       "max     15.000\n",
       "Name: Petal.Ratio, dtype: float64"
      ]
     },
     "execution_count": 18,
     "metadata": {},
     "output_type": "execute_result"
    }
   ],
   "source": [
    "# Run Descriptive statistics on setosa Petal.Ratio\n",
    "setosa[\"Petal.Ratio\"].describe()"
   ]
  },
  {
   "cell_type": "markdown",
   "metadata": {},
   "source": [
    "##### Sepal Ratio\n",
    "The Minimum value for the sepal ratio of setosa was 1.268 with a Maximum value of 1.957. The Mean of 1.473 was only slightly larger than the Median of 1.464 indicating that this boxplot is almost symmetrical. The Standard Deviation of this set was found to be 0.120."
   ]
  },
  {
   "cell_type": "code",
   "execution_count": 19,
   "metadata": {
    "scrolled": true
   },
   "outputs": [
    {
     "data": {
      "image/png": "[encoded data removed]",
      "text/plain": [
       "<matplotlib.figure.Figure at 0x25b27c11978>"
      ]
     },
     "metadata": {},
     "output_type": "display_data"
    }
   ],
   "source": [
    "# Create a boxplot for setosa Sepal.Ratio\n",
    "setosa.boxplot(column=\"Sepal.Ratio\",sym=\"\");"
   ]
  },
  {
   "cell_type": "code",
   "execution_count": 20,
   "metadata": {
    "scrolled": true
   },
   "outputs": [
    {
     "data": {
      "text/plain": [
       "count   50.000\n",
       "mean     1.473\n",
       "std      0.120\n",
       "min      1.268\n",
       "25%      1.386\n",
       "50%      1.464\n",
       "75%      1.548\n",
       "max      1.957\n",
       "Name: Sepal.Ratio, dtype: float64"
      ]
     },
     "execution_count": 20,
     "metadata": {},
     "output_type": "execute_result"
    }
   ],
   "source": [
    "# Run Descriptive statistics on setosa Sepal.Ratio\n",
    "setosa[\"Sepal.Ratio\"].describe()"
   ]
  },
  {
   "cell_type": "markdown",
   "metadata": {},
   "source": [
    "#### Versicolor\n",
    "##### Petal Ratio Analysis\n",
    "The Minimum value of the Versicolor species petal ratio is 2.700 with a Maximum value of 4.100 and a Standard Deviation of 0.313. The Mean is 3.244 and the median is 3.200. These values would indicate that this dataset is near symmetrical, but the graphic indicates that this is sligthly left-skewed."
   ]
  },
  {
   "cell_type": "code",
   "execution_count": 21,
   "metadata": {
    "scrolled": true
   },
   "outputs": [],
   "source": [
    "# Create versicolor subset of data\n",
    "versicolor=iris[iris[\"Species\"]==\"versicolor\"]"
   ]
  },
  {
   "cell_type": "code",
   "execution_count": 22,
   "metadata": {
    "scrolled": true
   },
   "outputs": [
    {
     "data": {
      "image/png": "[encoded data removed]",
      "text/plain": [
       "<matplotlib.figure.Figure at 0x25b27c37ef0>"
      ]
     },
     "metadata": {},
     "output_type": "display_data"
    }
   ],
   "source": [
    "# Create a boxplot for versicolor Petal.Ratio\n",
    "versicolor.boxplot(column=\"Petal.Ratio\",sym=\"\");"
   ]
  },
  {
   "cell_type": "code",
   "execution_count": 23,
   "metadata": {
    "scrolled": true
   },
   "outputs": [
    {
     "data": {
      "text/plain": [
       "count   50.000\n",
       "mean     3.243\n",
       "std      0.312\n",
       "min      2.667\n",
       "25%      3.017\n",
       "50%      3.240\n",
       "75%      3.418\n",
       "max      4.100\n",
       "Name: Petal.Ratio, dtype: float64"
      ]
     },
     "execution_count": 23,
     "metadata": {},
     "output_type": "execute_result"
    }
   ],
   "source": [
    "# Run Descriptive statistics on versicolor Petal.Ratio\n",
    "versicolor[\"Petal.Ratio\"].describe()"
   ]
  },
  {
   "cell_type": "markdown",
   "metadata": {},
   "source": [
    "#### Sepal Ratio Analysis\n",
    "The Minimum value found for versicolor sepal ratio was 1.765 with a Maximum value of  2.818 and a Standard Deviation of 0.229. A Mean of 2.160 and Median of 2.161 indicates that this data set is nearly symmetrical."
   ]
  },
  {
   "cell_type": "code",
   "execution_count": 24,
   "metadata": {
    "scrolled": true
   },
   "outputs": [
    {
     "data": {
      "image/png": "[encoded data removed]",
      "text/plain": [
       "<matplotlib.figure.Figure at 0x25b27d017b8>"
      ]
     },
     "metadata": {},
     "output_type": "display_data"
    }
   ],
   "source": [
    "# Create a boxplot for versicolor Sepal.Ratio\n",
    "versicolor.boxplot(column=\"Sepal.Ratio\",sym=\"\");"
   ]
  },
  {
   "cell_type": "code",
   "execution_count": 25,
   "metadata": {
    "scrolled": true
   },
   "outputs": [
    {
     "data": {
      "text/plain": [
       "count   50.000\n",
       "mean     2.160\n",
       "std      0.229\n",
       "min      1.765\n",
       "25%      2.034\n",
       "50%      2.161\n",
       "75%      2.233\n",
       "max      2.818\n",
       "Name: Sepal.Ratio, dtype: float64"
      ]
     },
     "execution_count": 25,
     "metadata": {},
     "output_type": "execute_result"
    }
   ],
   "source": [
    "# Run Descriptive statistics on versicolor Sepal.Ratio\n",
    "versicolor[\"Sepal.Ratio\"].describe()"
   ]
  },
  {
   "cell_type": "markdown",
   "metadata": {},
   "source": [
    "#### Virginica\n",
    "##### Petal Ratio Analysis\n",
    "The Minimum value of petal ratios for the virginica species is 2.100 with a Maximum value of 4.00 and Standard Deviation of 0.408. A Mean value of 2.776 and a Median value of 2.700 indicate that this data is skewed to the right. "
   ]
  },
  {
   "cell_type": "code",
   "execution_count": 26,
   "metadata": {
    "scrolled": true
   },
   "outputs": [],
   "source": [
    "# Create virginica subset of data\n",
    "virginica=iris[iris[\"Species\"]==\"virginica\"]"
   ]
  },
  {
   "cell_type": "code",
   "execution_count": 27,
   "metadata": {
    "scrolled": true
   },
   "outputs": [
    {
     "data": {
      "image/png": "[encoded data removed]",
      "text/plain": [
       "<matplotlib.figure.Figure at 0x25b27d9ab38>"
      ]
     },
     "metadata": {},
     "output_type": "display_data"
    }
   ],
   "source": [
    "# Create a boxplot for virginica Petal.Ratio\n",
    "virginica.boxplot(column=\"Petal.Ratio\",sym=\"\");"
   ]
  },
  {
   "cell_type": "code",
   "execution_count": 28,
   "metadata": {
    "scrolled": true
   },
   "outputs": [
    {
     "data": {
      "text/plain": [
       "count   50.000\n",
       "mean     2.781\n",
       "std      0.407\n",
       "min      2.125\n",
       "25%      2.511\n",
       "50%      2.667\n",
       "75%      3.056\n",
       "max      4.000\n",
       "Name: Petal.Ratio, dtype: float64"
      ]
     },
     "execution_count": 28,
     "metadata": {},
     "output_type": "execute_result"
    }
   ],
   "source": [
    "# Run Descriptive statistics on virginica Petal.Ratio\n",
    "virginica[\"Petal.Ratio\"].describe()"
   ]
  },
  {
   "cell_type": "markdown",
   "metadata": {},
   "source": [
    "##### Sepal Ratio Analysis\n",
    "The Minimum value of virginica sepal ratios is 1.824 with a Maximum value of 2.962 and Standard Deviation of 0.247. A Mean value of 2.230 and a Median value if 2.179 indicates that this dataset is skewed to the right."
   ]
  },
  {
   "cell_type": "code",
   "execution_count": 29,
   "metadata": {
    "scrolled": true
   },
   "outputs": [
    {
     "data": {
      "image/png": "[encoded data removed]",
      "text/plain": [
       "<matplotlib.figure.Figure at 0x25b27e0b048>"
      ]
     },
     "metadata": {},
     "output_type": "display_data"
    }
   ],
   "source": [
    "# Create a boxplot for virginica Sepal.Ratio using pandas native plotter\n",
    "virginica.boxplot(column=\"Sepal.Ratio\",sym=\"\");"
   ]
  },
  {
   "cell_type": "code",
   "execution_count": 30,
   "metadata": {
    "scrolled": true
   },
   "outputs": [
    {
     "data": {
      "text/plain": [
       "count   50.000\n",
       "mean     2.230\n",
       "std      0.247\n",
       "min      1.824\n",
       "25%      2.032\n",
       "50%      2.170\n",
       "75%      2.343\n",
       "max      2.962\n",
       "Name: Sepal.Ratio, dtype: float64"
      ]
     },
     "execution_count": 30,
     "metadata": {},
     "output_type": "execute_result"
    }
   ],
   "source": [
    "# Run Descriptive statistics on virginica Sepal.Ratio\n",
    "virginica[\"Sepal.Ratio\"].describe()"
   ]
  },
  {
   "cell_type": "markdown",
   "metadata": {},
   "source": [
    "# Project 2 - Iris Data Set Visualizations\n",
    "\n",
    "Ruben Pena  \n",
    "UN55550.2018  \n",
    "Python3  \n",
    "Due September 21, 2018 5:00pm "
   ]
  },
  {
   "cell_type": "code",
   "execution_count": 31,
   "metadata": {
    "scrolled": true
   },
   "outputs": [],
   "source": [
    "#Imports and set pyplot font sizes to 22.\n",
    "import matplotlib.pyplot as plt\n",
    "import seaborn as sns\n",
    "plt.rcParams.update({'font.size': 22})"
   ]
  },
  {
   "cell_type": "markdown",
   "metadata": {},
   "source": [
    "### Part 1\n",
    "_*Generate a box-and-whisker plot using the built-in boxplot function in the pandas package showing the distribution of the petal ratio for each of the three species. Describe how outliers were handled, and other useful features of the plot.*_\n",
    "\n",
    "For the plots below I decided to leave the outliers(fliers) shown as circles. Outliers can be highly informative. I did not exclude them because of their potential to inform the viewer of the skewness of the data. The outliers were included in the calculation of the quartiles making it less important to drop them from the plot. This is such a small dataset that these outliers could belong to a separate population within each species.\n",
    "\n",
    "Underneath the graphic is the descriptive statistics for the Setosa Petal Ratio. The boxplot matches the given values for all quartiles and the Max value for observations is included as an outlier. The upper fence whisker can be seen as being derived from either Maximum value or from the 3IQR. \n",
    "\n",
    "The visuals match up with the descriptive statistics for the other two species as well.\n",
    "\n",
    "In order to help confirm the skewness I added the means as a green triangle using the showmeans argument."
   ]
  },
  {
   "cell_type": "code",
   "execution_count": 32,
   "metadata": {
    "scrolled": true
   },
   "outputs": [],
   "source": [
    "#split petal ratio dataset into seperate dataframes for plotting\n",
    "setosaPR=setosa[\"Petal.Ratio\"]\n",
    "versiPR=versicolor[\"Petal.Ratio\"]\n",
    "virgiPR=virginica[\"Petal.Ratio\"]"
   ]
  },
  {
   "cell_type": "code",
   "execution_count": 33,
   "metadata": {
    "scrolled": false
   },
   "outputs": [
    {
     "data": {
      "image/png": "[encoded data removed]",
      "text/plain": [
       "<matplotlib.figure.Figure at 0x25b29a8ff28>"
      ]
     },
     "metadata": {},
     "output_type": "display_data"
    }
   ],
   "source": [
    "fig = plt.figure(figsize=(20,10))\n",
    "fig.suptitle(\"Petal Ratio Distributions\", fontsize=30)\n",
    "\n",
    "ax1 = fig.add_subplot(1,3,1)\n",
    "ax2 = fig.add_subplot(1,3,2)\n",
    "ax3 = fig.add_subplot(1,3,3)\n",
    "\n",
    "ax1.boxplot(setosaPR,showmeans=True)\n",
    "ax1.set(xlabel=(\"Setosa\"),ylabel=(\"Ratio of Petal Length to Petal Width\"),xticks=[],)\n",
    "\n",
    "ax2.boxplot(versiPR,showmeans=True)\n",
    "ax2.set(xlabel=(\"Versicolor\"),xticks=[])\n",
    "\n",
    "ax3.boxplot(virgiPR,showmeans=True)\n",
    "ax3.set(xlabel=(\"Virginica\"),xticks=[])\n",
    "\n",
    "plt.show()"
   ]
  },
  {
   "cell_type": "code",
   "execution_count": 34,
   "metadata": {},
   "outputs": [
    {
     "data": {
      "text/plain": [
       "count   50.000\n",
       "mean     7.258\n",
       "std      3.267\n",
       "min      2.667\n",
       "25%      4.688\n",
       "50%      7.000\n",
       "75%      8.000\n",
       "max     15.000\n",
       "Name: Petal.Ratio, dtype: float64"
      ]
     },
     "execution_count": 34,
     "metadata": {},
     "output_type": "execute_result"
    }
   ],
   "source": [
    "setosa[\"Petal.Ratio\"].describe()"
   ]
  },
  {
   "cell_type": "markdown",
   "metadata": {},
   "source": [
    "### Part 2\n",
    "*Create a similar plot and discussion for the sepal ratio, this time, using the boxplot function in the seaborn package*\n",
    "\n",
    "A similar process was used to create visuals for the distribution of Sepal Ratio among the three species. These visuals were created using the Seaborn library. This library offers customizations to visuals that can make them more aesthetically pleasing. \n",
    "\n",
    "As in the previous boxplots, the means were added as green triangles and can be seen near the median lines inside the box plots. Outliers were also left in here as they are usually highly descriptive (when they are not data entry or collection errors). \n",
    " \n",
    "Because the variance in units of Sepal Ratios between species was less drastic, all three boxplots fit well in the same figure. \n",
    "\n",
    "A color purple color palette helps to separate the boxplots and values. Boxplots are designed to give a \"quick and dirty\" visualization of data distribution. For that reason grid lines and values at every quartile are typically not necessary."
   ]
  },
  {
   "cell_type": "code",
   "execution_count": 35,
   "metadata": {},
   "outputs": [
    {
     "data": {
      "image/png": "[encoded data removed]",
      "text/plain": [
       "<matplotlib.figure.Figure at 0x25b29a8fc18>"
      ]
     },
     "metadata": {},
     "output_type": "display_data"
    }
   ],
   "source": [
    "plt.figure(figsize=(20,15))\n",
    "sns.boxplot(x=\"Species\",y=\"Sepal.Ratio\" ,data=iris,showmeans=True,palette=\"Purples\").set_title('Sepal Ratios of Irises');"
   ]
  },
  {
   "cell_type": "code",
   "execution_count": 36,
   "metadata": {},
   "outputs": [
    {
     "data": {
      "text/plain": [
       "count   50.000\n",
       "mean     1.473\n",
       "std      0.120\n",
       "min      1.268\n",
       "25%      1.386\n",
       "50%      1.464\n",
       "75%      1.548\n",
       "max      1.957\n",
       "Name: Sepal.Ratio, dtype: float64"
      ]
     },
     "execution_count": 36,
     "metadata": {},
     "output_type": "execute_result"
    }
   ],
   "source": [
    "setosa[\"Sepal.Ratio\"].describe()"
   ]
  },
  {
   "cell_type": "markdown",
   "metadata": {},
   "source": [
    "### Part 3\n",
    "\n",
    "*Summarize and generate a violin plot using the seaborn package for the sepal ratio. Discuss the pros and cons of the boxplot versus the violin plot*\n",
    "\n",
    "While boxplots efficiently display summary statistics, violin plots do the same but more. Within the violin plot the interquartile range(IQR) is identified as a thicker bar. The median is represented as a white dot. The thin lines extending from the IQR represent the 95% confidence interval. \n",
    "\n",
    "The most interesting part of the violin plot is the shaded area surrounding the \"boxplot\" within. This is an overlay of a kernel density estimate that shows the distribution shape and probability that values will fall in that particular range. The wider the colored section is, the higher chance that values will fall in that range of values and vice versa. \n",
    "\n",
    "Overall, violin plots are more informative, but more difficult to interpret if one is not familiar with their conventions. I think the choice of a boxplot versus a violin plot would have to be tailored to the intended audience. If the audience is familiar with statistics and the various graphs used therein; violin plots would be the likely choice.\n"
   ]
  },
  {
   "cell_type": "code",
   "execution_count": 37,
   "metadata": {},
   "outputs": [
    {
     "data": {
      "image/png": "[encoded data removed]",
      "text/plain": [
       "<matplotlib.figure.Figure at 0x25b27e1a2e8>"
      ]
     },
     "metadata": {},
     "output_type": "display_data"
    }
   ],
   "source": [
    "plt.figure(figsize=(20,15))\n",
    "sns.violinplot(x=\"Species\",y=\"Sepal.Ratio\" ,data=iris,showmeans=True, palette=\"Blues\").set_title('Sepal Ratios of Irises');"
   ]
  },
  {
   "cell_type": "markdown",
   "metadata": {},
   "source": [
    "### Part 4\n",
    "\n",
    "*Make a scatter matrix plot for the four original features (petal width, petal length, sepal width and sepal length). Be sure to color each point in the scatter plot according to the species*\n",
    "\n",
    "The scatter plot matrix is a useful chart to check for pairwise correlation between variables. \n",
    "\n",
    "Below is a comparison of the original variables in the iris data set (sorted by species). The results indicate that the versicolor and viginica species are somewhat correlated in serveral measurement variables, while setosa measurements are generally not correlated to those of the other two species; the closes correlation between all species lies within the sepal measurements.\n"
   ]
  },
  {
   "cell_type": "code",
   "execution_count": 38,
   "metadata": {},
   "outputs": [
    {
     "data": {
      "image/png": "[encoded data removed]",
      "text/plain": [
       "<matplotlib.figure.Figure at 0x25b27d552e8>"
      ]
     },
     "metadata": {},
     "output_type": "display_data"
    }
   ],
   "source": [
    "ogFeats = iris[[\"Sepal.Length\",\"Sepal.Width\",\"Petal.Length\",\"Petal.Width\",\"Species\"]]\n",
    "sns.pairplot(ogFeats,hue=\"Species\",kind=\"scatter\",markers=[\"o\", \"s\", \"D\"],palette=\"dark\");"
   ]
  },
  {
   "cell_type": "code",
   "execution_count": null,
   "metadata": {},
   "outputs": [],
   "source": []
  }
 ],
 "metadata": {
  "kernelspec": {
   "display_name": "Python 3",
   "language": "python",
   "name": "python3"
  },
  "language_info": {
   "codemirror_mode": {
    "name": "ipython",
    "version": 3
   },
   "file_extension": ".py",
   "mimetype": "text/x-python",
   "name": "python",
   "nbconvert_exporter": "python",
   "pygments_lexer": "ipython3",
   "version": "3.6.6"
  }
 },
 "nbformat": 4,
 "nbformat_minor": 2
}
