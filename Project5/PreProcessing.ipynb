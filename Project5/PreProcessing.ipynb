{
 "cells": [
  {
   "cell_type": "markdown",
   "metadata": {},
   "source": [
    "\n",
    "Okay, it's time for us to start working with real data! This project will require you to product two notebooks: one that processes data and dumps data to a pickle file, a second notebook that loads the pickle file and applies regression models to predict song popularity. Proposed due date: Friday October 26th, 5pm.\n",
    "\n",
    "The following link is a fairly famous unprocessed data set which collected listening habits of approximately 1000 users: http://www.dtic.upf.edu/~ocelma/MusicRecommendationDataset/lastfm-1K.html\n",
    "\n",
    "The data set is large (about 650 MB compressed), data is formatted one entry per line, tab-separated. The first task is to process this data to recover some song statistics. In particular, we would like to create (and save, using pickle), a pandas dataframe that contains:\n",
    "\n",
    "the number of times a song has been played\n",
    "percentage of the plays that came from users who self-identified as male\n",
    "average age of the listener\n",
    "percentage of plays that came from a user who played the song exactly once\n",
    "percentage of plays that came from a user who played the song at least five times\n",
    "\n",
    "If there any missing values, decide how you will deal with them, and summarize your approach.\n",
    "\n",
    "In this same pre-processing notebook, explore the data by generating some descriptive statistics. After each code block, you should have summary statements, or code blocks should print out summary statements that are useful to a reader.\n",
    "\n",
    "Complete this notebook by exporting the generated dataframe using pickle for posterity, but don't commit your pickled file to the repository. Sometimes, it is more convenient to process the data locally rather than transmitting large processed data files."
   ]
  },
  {
   "cell_type": "markdown",
   "metadata": {},
   "source": [
    "# Import, Preprocess, Merge, and Pickle "
   ]
  },
  {
   "cell_type": "code",
   "execution_count": 1,
   "metadata": {},
   "outputs": [],
   "source": [
    "# Import the relevant packages\n",
    "import pandas as pd\n",
    "import numpy as np\n",
    "import pickle\n",
    "%matplotlib inline"
   ]
  },
  {
   "cell_type": "markdown",
   "metadata": {},
   "source": [
    "## Songs"
   ]
  },
  {
   "cell_type": "code",
   "execution_count": 2,
   "metadata": {},
   "outputs": [],
   "source": [
    "# Read the data with the song info\n",
    "songs_names=['UserID','Timestamp','ArtistID','Artist','TrackID','Track']\n",
    "df_songs = pd.read_csv(\"C:\\\\Users\\\\rpena\\Desktop\\\\lastfm-dataset-1K.tar\\\\lastfm-dataset-1K\\\\userid-timestamp-artid-artname-traid-traname.tsv\",sep='\\t',names=songs_names)"
   ]
  },
  {
   "cell_type": "code",
   "execution_count": 3,
   "metadata": {},
   "outputs": [
    {
     "data": {
      "text/plain": [
       "(835873, 6)"
      ]
     },
     "execution_count": 3,
     "metadata": {},
     "output_type": "execute_result"
    }
   ],
   "source": [
    "df_songs.shape"
   ]
  },
  {
   "cell_type": "code",
   "execution_count": 4,
   "metadata": {},
   "outputs": [
    {
     "data": {
      "text/html": [
       "<div>\n",
       "<style>\n",
       "    .dataframe thead tr:only-child th {\n",
       "        text-align: right;\n",
       "    }\n",
       "\n",
       "    .dataframe thead th {\n",
       "        text-align: left;\n",
       "    }\n",
       "\n",
       "    .dataframe tbody tr th {\n",
       "        vertical-align: top;\n",
       "    }\n",
       "</style>\n",
       "<table border=\"1\" class=\"dataframe\">\n",
       "  <thead>\n",
       "    <tr style=\"text-align: right;\">\n",
       "      <th></th>\n",
       "      <th>UserID</th>\n",
       "      <th>Timestamp</th>\n",
       "      <th>ArtistID</th>\n",
       "      <th>Artist</th>\n",
       "      <th>TrackID</th>\n",
       "      <th>Track</th>\n",
       "    </tr>\n",
       "  </thead>\n",
       "  <tbody>\n",
       "    <tr>\n",
       "      <th>0</th>\n",
       "      <td>user_000001</td>\n",
       "      <td>2009-05-04T23:08:57Z</td>\n",
       "      <td>f1b1cf71-bd35-4e99-8624-24a6e15f133a</td>\n",
       "      <td>Deep Dish</td>\n",
       "      <td>NaN</td>\n",
       "      <td>Fuck Me Im Famous (Pacha Ibiza)-09-28-2007</td>\n",
       "    </tr>\n",
       "    <tr>\n",
       "      <th>1</th>\n",
       "      <td>user_000001</td>\n",
       "      <td>2009-05-04T13:54:10Z</td>\n",
       "      <td>a7f7df4a-77d8-4f12-8acd-5c60c93f4de8</td>\n",
       "      <td>坂本龍一</td>\n",
       "      <td>NaN</td>\n",
       "      <td>Composition 0919 (Live_2009_4_15)</td>\n",
       "    </tr>\n",
       "    <tr>\n",
       "      <th>2</th>\n",
       "      <td>user_000001</td>\n",
       "      <td>2009-05-04T13:52:04Z</td>\n",
       "      <td>a7f7df4a-77d8-4f12-8acd-5c60c93f4de8</td>\n",
       "      <td>坂本龍一</td>\n",
       "      <td>NaN</td>\n",
       "      <td>Mc2 (Live_2009_4_15)</td>\n",
       "    </tr>\n",
       "    <tr>\n",
       "      <th>3</th>\n",
       "      <td>user_000001</td>\n",
       "      <td>2009-05-04T13:42:52Z</td>\n",
       "      <td>a7f7df4a-77d8-4f12-8acd-5c60c93f4de8</td>\n",
       "      <td>坂本龍一</td>\n",
       "      <td>NaN</td>\n",
       "      <td>Hibari (Live_2009_4_15)</td>\n",
       "    </tr>\n",
       "    <tr>\n",
       "      <th>4</th>\n",
       "      <td>user_000001</td>\n",
       "      <td>2009-05-04T13:42:11Z</td>\n",
       "      <td>a7f7df4a-77d8-4f12-8acd-5c60c93f4de8</td>\n",
       "      <td>坂本龍一</td>\n",
       "      <td>NaN</td>\n",
       "      <td>Mc1 (Live_2009_4_15)</td>\n",
       "    </tr>\n",
       "  </tbody>\n",
       "</table>\n",
       "</div>"
      ],
      "text/plain": [
       "        UserID             Timestamp                              ArtistID  \\\n",
       "0  user_000001  2009-05-04T23:08:57Z  f1b1cf71-bd35-4e99-8624-24a6e15f133a   \n",
       "1  user_000001  2009-05-04T13:54:10Z  a7f7df4a-77d8-4f12-8acd-5c60c93f4de8   \n",
       "2  user_000001  2009-05-04T13:52:04Z  a7f7df4a-77d8-4f12-8acd-5c60c93f4de8   \n",
       "3  user_000001  2009-05-04T13:42:52Z  a7f7df4a-77d8-4f12-8acd-5c60c93f4de8   \n",
       "4  user_000001  2009-05-04T13:42:11Z  a7f7df4a-77d8-4f12-8acd-5c60c93f4de8   \n",
       "\n",
       "      Artist TrackID                                       Track  \n",
       "0  Deep Dish     NaN  Fuck Me Im Famous (Pacha Ibiza)-09-28-2007  \n",
       "1       坂本龍一     NaN           Composition 0919 (Live_2009_4_15)  \n",
       "2       坂本龍一     NaN                        Mc2 (Live_2009_4_15)  \n",
       "3       坂本龍一     NaN                     Hibari (Live_2009_4_15)  \n",
       "4       坂本龍一     NaN                        Mc1 (Live_2009_4_15)  "
      ]
     },
     "execution_count": 4,
     "metadata": {},
     "output_type": "execute_result"
    }
   ],
   "source": [
    "df_songs.head(5)"
   ]
  },
  {
   "cell_type": "markdown",
   "metadata": {},
   "source": [
    "The columns containing \"Timestamp\", \"ArtistID\", and \"TrackID\" are not needed for the analysis we are running. These columns were removed from the dataset to make it more interpretable. In any model these will have 100% correlation with Artist Name and TrackName, respectively and do not add information gained by modeling. The code chunk below removes them and confirms that they were removed without affecting the rows."
   ]
  },
  {
   "cell_type": "code",
   "execution_count": 5,
   "metadata": {},
   "outputs": [],
   "source": [
    "# Create a subset of df_songs using a copy of the original. Leaves the original dataframe intact\n",
    "songs = df_songs[[\"UserID\",\"Track\"]].copy()"
   ]
  },
  {
   "cell_type": "code",
   "execution_count": 6,
   "metadata": {
    "scrolled": true
   },
   "outputs": [
    {
     "data": {
      "text/plain": [
       "(835873, 2)"
      ]
     },
     "execution_count": 6,
     "metadata": {},
     "output_type": "execute_result"
    }
   ],
   "source": [
    "songs.shape"
   ]
  },
  {
   "cell_type": "code",
   "execution_count": 7,
   "metadata": {},
   "outputs": [
    {
     "data": {
      "text/html": [
       "<div>\n",
       "<style>\n",
       "    .dataframe thead tr:only-child th {\n",
       "        text-align: right;\n",
       "    }\n",
       "\n",
       "    .dataframe thead th {\n",
       "        text-align: left;\n",
       "    }\n",
       "\n",
       "    .dataframe tbody tr th {\n",
       "        vertical-align: top;\n",
       "    }\n",
       "</style>\n",
       "<table border=\"1\" class=\"dataframe\">\n",
       "  <thead>\n",
       "    <tr style=\"text-align: right;\">\n",
       "      <th></th>\n",
       "      <th>UserID</th>\n",
       "      <th>Track</th>\n",
       "    </tr>\n",
       "  </thead>\n",
       "  <tbody>\n",
       "    <tr>\n",
       "      <th>0</th>\n",
       "      <td>user_000001</td>\n",
       "      <td>Fuck Me Im Famous (Pacha Ibiza)-09-28-2007</td>\n",
       "    </tr>\n",
       "    <tr>\n",
       "      <th>1</th>\n",
       "      <td>user_000001</td>\n",
       "      <td>Composition 0919 (Live_2009_4_15)</td>\n",
       "    </tr>\n",
       "    <tr>\n",
       "      <th>2</th>\n",
       "      <td>user_000001</td>\n",
       "      <td>Mc2 (Live_2009_4_15)</td>\n",
       "    </tr>\n",
       "    <tr>\n",
       "      <th>3</th>\n",
       "      <td>user_000001</td>\n",
       "      <td>Hibari (Live_2009_4_15)</td>\n",
       "    </tr>\n",
       "    <tr>\n",
       "      <th>4</th>\n",
       "      <td>user_000001</td>\n",
       "      <td>Mc1 (Live_2009_4_15)</td>\n",
       "    </tr>\n",
       "  </tbody>\n",
       "</table>\n",
       "</div>"
      ],
      "text/plain": [
       "        UserID                                       Track\n",
       "0  user_000001  Fuck Me Im Famous (Pacha Ibiza)-09-28-2007\n",
       "1  user_000001           Composition 0919 (Live_2009_4_15)\n",
       "2  user_000001                        Mc2 (Live_2009_4_15)\n",
       "3  user_000001                     Hibari (Live_2009_4_15)\n",
       "4  user_000001                        Mc1 (Live_2009_4_15)"
      ]
     },
     "execution_count": 7,
     "metadata": {},
     "output_type": "execute_result"
    }
   ],
   "source": [
    "songs.head(5)"
   ]
  },
  {
   "cell_type": "markdown",
   "metadata": {},
   "source": [
    "The output above shows that the irrelavant columns were dropped and that all of the rows remain."
   ]
  },
  {
   "cell_type": "markdown",
   "metadata": {},
   "source": [
    "### Descriptive Statistics - Songs"
   ]
  },
  {
   "cell_type": "code",
   "execution_count": 8,
   "metadata": {},
   "outputs": [
    {
     "data": {
      "text/plain": [
       "count          835873\n",
       "unique             33\n",
       "top       user_000012\n",
       "freq            75876\n",
       "Name: UserID, dtype: object"
      ]
     },
     "execution_count": 8,
     "metadata": {},
     "output_type": "execute_result"
    }
   ],
   "source": [
    "songs.UserID.describe()"
   ]
  },
  {
   "cell_type": "markdown",
   "metadata": {},
   "source": [
    "There are 33 unique userIDs with the most frequent user being user_000012."
   ]
  },
  {
   "cell_type": "code",
   "execution_count": 9,
   "metadata": {},
   "outputs": [
    {
     "data": {
      "text/plain": [
       "count        835873\n",
       "unique       116682\n",
       "top       Heartless\n",
       "freq           2121\n",
       "Name: Track, dtype: object"
      ]
     },
     "execution_count": 9,
     "metadata": {},
     "output_type": "execute_result"
    }
   ],
   "source": [
    "songs.Track.describe()"
   ]
  },
  {
   "cell_type": "markdown",
   "metadata": {},
   "source": [
    "There are 11682 unique Tracks in this dataset with Heartless being the most frequent track played."
   ]
  },
  {
   "cell_type": "markdown",
   "metadata": {},
   "source": [
    "### Missing Values - Songs"
   ]
  },
  {
   "cell_type": "code",
   "execution_count": 10,
   "metadata": {},
   "outputs": [
    {
     "data": {
      "text/plain": [
       "UserID    0.0\n",
       "Track     0.0\n",
       "dtype: float64"
      ]
     },
     "execution_count": 10,
     "metadata": {},
     "output_type": "execute_result"
    }
   ],
   "source": [
    "songs.isnull().sum() / len(songs)"
   ]
  },
  {
   "cell_type": "markdown",
   "metadata": {},
   "source": [
    "This code shows that there are 0 missing values in rows across all three columns of this dataset.  \n",
    "\n",
    "No imputation or removal is required."
   ]
  },
  {
   "cell_type": "markdown",
   "metadata": {},
   "source": [
    "## Users\n",
    "\n",
    "The dataset for the User information also contains columns that are not useful for our analysis.   \n",
    "\n",
    "Below, these columns are dropped and summary statistics are run on the remaining columns."
   ]
  },
  {
   "cell_type": "code",
   "execution_count": 11,
   "metadata": {},
   "outputs": [
    {
     "data": {
      "text/html": [
       "<div>\n",
       "<style>\n",
       "    .dataframe thead tr:only-child th {\n",
       "        text-align: right;\n",
       "    }\n",
       "\n",
       "    .dataframe thead th {\n",
       "        text-align: left;\n",
       "    }\n",
       "\n",
       "    .dataframe tbody tr th {\n",
       "        vertical-align: top;\n",
       "    }\n",
       "</style>\n",
       "<table border=\"1\" class=\"dataframe\">\n",
       "  <thead>\n",
       "    <tr style=\"text-align: right;\">\n",
       "      <th></th>\n",
       "      <th>#id</th>\n",
       "      <th>gender</th>\n",
       "      <th>age</th>\n",
       "      <th>country</th>\n",
       "      <th>registered</th>\n",
       "    </tr>\n",
       "  </thead>\n",
       "  <tbody>\n",
       "    <tr>\n",
       "      <th>0</th>\n",
       "      <td>user_000001</td>\n",
       "      <td>m</td>\n",
       "      <td>NaN</td>\n",
       "      <td>Japan</td>\n",
       "      <td>Aug 13, 2006</td>\n",
       "    </tr>\n",
       "    <tr>\n",
       "      <th>1</th>\n",
       "      <td>user_000002</td>\n",
       "      <td>f</td>\n",
       "      <td>NaN</td>\n",
       "      <td>Peru</td>\n",
       "      <td>Feb 24, 2006</td>\n",
       "    </tr>\n",
       "    <tr>\n",
       "      <th>2</th>\n",
       "      <td>user_000003</td>\n",
       "      <td>m</td>\n",
       "      <td>22.0</td>\n",
       "      <td>United States</td>\n",
       "      <td>Oct 30, 2005</td>\n",
       "    </tr>\n",
       "    <tr>\n",
       "      <th>3</th>\n",
       "      <td>user_000004</td>\n",
       "      <td>f</td>\n",
       "      <td>NaN</td>\n",
       "      <td>NaN</td>\n",
       "      <td>Apr 26, 2006</td>\n",
       "    </tr>\n",
       "    <tr>\n",
       "      <th>4</th>\n",
       "      <td>user_000005</td>\n",
       "      <td>m</td>\n",
       "      <td>NaN</td>\n",
       "      <td>Bulgaria</td>\n",
       "      <td>Jun 29, 2006</td>\n",
       "    </tr>\n",
       "  </tbody>\n",
       "</table>\n",
       "</div>"
      ],
      "text/plain": [
       "           #id gender   age        country    registered\n",
       "0  user_000001      m   NaN          Japan  Aug 13, 2006\n",
       "1  user_000002      f   NaN           Peru  Feb 24, 2006\n",
       "2  user_000003      m  22.0  United States  Oct 30, 2005\n",
       "3  user_000004      f   NaN            NaN  Apr 26, 2006\n",
       "4  user_000005      m   NaN       Bulgaria  Jun 29, 2006"
      ]
     },
     "execution_count": 11,
     "metadata": {},
     "output_type": "execute_result"
    }
   ],
   "source": [
    "# Read the data with the Users info\n",
    "df_users=pd.read_csv(\"C:\\\\Users\\\\rpena\\Desktop\\\\lastfm-dataset-1K.tar\\\\lastfm-dataset-1K\\\\userid-profile.tsv\",sep='\\t')\n",
    "df_users.head(5)"
   ]
  },
  {
   "cell_type": "code",
   "execution_count": 12,
   "metadata": {},
   "outputs": [
    {
     "data": {
      "text/plain": [
       "(992, 5)"
      ]
     },
     "execution_count": 12,
     "metadata": {},
     "output_type": "execute_result"
    }
   ],
   "source": [
    "df_users.shape"
   ]
  },
  {
   "cell_type": "code",
   "execution_count": 13,
   "metadata": {},
   "outputs": [],
   "source": [
    "# Create a subset of df_users using a copy of the original. Leaves the original dataframe intact\n",
    "users = df_users[[\"#id\",\"gender\",\"age\"]].copy()"
   ]
  },
  {
   "cell_type": "code",
   "execution_count": 14,
   "metadata": {
    "scrolled": true
   },
   "outputs": [],
   "source": [
    "# Rename columns\n",
    "users=users.rename(columns={'#id':'UserID','gender':'Gender','age':'Age'})"
   ]
  },
  {
   "cell_type": "code",
   "execution_count": 15,
   "metadata": {},
   "outputs": [
    {
     "data": {
      "text/html": [
       "<div>\n",
       "<style>\n",
       "    .dataframe thead tr:only-child th {\n",
       "        text-align: right;\n",
       "    }\n",
       "\n",
       "    .dataframe thead th {\n",
       "        text-align: left;\n",
       "    }\n",
       "\n",
       "    .dataframe tbody tr th {\n",
       "        vertical-align: top;\n",
       "    }\n",
       "</style>\n",
       "<table border=\"1\" class=\"dataframe\">\n",
       "  <thead>\n",
       "    <tr style=\"text-align: right;\">\n",
       "      <th></th>\n",
       "      <th>UserID</th>\n",
       "      <th>Gender</th>\n",
       "      <th>Age</th>\n",
       "    </tr>\n",
       "  </thead>\n",
       "  <tbody>\n",
       "    <tr>\n",
       "      <th>0</th>\n",
       "      <td>user_000001</td>\n",
       "      <td>m</td>\n",
       "      <td>NaN</td>\n",
       "    </tr>\n",
       "    <tr>\n",
       "      <th>1</th>\n",
       "      <td>user_000002</td>\n",
       "      <td>f</td>\n",
       "      <td>NaN</td>\n",
       "    </tr>\n",
       "    <tr>\n",
       "      <th>2</th>\n",
       "      <td>user_000003</td>\n",
       "      <td>m</td>\n",
       "      <td>22.0</td>\n",
       "    </tr>\n",
       "    <tr>\n",
       "      <th>3</th>\n",
       "      <td>user_000004</td>\n",
       "      <td>f</td>\n",
       "      <td>NaN</td>\n",
       "    </tr>\n",
       "    <tr>\n",
       "      <th>4</th>\n",
       "      <td>user_000005</td>\n",
       "      <td>m</td>\n",
       "      <td>NaN</td>\n",
       "    </tr>\n",
       "  </tbody>\n",
       "</table>\n",
       "</div>"
      ],
      "text/plain": [
       "        UserID Gender   Age\n",
       "0  user_000001      m   NaN\n",
       "1  user_000002      f   NaN\n",
       "2  user_000003      m  22.0\n",
       "3  user_000004      f   NaN\n",
       "4  user_000005      m   NaN"
      ]
     },
     "execution_count": 15,
     "metadata": {},
     "output_type": "execute_result"
    }
   ],
   "source": [
    "# Remove unnecessary columns\n",
    "users = users[[\"UserID\",\"Gender\",\"Age\"]]\n",
    "users.head(5)"
   ]
  },
  {
   "cell_type": "code",
   "execution_count": 16,
   "metadata": {},
   "outputs": [
    {
     "data": {
      "text/plain": [
       "(992, 3)"
      ]
     },
     "execution_count": 16,
     "metadata": {},
     "output_type": "execute_result"
    }
   ],
   "source": [
    "# Check the shape of the new dataframe\n",
    "users.shape"
   ]
  },
  {
   "cell_type": "markdown",
   "metadata": {},
   "source": [
    "### Descriptive Statistics - Users "
   ]
  },
  {
   "cell_type": "code",
   "execution_count": 17,
   "metadata": {},
   "outputs": [
    {
     "data": {
      "text/plain": [
       "count             992\n",
       "unique            992\n",
       "top       user_000178\n",
       "freq                1\n",
       "Name: UserID, dtype: object"
      ]
     },
     "execution_count": 17,
     "metadata": {},
     "output_type": "execute_result"
    }
   ],
   "source": [
    "users.UserID.describe()"
   ]
  },
  {
   "cell_type": "markdown",
   "metadata": {},
   "source": [
    "Descriptive statistics of UserID show that there are over 992 unique users in this dataset."
   ]
  },
  {
   "cell_type": "code",
   "execution_count": 18,
   "metadata": {},
   "outputs": [
    {
     "data": {
      "text/plain": [
       "count     884\n",
       "unique      2\n",
       "top         m\n",
       "freq      502\n",
       "Name: Gender, dtype: object"
      ]
     },
     "execution_count": 18,
     "metadata": {},
     "output_type": "execute_result"
    }
   ],
   "source": [
    "users.Gender.describe()"
   ]
  },
  {
   "cell_type": "markdown",
   "metadata": {},
   "source": [
    "Descriptive statistics of Gender show that there are two unique categories with the most frequent gender being Male at 502 of 884. \n",
    "\n",
    "This does not equal the number of observations (992) determined using shape which indicates missing values that will need to be handled later."
   ]
  },
  {
   "cell_type": "code",
   "execution_count": 19,
   "metadata": {},
   "outputs": [
    {
     "data": {
      "text/plain": [
       "count    286.000000\n",
       "mean      25.367133\n",
       "std        8.314952\n",
       "min        3.000000\n",
       "25%       21.000000\n",
       "50%       23.000000\n",
       "75%       28.000000\n",
       "max      103.000000\n",
       "Name: Age, dtype: float64"
      ]
     },
     "execution_count": 19,
     "metadata": {},
     "output_type": "execute_result"
    }
   ],
   "source": [
    "users.Age.describe()"
   ]
  },
  {
   "cell_type": "markdown",
   "metadata": {},
   "source": [
    "Descriptive statistics of Age show that average age of Users is 25. \n",
    "\n",
    "The most interesting results for this set are the Minimum and Maximum values of Age, 3 and 103. \n",
    "\n",
    "These are most likely input errors (intentional or otherwise) and will need to be handled. \n",
    "\n",
    "The Count of these values is also significantly less than expected at 286 of the 992 observations. \n",
    "\n",
    "This indicates a very large number of missing values."
   ]
  },
  {
   "cell_type": "code",
   "execution_count": 20,
   "metadata": {},
   "outputs": [],
   "source": [
    "users.loc[(users['Age']< 10) | (users['Age'] > 90),['Age']]= np.nan"
   ]
  },
  {
   "cell_type": "code",
   "execution_count": 21,
   "metadata": {},
   "outputs": [
    {
     "data": {
      "text/plain": [
       "count    282.000000\n",
       "mean      25.312057\n",
       "std        6.638221\n",
       "min       15.000000\n",
       "25%       21.000000\n",
       "50%       23.500000\n",
       "75%       28.000000\n",
       "max       75.000000\n",
       "Name: Age, dtype: float64"
      ]
     },
     "execution_count": 21,
     "metadata": {},
     "output_type": "execute_result"
    }
   ],
   "source": [
    "users.Age.describe()"
   ]
  },
  {
   "cell_type": "markdown",
   "metadata": {},
   "source": [
    "The code chunk above changes any Age values that are less than 14 and greater than 90 into null values. \n",
    "\n",
    "This brought the Minimum Age up to 18 and the Maximum Age to 75 as well as lowering the standard deviation.\n",
    "\n",
    "Next, missing values will be handled."
   ]
  },
  {
   "cell_type": "markdown",
   "metadata": {},
   "source": [
    "### Missing Values - Users"
   ]
  },
  {
   "cell_type": "code",
   "execution_count": 22,
   "metadata": {},
   "outputs": [
    {
     "data": {
      "text/plain": [
       "UserID    0.000000\n",
       "Gender    0.108871\n",
       "Age       0.715726\n",
       "dtype: float64"
      ]
     },
     "execution_count": 22,
     "metadata": {},
     "output_type": "execute_result"
    }
   ],
   "source": [
    "users.isnull().sum() / len(users)"
   ]
  },
  {
   "cell_type": "markdown",
   "metadata": {},
   "source": [
    "The number of missing values in Age column render this predictor almost useless. \n",
    "\n",
    "Typically, this predictor would not be useful even after imputation; it would be dropped. \n",
    "\n",
    "For the purpose of this project I will impute the mean of Ages in place of the missing values."
   ]
  },
  {
   "cell_type": "code",
   "execution_count": 23,
   "metadata": {},
   "outputs": [],
   "source": [
    "users.Age.fillna(users.Age.mean(),inplace=True);"
   ]
  },
  {
   "cell_type": "code",
   "execution_count": 24,
   "metadata": {},
   "outputs": [
    {
     "data": {
      "text/plain": [
       "UserID    0.000000\n",
       "Gender    0.108871\n",
       "Age       0.000000\n",
       "dtype: float64"
      ]
     },
     "execution_count": 24,
     "metadata": {},
     "output_type": "execute_result"
    }
   ],
   "source": [
    "users.isnull().sum() / len(users)"
   ]
  },
  {
   "cell_type": "code",
   "execution_count": 25,
   "metadata": {},
   "outputs": [],
   "source": [
    "#Change dtype of Age from float to int now that imputation is complete.\n",
    "users.Age = users.Age.astype(int)"
   ]
  },
  {
   "cell_type": "code",
   "execution_count": 26,
   "metadata": {},
   "outputs": [
    {
     "data": {
      "text/plain": [
       "count    992.00000\n",
       "mean      25.08871\n",
       "std        3.53763\n",
       "min       15.00000\n",
       "25%       25.00000\n",
       "50%       25.00000\n",
       "75%       25.00000\n",
       "max       75.00000\n",
       "Name: Age, dtype: float64"
      ]
     },
     "execution_count": 26,
     "metadata": {},
     "output_type": "execute_result"
    }
   ],
   "source": [
    "users.Age.describe()"
   ]
  },
  {
   "cell_type": "markdown",
   "metadata": {},
   "source": [
    "Impute the mode for the missing values in Gender.\n",
    "\n",
    "The missing values in Gender will be filled with 'm' as it is more likely to be a male based on exploratory analysis."
   ]
  },
  {
   "cell_type": "code",
   "execution_count": 27,
   "metadata": {},
   "outputs": [
    {
     "data": {
      "text/plain": [
       "m    502\n",
       "f    382\n",
       "Name: Gender, dtype: int64"
      ]
     },
     "execution_count": 27,
     "metadata": {},
     "output_type": "execute_result"
    }
   ],
   "source": [
    "users.Gender.value_counts()"
   ]
  },
  {
   "cell_type": "code",
   "execution_count": 28,
   "metadata": {},
   "outputs": [],
   "source": [
    "users.Gender.fillna('m',inplace=True,)"
   ]
  },
  {
   "cell_type": "code",
   "execution_count": 29,
   "metadata": {},
   "outputs": [
    {
     "data": {
      "text/plain": [
       "UserID    0.0\n",
       "Gender    0.0\n",
       "Age       0.0\n",
       "dtype: float64"
      ]
     },
     "execution_count": 29,
     "metadata": {},
     "output_type": "execute_result"
    }
   ],
   "source": [
    "users.isnull().sum() / len(users)"
   ]
  },
  {
   "cell_type": "markdown",
   "metadata": {},
   "source": [
    "## Merging the two DataFrames\n",
    "Inner joins return those records that have matching values in both tables.\n",
    "\n",
    "This join was done on the relation of \"UserID\" between the two dataframes. "
   ]
  },
  {
   "cell_type": "code",
   "execution_count": 30,
   "metadata": {},
   "outputs": [
    {
     "data": {
      "text/html": [
       "<div>\n",
       "<style>\n",
       "    .dataframe thead tr:only-child th {\n",
       "        text-align: right;\n",
       "    }\n",
       "\n",
       "    .dataframe thead th {\n",
       "        text-align: left;\n",
       "    }\n",
       "\n",
       "    .dataframe tbody tr th {\n",
       "        vertical-align: top;\n",
       "    }\n",
       "</style>\n",
       "<table border=\"1\" class=\"dataframe\">\n",
       "  <thead>\n",
       "    <tr style=\"text-align: right;\">\n",
       "      <th></th>\n",
       "      <th>UserID</th>\n",
       "      <th>Gender</th>\n",
       "      <th>Age</th>\n",
       "      <th>Track</th>\n",
       "    </tr>\n",
       "  </thead>\n",
       "  <tbody>\n",
       "    <tr>\n",
       "      <th>0</th>\n",
       "      <td>user_000001</td>\n",
       "      <td>m</td>\n",
       "      <td>25</td>\n",
       "      <td>Fuck Me Im Famous (Pacha Ibiza)-09-28-2007</td>\n",
       "    </tr>\n",
       "    <tr>\n",
       "      <th>1</th>\n",
       "      <td>user_000001</td>\n",
       "      <td>m</td>\n",
       "      <td>25</td>\n",
       "      <td>Composition 0919 (Live_2009_4_15)</td>\n",
       "    </tr>\n",
       "    <tr>\n",
       "      <th>2</th>\n",
       "      <td>user_000001</td>\n",
       "      <td>m</td>\n",
       "      <td>25</td>\n",
       "      <td>Mc2 (Live_2009_4_15)</td>\n",
       "    </tr>\n",
       "    <tr>\n",
       "      <th>3</th>\n",
       "      <td>user_000001</td>\n",
       "      <td>m</td>\n",
       "      <td>25</td>\n",
       "      <td>Hibari (Live_2009_4_15)</td>\n",
       "    </tr>\n",
       "    <tr>\n",
       "      <th>4</th>\n",
       "      <td>user_000001</td>\n",
       "      <td>m</td>\n",
       "      <td>25</td>\n",
       "      <td>Mc1 (Live_2009_4_15)</td>\n",
       "    </tr>\n",
       "    <tr>\n",
       "      <th>5</th>\n",
       "      <td>user_000001</td>\n",
       "      <td>m</td>\n",
       "      <td>25</td>\n",
       "      <td>To Stanford (Live_2009_4_15)</td>\n",
       "    </tr>\n",
       "    <tr>\n",
       "      <th>6</th>\n",
       "      <td>user_000001</td>\n",
       "      <td>m</td>\n",
       "      <td>25</td>\n",
       "      <td>Improvisation (Live_2009_4_15)</td>\n",
       "    </tr>\n",
       "    <tr>\n",
       "      <th>7</th>\n",
       "      <td>user_000001</td>\n",
       "      <td>m</td>\n",
       "      <td>25</td>\n",
       "      <td>Glacier (Live_2009_4_15)</td>\n",
       "    </tr>\n",
       "    <tr>\n",
       "      <th>8</th>\n",
       "      <td>user_000001</td>\n",
       "      <td>m</td>\n",
       "      <td>25</td>\n",
       "      <td>Parolibre (Live_2009_4_15)</td>\n",
       "    </tr>\n",
       "    <tr>\n",
       "      <th>9</th>\n",
       "      <td>user_000001</td>\n",
       "      <td>m</td>\n",
       "      <td>25</td>\n",
       "      <td>Bibo No Aozora (Live_2009_4_15)</td>\n",
       "    </tr>\n",
       "    <tr>\n",
       "      <th>10</th>\n",
       "      <td>user_000001</td>\n",
       "      <td>m</td>\n",
       "      <td>25</td>\n",
       "      <td>The Last Emperor (Theme)</td>\n",
       "    </tr>\n",
       "    <tr>\n",
       "      <th>11</th>\n",
       "      <td>user_000001</td>\n",
       "      <td>m</td>\n",
       "      <td>25</td>\n",
       "      <td>Happyend (Live_2009_4_15)</td>\n",
       "    </tr>\n",
       "    <tr>\n",
       "      <th>12</th>\n",
       "      <td>user_000001</td>\n",
       "      <td>m</td>\n",
       "      <td>25</td>\n",
       "      <td>Tibetan Dance (Version)</td>\n",
       "    </tr>\n",
       "    <tr>\n",
       "      <th>13</th>\n",
       "      <td>user_000001</td>\n",
       "      <td>m</td>\n",
       "      <td>25</td>\n",
       "      <td>Behind The Mask (Live_2009_4_15)</td>\n",
       "    </tr>\n",
       "    <tr>\n",
       "      <th>14</th>\n",
       "      <td>user_000001</td>\n",
       "      <td>m</td>\n",
       "      <td>25</td>\n",
       "      <td>Boy, Boy, Boy (Switch Remix)</td>\n",
       "    </tr>\n",
       "    <tr>\n",
       "      <th>15</th>\n",
       "      <td>user_000001</td>\n",
       "      <td>m</td>\n",
       "      <td>25</td>\n",
       "      <td>Crocodile (Innervisions Orchestra Mix)</td>\n",
       "    </tr>\n",
       "    <tr>\n",
       "      <th>16</th>\n",
       "      <td>user_000001</td>\n",
       "      <td>m</td>\n",
       "      <td>25</td>\n",
       "      <td>Ninna Nanna In Blu (Raw Deal Remix)</td>\n",
       "    </tr>\n",
       "    <tr>\n",
       "      <th>17</th>\n",
       "      <td>user_000001</td>\n",
       "      <td>m</td>\n",
       "      <td>25</td>\n",
       "      <td>Elysian Fields</td>\n",
       "    </tr>\n",
       "    <tr>\n",
       "      <th>18</th>\n",
       "      <td>user_000001</td>\n",
       "      <td>m</td>\n",
       "      <td>25</td>\n",
       "      <td>Planetary Deadlock</td>\n",
       "    </tr>\n",
       "    <tr>\n",
       "      <th>19</th>\n",
       "      <td>user_000001</td>\n",
       "      <td>m</td>\n",
       "      <td>25</td>\n",
       "      <td>Good Morning Love Coffee Is Ready</td>\n",
       "    </tr>\n",
       "  </tbody>\n",
       "</table>\n",
       "</div>"
      ],
      "text/plain": [
       "         UserID Gender  Age                                       Track\n",
       "0   user_000001      m   25  Fuck Me Im Famous (Pacha Ibiza)-09-28-2007\n",
       "1   user_000001      m   25           Composition 0919 (Live_2009_4_15)\n",
       "2   user_000001      m   25                        Mc2 (Live_2009_4_15)\n",
       "3   user_000001      m   25                     Hibari (Live_2009_4_15)\n",
       "4   user_000001      m   25                        Mc1 (Live_2009_4_15)\n",
       "5   user_000001      m   25                To Stanford (Live_2009_4_15)\n",
       "6   user_000001      m   25              Improvisation (Live_2009_4_15)\n",
       "7   user_000001      m   25                    Glacier (Live_2009_4_15)\n",
       "8   user_000001      m   25                  Parolibre (Live_2009_4_15)\n",
       "9   user_000001      m   25             Bibo No Aozora (Live_2009_4_15)\n",
       "10  user_000001      m   25                    The Last Emperor (Theme)\n",
       "11  user_000001      m   25                   Happyend (Live_2009_4_15)\n",
       "12  user_000001      m   25                     Tibetan Dance (Version)\n",
       "13  user_000001      m   25            Behind The Mask (Live_2009_4_15)\n",
       "14  user_000001      m   25                Boy, Boy, Boy (Switch Remix)\n",
       "15  user_000001      m   25      Crocodile (Innervisions Orchestra Mix)\n",
       "16  user_000001      m   25         Ninna Nanna In Blu (Raw Deal Remix)\n",
       "17  user_000001      m   25                              Elysian Fields\n",
       "18  user_000001      m   25                          Planetary Deadlock\n",
       "19  user_000001      m   25           Good Morning Love Coffee Is Ready"
      ]
     },
     "execution_count": 30,
     "metadata": {},
     "output_type": "execute_result"
    }
   ],
   "source": [
    "data = pd.merge(users, songs, on=\"UserID\", how='inner')\n",
    "data.head(20)"
   ]
  },
  {
   "cell_type": "code",
   "execution_count": 31,
   "metadata": {},
   "outputs": [
    {
     "data": {
      "text/plain": [
       "(835873, 4)"
      ]
     },
     "execution_count": 31,
     "metadata": {},
     "output_type": "execute_result"
    }
   ],
   "source": [
    "data.shape"
   ]
  },
  {
   "cell_type": "code",
   "execution_count": 32,
   "metadata": {},
   "outputs": [
    {
     "data": {
      "text/plain": [
       "count        835873\n",
       "unique       116682\n",
       "top       Heartless\n",
       "freq           2121\n",
       "Name: Track, dtype: object"
      ]
     },
     "execution_count": 32,
     "metadata": {},
     "output_type": "execute_result"
    }
   ],
   "source": [
    "data.Track.describe()"
   ]
  },
  {
   "cell_type": "code",
   "execution_count": 33,
   "metadata": {},
   "outputs": [
    {
     "data": {
      "text/plain": [
       "count          835873\n",
       "unique             33\n",
       "top       user_000012\n",
       "freq            75876\n",
       "Name: UserID, dtype: object"
      ]
     },
     "execution_count": 33,
     "metadata": {},
     "output_type": "execute_result"
    }
   ],
   "source": [
    "data.UserID.describe()"
   ]
  },
  {
   "cell_type": "code",
   "execution_count": 34,
   "metadata": {},
   "outputs": [
    {
     "data": {
      "text/plain": [
       "Heartless                                          2121\n",
       "See You In My Nightmares                           2069\n",
       "Say You Will                                       2069\n",
       "Love Lockdown                                      2062\n",
       "Welcome To Heartbreak (Feat. Kid Cudi)             2059\n",
       "Coldest Winter                                     2052\n",
       "Paranoid (Feat. Mr. Hudson)                        2051\n",
       "Amazing (Feat. Young Jeezy)                        2049\n",
       "Pinocchio Story (Freestyle Live From Singapore)    2041\n",
       "Bad News                                           2028\n",
       "Name: Track, dtype: int64"
      ]
     },
     "execution_count": 34,
     "metadata": {},
     "output_type": "execute_result"
    }
   ],
   "source": [
    "data.Track.value_counts().head(10)"
   ]
  },
  {
   "cell_type": "markdown",
   "metadata": {},
   "source": [
    "### Number of times a song has been played\n",
    "\n",
    "The code below creates a pivot table of the merged dataframes to subset and aggregate total plays per song."
   ]
  },
  {
   "cell_type": "code",
   "execution_count": 35,
   "metadata": {},
   "outputs": [
    {
     "data": {
      "text/html": [
       "<div>\n",
       "<style>\n",
       "    .dataframe thead tr:only-child th {\n",
       "        text-align: right;\n",
       "    }\n",
       "\n",
       "    .dataframe thead th {\n",
       "        text-align: left;\n",
       "    }\n",
       "\n",
       "    .dataframe tbody tr th {\n",
       "        vertical-align: top;\n",
       "    }\n",
       "</style>\n",
       "<table border=\"1\" class=\"dataframe\">\n",
       "  <thead>\n",
       "    <tr style=\"text-align: right;\">\n",
       "      <th></th>\n",
       "      <th>Age</th>\n",
       "      <th>Gender</th>\n",
       "      <th>UserID</th>\n",
       "    </tr>\n",
       "    <tr>\n",
       "      <th>Track</th>\n",
       "      <th></th>\n",
       "      <th></th>\n",
       "      <th></th>\n",
       "    </tr>\n",
       "  </thead>\n",
       "  <tbody>\n",
       "    <tr>\n",
       "      <th>! (Foreword)</th>\n",
       "      <td>8</td>\n",
       "      <td>8</td>\n",
       "      <td>8</td>\n",
       "    </tr>\n",
       "    <tr>\n",
       "      <th># 173 - The Stills, Novillero, Fred Eaglesmith</th>\n",
       "      <td>1</td>\n",
       "      <td>1</td>\n",
       "      <td>1</td>\n",
       "    </tr>\n",
       "    <tr>\n",
       "      <th># 174 - The Organ, Sloan, Jill Barber</th>\n",
       "      <td>2</td>\n",
       "      <td>2</td>\n",
       "      <td>2</td>\n",
       "    </tr>\n",
       "    <tr>\n",
       "      <th>#1</th>\n",
       "      <td>65</td>\n",
       "      <td>65</td>\n",
       "      <td>65</td>\n",
       "    </tr>\n",
       "    <tr>\n",
       "      <th>#1 Crush</th>\n",
       "      <td>7</td>\n",
       "      <td>7</td>\n",
       "      <td>7</td>\n",
       "    </tr>\n",
       "  </tbody>\n",
       "</table>\n",
       "</div>"
      ],
      "text/plain": [
       "                                                Age  Gender  UserID\n",
       "Track                                                              \n",
       "! (Foreword)                                      8       8       8\n",
       "# 173 - The Stills, Novillero, Fred Eaglesmith    1       1       1\n",
       "# 174 - The Organ, Sloan, Jill Barber             2       2       2\n",
       "#1                                               65      65      65\n",
       "#1 Crush                                          7       7       7"
      ]
     },
     "execution_count": 35,
     "metadata": {},
     "output_type": "execute_result"
    }
   ],
   "source": [
    "plays = data.pivot_table(index=[\"Track\"],aggfunc='count')\n",
    "plays.head()"
   ]
  },
  {
   "cell_type": "code",
   "execution_count": 36,
   "metadata": {},
   "outputs": [],
   "source": [
    "plays=plays.drop(['UserID','Gender'],axis=1)"
   ]
  },
  {
   "cell_type": "code",
   "execution_count": 37,
   "metadata": {},
   "outputs": [
    {
     "data": {
      "text/html": [
       "<div>\n",
       "<style>\n",
       "    .dataframe thead tr:only-child th {\n",
       "        text-align: right;\n",
       "    }\n",
       "\n",
       "    .dataframe thead th {\n",
       "        text-align: left;\n",
       "    }\n",
       "\n",
       "    .dataframe tbody tr th {\n",
       "        vertical-align: top;\n",
       "    }\n",
       "</style>\n",
       "<table border=\"1\" class=\"dataframe\">\n",
       "  <thead>\n",
       "    <tr style=\"text-align: right;\">\n",
       "      <th></th>\n",
       "      <th>Plays</th>\n",
       "    </tr>\n",
       "    <tr>\n",
       "      <th>Track</th>\n",
       "      <th></th>\n",
       "    </tr>\n",
       "  </thead>\n",
       "  <tbody>\n",
       "    <tr>\n",
       "      <th>! (Foreword)</th>\n",
       "      <td>8</td>\n",
       "    </tr>\n",
       "    <tr>\n",
       "      <th># 173 - The Stills, Novillero, Fred Eaglesmith</th>\n",
       "      <td>1</td>\n",
       "    </tr>\n",
       "    <tr>\n",
       "      <th># 174 - The Organ, Sloan, Jill Barber</th>\n",
       "      <td>2</td>\n",
       "    </tr>\n",
       "    <tr>\n",
       "      <th>#1</th>\n",
       "      <td>65</td>\n",
       "    </tr>\n",
       "    <tr>\n",
       "      <th>#1 Crush</th>\n",
       "      <td>7</td>\n",
       "    </tr>\n",
       "  </tbody>\n",
       "</table>\n",
       "</div>"
      ],
      "text/plain": [
       "                                                Plays\n",
       "Track                                                \n",
       "! (Foreword)                                        8\n",
       "# 173 - The Stills, Novillero, Fred Eaglesmith      1\n",
       "# 174 - The Organ, Sloan, Jill Barber               2\n",
       "#1                                                 65\n",
       "#1 Crush                                            7"
      ]
     },
     "execution_count": 37,
     "metadata": {},
     "output_type": "execute_result"
    }
   ],
   "source": [
    "plays=plays.rename(columns={'Age':'Plays'})\n",
    "plays.head(5)"
   ]
  },
  {
   "cell_type": "markdown",
   "metadata": {},
   "source": [
    "### Percentage of the plays that came from users who self-identified as male  \n",
    "\n",
    "Similar to the last chunk of code, a pivot table was created with the aggregate count of genders taken."
   ]
  },
  {
   "cell_type": "code",
   "execution_count": 38,
   "metadata": {},
   "outputs": [
    {
     "data": {
      "text/plain": [
       "m    546882\n",
       "f    288991\n",
       "Name: Gender, dtype: int64"
      ]
     },
     "execution_count": 38,
     "metadata": {},
     "output_type": "execute_result"
    }
   ],
   "source": [
    "data.Gender.value_counts()"
   ]
  },
  {
   "cell_type": "code",
   "execution_count": 39,
   "metadata": {},
   "outputs": [],
   "source": [
    "genders_pt = data.pivot_table(index=['Track'],columns=\"Gender\",aggfunc='count')"
   ]
  },
  {
   "cell_type": "code",
   "execution_count": 40,
   "metadata": {},
   "outputs": [
    {
     "data": {
      "text/html": [
       "<div>\n",
       "<style>\n",
       "    .dataframe thead tr:only-child th {\n",
       "        text-align: right;\n",
       "    }\n",
       "\n",
       "    .dataframe thead th {\n",
       "        text-align: left;\n",
       "    }\n",
       "\n",
       "    .dataframe tbody tr th {\n",
       "        vertical-align: top;\n",
       "    }\n",
       "</style>\n",
       "<table border=\"1\" class=\"dataframe\">\n",
       "  <thead>\n",
       "    <tr>\n",
       "      <th></th>\n",
       "      <th colspan=\"2\" halign=\"left\">Age</th>\n",
       "      <th colspan=\"2\" halign=\"left\">UserID</th>\n",
       "    </tr>\n",
       "    <tr>\n",
       "      <th>Gender</th>\n",
       "      <th>f</th>\n",
       "      <th>m</th>\n",
       "      <th>f</th>\n",
       "      <th>m</th>\n",
       "    </tr>\n",
       "    <tr>\n",
       "      <th>Track</th>\n",
       "      <th></th>\n",
       "      <th></th>\n",
       "      <th></th>\n",
       "      <th></th>\n",
       "    </tr>\n",
       "  </thead>\n",
       "  <tbody>\n",
       "    <tr>\n",
       "      <th>! (Foreword)</th>\n",
       "      <td>NaN</td>\n",
       "      <td>8.0</td>\n",
       "      <td>NaN</td>\n",
       "      <td>8.0</td>\n",
       "    </tr>\n",
       "    <tr>\n",
       "      <th># 173 - The Stills, Novillero, Fred Eaglesmith</th>\n",
       "      <td>NaN</td>\n",
       "      <td>1.0</td>\n",
       "      <td>NaN</td>\n",
       "      <td>1.0</td>\n",
       "    </tr>\n",
       "    <tr>\n",
       "      <th># 174 - The Organ, Sloan, Jill Barber</th>\n",
       "      <td>1.0</td>\n",
       "      <td>1.0</td>\n",
       "      <td>1.0</td>\n",
       "      <td>1.0</td>\n",
       "    </tr>\n",
       "    <tr>\n",
       "      <th>#1</th>\n",
       "      <td>29.0</td>\n",
       "      <td>36.0</td>\n",
       "      <td>29.0</td>\n",
       "      <td>36.0</td>\n",
       "    </tr>\n",
       "    <tr>\n",
       "      <th>#1 Crush</th>\n",
       "      <td>1.0</td>\n",
       "      <td>6.0</td>\n",
       "      <td>1.0</td>\n",
       "      <td>6.0</td>\n",
       "    </tr>\n",
       "  </tbody>\n",
       "</table>\n",
       "</div>"
      ],
      "text/plain": [
       "                                                 Age       UserID      \n",
       "Gender                                             f     m      f     m\n",
       "Track                                                                  \n",
       "! (Foreword)                                     NaN   8.0    NaN   8.0\n",
       "# 173 - The Stills, Novillero, Fred Eaglesmith   NaN   1.0    NaN   1.0\n",
       "# 174 - The Organ, Sloan, Jill Barber            1.0   1.0    1.0   1.0\n",
       "#1                                              29.0  36.0   29.0  36.0\n",
       "#1 Crush                                         1.0   6.0    1.0   6.0"
      ]
     },
     "execution_count": 40,
     "metadata": {},
     "output_type": "execute_result"
    }
   ],
   "source": [
    "genders_pt.head(5)"
   ]
  },
  {
   "cell_type": "code",
   "execution_count": 41,
   "metadata": {},
   "outputs": [
    {
     "data": {
      "text/html": [
       "<div>\n",
       "<style>\n",
       "    .dataframe thead tr:only-child th {\n",
       "        text-align: right;\n",
       "    }\n",
       "\n",
       "    .dataframe thead th {\n",
       "        text-align: left;\n",
       "    }\n",
       "\n",
       "    .dataframe tbody tr th {\n",
       "        vertical-align: top;\n",
       "    }\n",
       "</style>\n",
       "<table border=\"1\" class=\"dataframe\">\n",
       "  <thead>\n",
       "    <tr>\n",
       "      <th></th>\n",
       "      <th colspan=\"2\" halign=\"left\">Age</th>\n",
       "    </tr>\n",
       "    <tr>\n",
       "      <th>Gender</th>\n",
       "      <th>f</th>\n",
       "      <th>m</th>\n",
       "    </tr>\n",
       "    <tr>\n",
       "      <th>Track</th>\n",
       "      <th></th>\n",
       "      <th></th>\n",
       "    </tr>\n",
       "  </thead>\n",
       "  <tbody>\n",
       "    <tr>\n",
       "      <th>! (Foreword)</th>\n",
       "      <td>0.0</td>\n",
       "      <td>8.0</td>\n",
       "    </tr>\n",
       "    <tr>\n",
       "      <th># 173 - The Stills, Novillero, Fred Eaglesmith</th>\n",
       "      <td>0.0</td>\n",
       "      <td>1.0</td>\n",
       "    </tr>\n",
       "    <tr>\n",
       "      <th># 174 - The Organ, Sloan, Jill Barber</th>\n",
       "      <td>1.0</td>\n",
       "      <td>1.0</td>\n",
       "    </tr>\n",
       "    <tr>\n",
       "      <th>#1</th>\n",
       "      <td>29.0</td>\n",
       "      <td>36.0</td>\n",
       "    </tr>\n",
       "    <tr>\n",
       "      <th>#1 Crush</th>\n",
       "      <td>1.0</td>\n",
       "      <td>6.0</td>\n",
       "    </tr>\n",
       "    <tr>\n",
       "      <th>#1 Crush (Original Version)</th>\n",
       "      <td>10.0</td>\n",
       "      <td>0.0</td>\n",
       "    </tr>\n",
       "    <tr>\n",
       "      <th>#1 Hit Jam</th>\n",
       "      <td>0.0</td>\n",
       "      <td>2.0</td>\n",
       "    </tr>\n",
       "    <tr>\n",
       "      <th>#1 Target</th>\n",
       "      <td>0.0</td>\n",
       "      <td>1.0</td>\n",
       "    </tr>\n",
       "    <tr>\n",
       "      <th>#102 - Saskatoon Secret</th>\n",
       "      <td>0.0</td>\n",
       "      <td>1.0</td>\n",
       "    </tr>\n",
       "    <tr>\n",
       "      <th>#105 - The Canadian Dictionary Special</th>\n",
       "      <td>0.0</td>\n",
       "      <td>1.0</td>\n",
       "    </tr>\n",
       "    <tr>\n",
       "      <th>#107 - Prom Date</th>\n",
       "      <td>0.0</td>\n",
       "      <td>1.0</td>\n",
       "    </tr>\n",
       "    <tr>\n",
       "      <th>#111 - Turning Green</th>\n",
       "      <td>0.0</td>\n",
       "      <td>1.0</td>\n",
       "    </tr>\n",
       "    <tr>\n",
       "      <th>#112 - Polaris Music Prize Shortlist 2007</th>\n",
       "      <td>0.0</td>\n",
       "      <td>1.0</td>\n",
       "    </tr>\n",
       "    <tr>\n",
       "      <th>#141 – Toast To The East Coast</th>\n",
       "      <td>0.0</td>\n",
       "      <td>1.0</td>\n",
       "    </tr>\n",
       "    <tr>\n",
       "      <th>#142 – The Make-Out Podcast</th>\n",
       "      <td>0.0</td>\n",
       "      <td>1.0</td>\n",
       "    </tr>\n",
       "    <tr>\n",
       "      <th>#143 – Sleepless Maritime Nights</th>\n",
       "      <td>0.0</td>\n",
       "      <td>1.0</td>\n",
       "    </tr>\n",
       "    <tr>\n",
       "      <th>#144 – Here And Now With Hayden</th>\n",
       "      <td>0.0</td>\n",
       "      <td>1.0</td>\n",
       "    </tr>\n",
       "    <tr>\n",
       "      <th>#146 - Sxsw Survival Guide</th>\n",
       "      <td>0.0</td>\n",
       "      <td>1.0</td>\n",
       "    </tr>\n",
       "    <tr>\n",
       "      <th>#150 - Your Weekly Canadian Mixtape</th>\n",
       "      <td>0.0</td>\n",
       "      <td>1.0</td>\n",
       "    </tr>\n",
       "    <tr>\n",
       "      <th>#151 – Winnersleep</th>\n",
       "      <td>0.0</td>\n",
       "      <td>1.0</td>\n",
       "    </tr>\n",
       "  </tbody>\n",
       "</table>\n",
       "</div>"
      ],
      "text/plain": [
       "                                                 Age      \n",
       "Gender                                             f     m\n",
       "Track                                                     \n",
       "! (Foreword)                                     0.0   8.0\n",
       "# 173 - The Stills, Novillero, Fred Eaglesmith   0.0   1.0\n",
       "# 174 - The Organ, Sloan, Jill Barber            1.0   1.0\n",
       "#1                                              29.0  36.0\n",
       "#1 Crush                                         1.0   6.0\n",
       "#1 Crush (Original Version)                     10.0   0.0\n",
       "#1 Hit Jam                                       0.0   2.0\n",
       "#1 Target                                        0.0   1.0\n",
       "#102 - Saskatoon Secret                          0.0   1.0\n",
       "#105 - The Canadian Dictionary Special           0.0   1.0\n",
       "#107 - Prom Date                                 0.0   1.0\n",
       "#111 - Turning Green                             0.0   1.0\n",
       "#112 - Polaris Music Prize Shortlist 2007        0.0   1.0\n",
       "#141 – Toast To The East Coast                   0.0   1.0\n",
       "#142 – The Make-Out Podcast                      0.0   1.0\n",
       "#143 – Sleepless Maritime Nights                 0.0   1.0\n",
       "#144 – Here And Now With Hayden                  0.0   1.0\n",
       "#146 - Sxsw Survival Guide                       0.0   1.0\n",
       "#150 - Your Weekly Canadian Mixtape              0.0   1.0\n",
       "#151 – Winnersleep                               0.0   1.0"
      ]
     },
     "execution_count": 41,
     "metadata": {},
     "output_type": "execute_result"
    }
   ],
   "source": [
    "genders_pt=genders_pt.drop('UserID',axis=1)\n",
    "genders_pt.fillna(0,inplace=True,)\n",
    "genders_pt.head(20)"
   ]
  },
  {
   "cell_type": "markdown",
   "metadata": {},
   "source": [
    "This function calculates the percentage of male listeners."
   ]
  },
  {
   "cell_type": "code",
   "execution_count": 42,
   "metadata": {},
   "outputs": [],
   "source": [
    "def pct_male(row):\n",
    "    total= (row['Age']['m'] + row['Age']['f'])\n",
    "    return ((row['Age']['m']/total)*100)"
   ]
  },
  {
   "cell_type": "markdown",
   "metadata": {},
   "source": [
    "The above function is applied to the pivot table and saved in the dataframe of features of interest."
   ]
  },
  {
   "cell_type": "code",
   "execution_count": 43,
   "metadata": {},
   "outputs": [],
   "source": [
    "plays[\"Pct Males\"] = round(genders_pt.apply(pct_male, axis=1),2)"
   ]
  },
  {
   "cell_type": "code",
   "execution_count": 44,
   "metadata": {},
   "outputs": [
    {
     "data": {
      "text/html": [
       "<div>\n",
       "<style>\n",
       "    .dataframe thead tr:only-child th {\n",
       "        text-align: right;\n",
       "    }\n",
       "\n",
       "    .dataframe thead th {\n",
       "        text-align: left;\n",
       "    }\n",
       "\n",
       "    .dataframe tbody tr th {\n",
       "        vertical-align: top;\n",
       "    }\n",
       "</style>\n",
       "<table border=\"1\" class=\"dataframe\">\n",
       "  <thead>\n",
       "    <tr style=\"text-align: right;\">\n",
       "      <th></th>\n",
       "      <th>Plays</th>\n",
       "      <th>Pct Males</th>\n",
       "    </tr>\n",
       "    <tr>\n",
       "      <th>Track</th>\n",
       "      <th></th>\n",
       "      <th></th>\n",
       "    </tr>\n",
       "  </thead>\n",
       "  <tbody>\n",
       "    <tr>\n",
       "      <th>! (Foreword)</th>\n",
       "      <td>8</td>\n",
       "      <td>100.00</td>\n",
       "    </tr>\n",
       "    <tr>\n",
       "      <th># 173 - The Stills, Novillero, Fred Eaglesmith</th>\n",
       "      <td>1</td>\n",
       "      <td>100.00</td>\n",
       "    </tr>\n",
       "    <tr>\n",
       "      <th># 174 - The Organ, Sloan, Jill Barber</th>\n",
       "      <td>2</td>\n",
       "      <td>50.00</td>\n",
       "    </tr>\n",
       "    <tr>\n",
       "      <th>#1</th>\n",
       "      <td>65</td>\n",
       "      <td>55.38</td>\n",
       "    </tr>\n",
       "    <tr>\n",
       "      <th>#1 Crush</th>\n",
       "      <td>7</td>\n",
       "      <td>85.71</td>\n",
       "    </tr>\n",
       "  </tbody>\n",
       "</table>\n",
       "</div>"
      ],
      "text/plain": [
       "                                                Plays  Pct Males\n",
       "Track                                                           \n",
       "! (Foreword)                                        8     100.00\n",
       "# 173 - The Stills, Novillero, Fred Eaglesmith      1     100.00\n",
       "# 174 - The Organ, Sloan, Jill Barber               2      50.00\n",
       "#1                                                 65      55.38\n",
       "#1 Crush                                            7      85.71"
      ]
     },
     "execution_count": 44,
     "metadata": {},
     "output_type": "execute_result"
    }
   ],
   "source": [
    "plays.head(5)"
   ]
  },
  {
   "cell_type": "markdown",
   "metadata": {},
   "source": [
    "### Average age of the listener  \n",
    "\n",
    "Another pivot table is used to aggregate the mean of Age."
   ]
  },
  {
   "cell_type": "code",
   "execution_count": 45,
   "metadata": {},
   "outputs": [],
   "source": [
    "age = data.pivot_table(index=['Track'],aggfunc=\"mean\")"
   ]
  },
  {
   "cell_type": "code",
   "execution_count": 46,
   "metadata": {},
   "outputs": [
    {
     "data": {
      "text/html": [
       "<div>\n",
       "<style>\n",
       "    .dataframe thead tr:only-child th {\n",
       "        text-align: right;\n",
       "    }\n",
       "\n",
       "    .dataframe thead th {\n",
       "        text-align: left;\n",
       "    }\n",
       "\n",
       "    .dataframe tbody tr th {\n",
       "        vertical-align: top;\n",
       "    }\n",
       "</style>\n",
       "<table border=\"1\" class=\"dataframe\">\n",
       "  <thead>\n",
       "    <tr style=\"text-align: right;\">\n",
       "      <th></th>\n",
       "      <th>Age</th>\n",
       "    </tr>\n",
       "    <tr>\n",
       "      <th>Track</th>\n",
       "      <th></th>\n",
       "    </tr>\n",
       "  </thead>\n",
       "  <tbody>\n",
       "    <tr>\n",
       "      <th>! (Foreword)</th>\n",
       "      <td>22.000000</td>\n",
       "    </tr>\n",
       "    <tr>\n",
       "      <th># 173 - The Stills, Novillero, Fred Eaglesmith</th>\n",
       "      <td>27.000000</td>\n",
       "    </tr>\n",
       "    <tr>\n",
       "      <th># 174 - The Organ, Sloan, Jill Barber</th>\n",
       "      <td>27.500000</td>\n",
       "    </tr>\n",
       "    <tr>\n",
       "      <th>#1</th>\n",
       "      <td>24.246154</td>\n",
       "    </tr>\n",
       "    <tr>\n",
       "      <th>#1 Crush</th>\n",
       "      <td>25.000000</td>\n",
       "    </tr>\n",
       "  </tbody>\n",
       "</table>\n",
       "</div>"
      ],
      "text/plain": [
       "                                                      Age\n",
       "Track                                                    \n",
       "! (Foreword)                                    22.000000\n",
       "# 173 - The Stills, Novillero, Fred Eaglesmith  27.000000\n",
       "# 174 - The Organ, Sloan, Jill Barber           27.500000\n",
       "#1                                              24.246154\n",
       "#1 Crush                                        25.000000"
      ]
     },
     "execution_count": 46,
     "metadata": {},
     "output_type": "execute_result"
    }
   ],
   "source": [
    "age.head(5)"
   ]
  },
  {
   "cell_type": "code",
   "execution_count": 47,
   "metadata": {},
   "outputs": [
    {
     "data": {
      "text/html": [
       "<div>\n",
       "<style>\n",
       "    .dataframe thead tr:only-child th {\n",
       "        text-align: right;\n",
       "    }\n",
       "\n",
       "    .dataframe thead th {\n",
       "        text-align: left;\n",
       "    }\n",
       "\n",
       "    .dataframe tbody tr th {\n",
       "        vertical-align: top;\n",
       "    }\n",
       "</style>\n",
       "<table border=\"1\" class=\"dataframe\">\n",
       "  <thead>\n",
       "    <tr style=\"text-align: right;\">\n",
       "      <th></th>\n",
       "      <th>Plays</th>\n",
       "      <th>Pct Males</th>\n",
       "      <th>Avg Age</th>\n",
       "    </tr>\n",
       "    <tr>\n",
       "      <th>Track</th>\n",
       "      <th></th>\n",
       "      <th></th>\n",
       "      <th></th>\n",
       "    </tr>\n",
       "  </thead>\n",
       "  <tbody>\n",
       "    <tr>\n",
       "      <th>! (Foreword)</th>\n",
       "      <td>8</td>\n",
       "      <td>100.00</td>\n",
       "      <td>22.000000</td>\n",
       "    </tr>\n",
       "    <tr>\n",
       "      <th># 173 - The Stills, Novillero, Fred Eaglesmith</th>\n",
       "      <td>1</td>\n",
       "      <td>100.00</td>\n",
       "      <td>27.000000</td>\n",
       "    </tr>\n",
       "    <tr>\n",
       "      <th># 174 - The Organ, Sloan, Jill Barber</th>\n",
       "      <td>2</td>\n",
       "      <td>50.00</td>\n",
       "      <td>27.500000</td>\n",
       "    </tr>\n",
       "    <tr>\n",
       "      <th>#1</th>\n",
       "      <td>65</td>\n",
       "      <td>55.38</td>\n",
       "      <td>24.246154</td>\n",
       "    </tr>\n",
       "    <tr>\n",
       "      <th>#1 Crush</th>\n",
       "      <td>7</td>\n",
       "      <td>85.71</td>\n",
       "      <td>25.000000</td>\n",
       "    </tr>\n",
       "  </tbody>\n",
       "</table>\n",
       "</div>"
      ],
      "text/plain": [
       "                                                Plays  Pct Males    Avg Age\n",
       "Track                                                                      \n",
       "! (Foreword)                                        8     100.00  22.000000\n",
       "# 173 - The Stills, Novillero, Fred Eaglesmith      1     100.00  27.000000\n",
       "# 174 - The Organ, Sloan, Jill Barber               2      50.00  27.500000\n",
       "#1                                                 65      55.38  24.246154\n",
       "#1 Crush                                            7      85.71  25.000000"
      ]
     },
     "execution_count": 47,
     "metadata": {},
     "output_type": "execute_result"
    }
   ],
   "source": [
    "plays[\"Avg Age\"]=age['Age']\n",
    "plays.head()"
   ]
  },
  {
   "cell_type": "markdown",
   "metadata": {},
   "source": [
    "### Percentage of plays that came from a user who played the song exactly once.\n",
    "\n"
   ]
  },
  {
   "cell_type": "code",
   "execution_count": 48,
   "metadata": {},
   "outputs": [],
   "source": [
    "data2=data.copy()"
   ]
  },
  {
   "cell_type": "code",
   "execution_count": 49,
   "metadata": {},
   "outputs": [
    {
     "data": {
      "text/html": [
       "<div>\n",
       "<style>\n",
       "    .dataframe thead tr:only-child th {\n",
       "        text-align: right;\n",
       "    }\n",
       "\n",
       "    .dataframe thead th {\n",
       "        text-align: left;\n",
       "    }\n",
       "\n",
       "    .dataframe tbody tr th {\n",
       "        vertical-align: top;\n",
       "    }\n",
       "</style>\n",
       "<table border=\"1\" class=\"dataframe\">\n",
       "  <thead>\n",
       "    <tr style=\"text-align: right;\">\n",
       "      <th></th>\n",
       "      <th>UserID</th>\n",
       "      <th>Gender</th>\n",
       "      <th>Age</th>\n",
       "      <th>Track</th>\n",
       "    </tr>\n",
       "  </thead>\n",
       "  <tbody>\n",
       "    <tr>\n",
       "      <th>0</th>\n",
       "      <td>user_000001</td>\n",
       "      <td>m</td>\n",
       "      <td>25</td>\n",
       "      <td>Fuck Me Im Famous (Pacha Ibiza)-09-28-2007</td>\n",
       "    </tr>\n",
       "    <tr>\n",
       "      <th>1</th>\n",
       "      <td>user_000001</td>\n",
       "      <td>m</td>\n",
       "      <td>25</td>\n",
       "      <td>Composition 0919 (Live_2009_4_15)</td>\n",
       "    </tr>\n",
       "    <tr>\n",
       "      <th>2</th>\n",
       "      <td>user_000001</td>\n",
       "      <td>m</td>\n",
       "      <td>25</td>\n",
       "      <td>Mc2 (Live_2009_4_15)</td>\n",
       "    </tr>\n",
       "    <tr>\n",
       "      <th>3</th>\n",
       "      <td>user_000001</td>\n",
       "      <td>m</td>\n",
       "      <td>25</td>\n",
       "      <td>Hibari (Live_2009_4_15)</td>\n",
       "    </tr>\n",
       "    <tr>\n",
       "      <th>4</th>\n",
       "      <td>user_000001</td>\n",
       "      <td>m</td>\n",
       "      <td>25</td>\n",
       "      <td>Mc1 (Live_2009_4_15)</td>\n",
       "    </tr>\n",
       "  </tbody>\n",
       "</table>\n",
       "</div>"
      ],
      "text/plain": [
       "        UserID Gender  Age                                       Track\n",
       "0  user_000001      m   25  Fuck Me Im Famous (Pacha Ibiza)-09-28-2007\n",
       "1  user_000001      m   25           Composition 0919 (Live_2009_4_15)\n",
       "2  user_000001      m   25                        Mc2 (Live_2009_4_15)\n",
       "3  user_000001      m   25                     Hibari (Live_2009_4_15)\n",
       "4  user_000001      m   25                        Mc1 (Live_2009_4_15)"
      ]
     },
     "execution_count": 49,
     "metadata": {},
     "output_type": "execute_result"
    }
   ],
   "source": [
    "#data2=data2.drop(['Age','Gender'],axis=1)\n",
    "data2.head()"
   ]
  },
  {
   "cell_type": "code",
   "execution_count": 50,
   "metadata": {},
   "outputs": [],
   "source": [
    "pt = data2.pivot_table(index=data2.Track, columns=data2.UserID, aggfunc='count')"
   ]
  },
  {
   "cell_type": "code",
   "execution_count": 51,
   "metadata": {},
   "outputs": [
    {
     "data": {
      "text/html": [
       "<div>\n",
       "<style>\n",
       "    .dataframe thead tr:only-child th {\n",
       "        text-align: right;\n",
       "    }\n",
       "\n",
       "    .dataframe thead th {\n",
       "        text-align: left;\n",
       "    }\n",
       "\n",
       "    .dataframe tbody tr th {\n",
       "        vertical-align: top;\n",
       "    }\n",
       "</style>\n",
       "<table border=\"1\" class=\"dataframe\">\n",
       "  <thead>\n",
       "    <tr>\n",
       "      <th></th>\n",
       "      <th colspan=\"10\" halign=\"left\">Age</th>\n",
       "      <th>...</th>\n",
       "      <th colspan=\"10\" halign=\"left\">Gender</th>\n",
       "    </tr>\n",
       "    <tr>\n",
       "      <th>UserID</th>\n",
       "      <th>user_000001</th>\n",
       "      <th>user_000002</th>\n",
       "      <th>user_000003</th>\n",
       "      <th>user_000004</th>\n",
       "      <th>user_000005</th>\n",
       "      <th>user_000006</th>\n",
       "      <th>user_000007</th>\n",
       "      <th>user_000008</th>\n",
       "      <th>user_000009</th>\n",
       "      <th>user_000010</th>\n",
       "      <th>...</th>\n",
       "      <th>user_000024</th>\n",
       "      <th>user_000025</th>\n",
       "      <th>user_000026</th>\n",
       "      <th>user_000027</th>\n",
       "      <th>user_000028</th>\n",
       "      <th>user_000029</th>\n",
       "      <th>user_000030</th>\n",
       "      <th>user_000031</th>\n",
       "      <th>user_000032</th>\n",
       "      <th>user_000033</th>\n",
       "    </tr>\n",
       "    <tr>\n",
       "      <th>Track</th>\n",
       "      <th></th>\n",
       "      <th></th>\n",
       "      <th></th>\n",
       "      <th></th>\n",
       "      <th></th>\n",
       "      <th></th>\n",
       "      <th></th>\n",
       "      <th></th>\n",
       "      <th></th>\n",
       "      <th></th>\n",
       "      <th></th>\n",
       "      <th></th>\n",
       "      <th></th>\n",
       "      <th></th>\n",
       "      <th></th>\n",
       "      <th></th>\n",
       "      <th></th>\n",
       "      <th></th>\n",
       "      <th></th>\n",
       "      <th></th>\n",
       "      <th></th>\n",
       "    </tr>\n",
       "  </thead>\n",
       "  <tbody>\n",
       "    <tr>\n",
       "      <th>! (Foreword)</th>\n",
       "      <td>NaN</td>\n",
       "      <td>NaN</td>\n",
       "      <td>NaN</td>\n",
       "      <td>NaN</td>\n",
       "      <td>NaN</td>\n",
       "      <td>NaN</td>\n",
       "      <td>NaN</td>\n",
       "      <td>NaN</td>\n",
       "      <td>NaN</td>\n",
       "      <td>NaN</td>\n",
       "      <td>...</td>\n",
       "      <td>NaN</td>\n",
       "      <td>NaN</td>\n",
       "      <td>8.0</td>\n",
       "      <td>NaN</td>\n",
       "      <td>NaN</td>\n",
       "      <td>NaN</td>\n",
       "      <td>NaN</td>\n",
       "      <td>NaN</td>\n",
       "      <td>NaN</td>\n",
       "      <td>NaN</td>\n",
       "    </tr>\n",
       "    <tr>\n",
       "      <th># 173 - The Stills, Novillero, Fred Eaglesmith</th>\n",
       "      <td>NaN</td>\n",
       "      <td>NaN</td>\n",
       "      <td>NaN</td>\n",
       "      <td>NaN</td>\n",
       "      <td>NaN</td>\n",
       "      <td>NaN</td>\n",
       "      <td>NaN</td>\n",
       "      <td>NaN</td>\n",
       "      <td>NaN</td>\n",
       "      <td>NaN</td>\n",
       "      <td>...</td>\n",
       "      <td>NaN</td>\n",
       "      <td>NaN</td>\n",
       "      <td>NaN</td>\n",
       "      <td>NaN</td>\n",
       "      <td>NaN</td>\n",
       "      <td>NaN</td>\n",
       "      <td>NaN</td>\n",
       "      <td>NaN</td>\n",
       "      <td>NaN</td>\n",
       "      <td>NaN</td>\n",
       "    </tr>\n",
       "    <tr>\n",
       "      <th># 174 - The Organ, Sloan, Jill Barber</th>\n",
       "      <td>NaN</td>\n",
       "      <td>NaN</td>\n",
       "      <td>NaN</td>\n",
       "      <td>NaN</td>\n",
       "      <td>NaN</td>\n",
       "      <td>NaN</td>\n",
       "      <td>NaN</td>\n",
       "      <td>NaN</td>\n",
       "      <td>NaN</td>\n",
       "      <td>NaN</td>\n",
       "      <td>...</td>\n",
       "      <td>NaN</td>\n",
       "      <td>NaN</td>\n",
       "      <td>NaN</td>\n",
       "      <td>NaN</td>\n",
       "      <td>NaN</td>\n",
       "      <td>NaN</td>\n",
       "      <td>NaN</td>\n",
       "      <td>NaN</td>\n",
       "      <td>NaN</td>\n",
       "      <td>NaN</td>\n",
       "    </tr>\n",
       "    <tr>\n",
       "      <th>#1</th>\n",
       "      <td>NaN</td>\n",
       "      <td>NaN</td>\n",
       "      <td>NaN</td>\n",
       "      <td>NaN</td>\n",
       "      <td>NaN</td>\n",
       "      <td>NaN</td>\n",
       "      <td>NaN</td>\n",
       "      <td>NaN</td>\n",
       "      <td>NaN</td>\n",
       "      <td>23.0</td>\n",
       "      <td>...</td>\n",
       "      <td>NaN</td>\n",
       "      <td>NaN</td>\n",
       "      <td>NaN</td>\n",
       "      <td>NaN</td>\n",
       "      <td>NaN</td>\n",
       "      <td>NaN</td>\n",
       "      <td>12.0</td>\n",
       "      <td>NaN</td>\n",
       "      <td>NaN</td>\n",
       "      <td>NaN</td>\n",
       "    </tr>\n",
       "    <tr>\n",
       "      <th>#1 Crush</th>\n",
       "      <td>NaN</td>\n",
       "      <td>NaN</td>\n",
       "      <td>NaN</td>\n",
       "      <td>1.0</td>\n",
       "      <td>NaN</td>\n",
       "      <td>NaN</td>\n",
       "      <td>NaN</td>\n",
       "      <td>NaN</td>\n",
       "      <td>NaN</td>\n",
       "      <td>NaN</td>\n",
       "      <td>...</td>\n",
       "      <td>NaN</td>\n",
       "      <td>NaN</td>\n",
       "      <td>NaN</td>\n",
       "      <td>NaN</td>\n",
       "      <td>NaN</td>\n",
       "      <td>6.0</td>\n",
       "      <td>NaN</td>\n",
       "      <td>NaN</td>\n",
       "      <td>NaN</td>\n",
       "      <td>NaN</td>\n",
       "    </tr>\n",
       "    <tr>\n",
       "      <th>#1 Crush (Original Version)</th>\n",
       "      <td>NaN</td>\n",
       "      <td>NaN</td>\n",
       "      <td>NaN</td>\n",
       "      <td>10.0</td>\n",
       "      <td>NaN</td>\n",
       "      <td>NaN</td>\n",
       "      <td>NaN</td>\n",
       "      <td>NaN</td>\n",
       "      <td>NaN</td>\n",
       "      <td>NaN</td>\n",
       "      <td>...</td>\n",
       "      <td>NaN</td>\n",
       "      <td>NaN</td>\n",
       "      <td>NaN</td>\n",
       "      <td>NaN</td>\n",
       "      <td>NaN</td>\n",
       "      <td>NaN</td>\n",
       "      <td>NaN</td>\n",
       "      <td>NaN</td>\n",
       "      <td>NaN</td>\n",
       "      <td>NaN</td>\n",
       "    </tr>\n",
       "    <tr>\n",
       "      <th>#1 Hit Jam</th>\n",
       "      <td>NaN</td>\n",
       "      <td>NaN</td>\n",
       "      <td>NaN</td>\n",
       "      <td>NaN</td>\n",
       "      <td>NaN</td>\n",
       "      <td>NaN</td>\n",
       "      <td>NaN</td>\n",
       "      <td>NaN</td>\n",
       "      <td>NaN</td>\n",
       "      <td>NaN</td>\n",
       "      <td>...</td>\n",
       "      <td>NaN</td>\n",
       "      <td>NaN</td>\n",
       "      <td>NaN</td>\n",
       "      <td>NaN</td>\n",
       "      <td>NaN</td>\n",
       "      <td>NaN</td>\n",
       "      <td>2.0</td>\n",
       "      <td>NaN</td>\n",
       "      <td>NaN</td>\n",
       "      <td>NaN</td>\n",
       "    </tr>\n",
       "    <tr>\n",
       "      <th>#1 Target</th>\n",
       "      <td>NaN</td>\n",
       "      <td>NaN</td>\n",
       "      <td>NaN</td>\n",
       "      <td>NaN</td>\n",
       "      <td>NaN</td>\n",
       "      <td>NaN</td>\n",
       "      <td>NaN</td>\n",
       "      <td>NaN</td>\n",
       "      <td>NaN</td>\n",
       "      <td>NaN</td>\n",
       "      <td>...</td>\n",
       "      <td>NaN</td>\n",
       "      <td>NaN</td>\n",
       "      <td>NaN</td>\n",
       "      <td>NaN</td>\n",
       "      <td>NaN</td>\n",
       "      <td>NaN</td>\n",
       "      <td>NaN</td>\n",
       "      <td>NaN</td>\n",
       "      <td>NaN</td>\n",
       "      <td>NaN</td>\n",
       "    </tr>\n",
       "    <tr>\n",
       "      <th>#102 - Saskatoon Secret</th>\n",
       "      <td>NaN</td>\n",
       "      <td>NaN</td>\n",
       "      <td>NaN</td>\n",
       "      <td>NaN</td>\n",
       "      <td>NaN</td>\n",
       "      <td>NaN</td>\n",
       "      <td>NaN</td>\n",
       "      <td>NaN</td>\n",
       "      <td>NaN</td>\n",
       "      <td>NaN</td>\n",
       "      <td>...</td>\n",
       "      <td>NaN</td>\n",
       "      <td>NaN</td>\n",
       "      <td>NaN</td>\n",
       "      <td>NaN</td>\n",
       "      <td>NaN</td>\n",
       "      <td>NaN</td>\n",
       "      <td>NaN</td>\n",
       "      <td>NaN</td>\n",
       "      <td>NaN</td>\n",
       "      <td>NaN</td>\n",
       "    </tr>\n",
       "    <tr>\n",
       "      <th>#105 - The Canadian Dictionary Special</th>\n",
       "      <td>NaN</td>\n",
       "      <td>NaN</td>\n",
       "      <td>NaN</td>\n",
       "      <td>NaN</td>\n",
       "      <td>NaN</td>\n",
       "      <td>NaN</td>\n",
       "      <td>NaN</td>\n",
       "      <td>NaN</td>\n",
       "      <td>NaN</td>\n",
       "      <td>NaN</td>\n",
       "      <td>...</td>\n",
       "      <td>NaN</td>\n",
       "      <td>NaN</td>\n",
       "      <td>NaN</td>\n",
       "      <td>NaN</td>\n",
       "      <td>NaN</td>\n",
       "      <td>NaN</td>\n",
       "      <td>NaN</td>\n",
       "      <td>NaN</td>\n",
       "      <td>NaN</td>\n",
       "      <td>NaN</td>\n",
       "    </tr>\n",
       "  </tbody>\n",
       "</table>\n",
       "<p>10 rows × 66 columns</p>\n",
       "</div>"
      ],
      "text/plain": [
       "                                                       Age              \\\n",
       "UserID                                         user_000001 user_000002   \n",
       "Track                                                                    \n",
       "! (Foreword)                                           NaN         NaN   \n",
       "# 173 - The Stills, Novillero, Fred Eaglesmith         NaN         NaN   \n",
       "# 174 - The Organ, Sloan, Jill Barber                  NaN         NaN   \n",
       "#1                                                     NaN         NaN   \n",
       "#1 Crush                                               NaN         NaN   \n",
       "#1 Crush (Original Version)                            NaN         NaN   \n",
       "#1 Hit Jam                                             NaN         NaN   \n",
       "#1 Target                                              NaN         NaN   \n",
       "#102 - Saskatoon Secret                                NaN         NaN   \n",
       "#105 - The Canadian Dictionary Special                 NaN         NaN   \n",
       "\n",
       "                                                                        \\\n",
       "UserID                                         user_000003 user_000004   \n",
       "Track                                                                    \n",
       "! (Foreword)                                           NaN         NaN   \n",
       "# 173 - The Stills, Novillero, Fred Eaglesmith         NaN         NaN   \n",
       "# 174 - The Organ, Sloan, Jill Barber                  NaN         NaN   \n",
       "#1                                                     NaN         NaN   \n",
       "#1 Crush                                               NaN         1.0   \n",
       "#1 Crush (Original Version)                            NaN        10.0   \n",
       "#1 Hit Jam                                             NaN         NaN   \n",
       "#1 Target                                              NaN         NaN   \n",
       "#102 - Saskatoon Secret                                NaN         NaN   \n",
       "#105 - The Canadian Dictionary Special                 NaN         NaN   \n",
       "\n",
       "                                                                        \\\n",
       "UserID                                         user_000005 user_000006   \n",
       "Track                                                                    \n",
       "! (Foreword)                                           NaN         NaN   \n",
       "# 173 - The Stills, Novillero, Fred Eaglesmith         NaN         NaN   \n",
       "# 174 - The Organ, Sloan, Jill Barber                  NaN         NaN   \n",
       "#1                                                     NaN         NaN   \n",
       "#1 Crush                                               NaN         NaN   \n",
       "#1 Crush (Original Version)                            NaN         NaN   \n",
       "#1 Hit Jam                                             NaN         NaN   \n",
       "#1 Target                                              NaN         NaN   \n",
       "#102 - Saskatoon Secret                                NaN         NaN   \n",
       "#105 - The Canadian Dictionary Special                 NaN         NaN   \n",
       "\n",
       "                                                                        \\\n",
       "UserID                                         user_000007 user_000008   \n",
       "Track                                                                    \n",
       "! (Foreword)                                           NaN         NaN   \n",
       "# 173 - The Stills, Novillero, Fred Eaglesmith         NaN         NaN   \n",
       "# 174 - The Organ, Sloan, Jill Barber                  NaN         NaN   \n",
       "#1                                                     NaN         NaN   \n",
       "#1 Crush                                               NaN         NaN   \n",
       "#1 Crush (Original Version)                            NaN         NaN   \n",
       "#1 Hit Jam                                             NaN         NaN   \n",
       "#1 Target                                              NaN         NaN   \n",
       "#102 - Saskatoon Secret                                NaN         NaN   \n",
       "#105 - The Canadian Dictionary Special                 NaN         NaN   \n",
       "\n",
       "                                                                        \\\n",
       "UserID                                         user_000009 user_000010   \n",
       "Track                                                                    \n",
       "! (Foreword)                                           NaN         NaN   \n",
       "# 173 - The Stills, Novillero, Fred Eaglesmith         NaN         NaN   \n",
       "# 174 - The Organ, Sloan, Jill Barber                  NaN         NaN   \n",
       "#1                                                     NaN        23.0   \n",
       "#1 Crush                                               NaN         NaN   \n",
       "#1 Crush (Original Version)                            NaN         NaN   \n",
       "#1 Hit Jam                                             NaN         NaN   \n",
       "#1 Target                                              NaN         NaN   \n",
       "#102 - Saskatoon Secret                                NaN         NaN   \n",
       "#105 - The Canadian Dictionary Special                 NaN         NaN   \n",
       "\n",
       "                                                   ...          Gender  \\\n",
       "UserID                                             ...     user_000024   \n",
       "Track                                              ...                   \n",
       "! (Foreword)                                       ...             NaN   \n",
       "# 173 - The Stills, Novillero, Fred Eaglesmith     ...             NaN   \n",
       "# 174 - The Organ, Sloan, Jill Barber              ...             NaN   \n",
       "#1                                                 ...             NaN   \n",
       "#1 Crush                                           ...             NaN   \n",
       "#1 Crush (Original Version)                        ...             NaN   \n",
       "#1 Hit Jam                                         ...             NaN   \n",
       "#1 Target                                          ...             NaN   \n",
       "#102 - Saskatoon Secret                            ...             NaN   \n",
       "#105 - The Canadian Dictionary Special             ...             NaN   \n",
       "\n",
       "                                                                        \\\n",
       "UserID                                         user_000025 user_000026   \n",
       "Track                                                                    \n",
       "! (Foreword)                                           NaN         8.0   \n",
       "# 173 - The Stills, Novillero, Fred Eaglesmith         NaN         NaN   \n",
       "# 174 - The Organ, Sloan, Jill Barber                  NaN         NaN   \n",
       "#1                                                     NaN         NaN   \n",
       "#1 Crush                                               NaN         NaN   \n",
       "#1 Crush (Original Version)                            NaN         NaN   \n",
       "#1 Hit Jam                                             NaN         NaN   \n",
       "#1 Target                                              NaN         NaN   \n",
       "#102 - Saskatoon Secret                                NaN         NaN   \n",
       "#105 - The Canadian Dictionary Special                 NaN         NaN   \n",
       "\n",
       "                                                                        \\\n",
       "UserID                                         user_000027 user_000028   \n",
       "Track                                                                    \n",
       "! (Foreword)                                           NaN         NaN   \n",
       "# 173 - The Stills, Novillero, Fred Eaglesmith         NaN         NaN   \n",
       "# 174 - The Organ, Sloan, Jill Barber                  NaN         NaN   \n",
       "#1                                                     NaN         NaN   \n",
       "#1 Crush                                               NaN         NaN   \n",
       "#1 Crush (Original Version)                            NaN         NaN   \n",
       "#1 Hit Jam                                             NaN         NaN   \n",
       "#1 Target                                              NaN         NaN   \n",
       "#102 - Saskatoon Secret                                NaN         NaN   \n",
       "#105 - The Canadian Dictionary Special                 NaN         NaN   \n",
       "\n",
       "                                                                        \\\n",
       "UserID                                         user_000029 user_000030   \n",
       "Track                                                                    \n",
       "! (Foreword)                                           NaN         NaN   \n",
       "# 173 - The Stills, Novillero, Fred Eaglesmith         NaN         NaN   \n",
       "# 174 - The Organ, Sloan, Jill Barber                  NaN         NaN   \n",
       "#1                                                     NaN        12.0   \n",
       "#1 Crush                                               6.0         NaN   \n",
       "#1 Crush (Original Version)                            NaN         NaN   \n",
       "#1 Hit Jam                                             NaN         2.0   \n",
       "#1 Target                                              NaN         NaN   \n",
       "#102 - Saskatoon Secret                                NaN         NaN   \n",
       "#105 - The Canadian Dictionary Special                 NaN         NaN   \n",
       "\n",
       "                                                                        \\\n",
       "UserID                                         user_000031 user_000032   \n",
       "Track                                                                    \n",
       "! (Foreword)                                           NaN         NaN   \n",
       "# 173 - The Stills, Novillero, Fred Eaglesmith         NaN         NaN   \n",
       "# 174 - The Organ, Sloan, Jill Barber                  NaN         NaN   \n",
       "#1                                                     NaN         NaN   \n",
       "#1 Crush                                               NaN         NaN   \n",
       "#1 Crush (Original Version)                            NaN         NaN   \n",
       "#1 Hit Jam                                             NaN         NaN   \n",
       "#1 Target                                              NaN         NaN   \n",
       "#102 - Saskatoon Secret                                NaN         NaN   \n",
       "#105 - The Canadian Dictionary Special                 NaN         NaN   \n",
       "\n",
       "                                                            \n",
       "UserID                                         user_000033  \n",
       "Track                                                       \n",
       "! (Foreword)                                           NaN  \n",
       "# 173 - The Stills, Novillero, Fred Eaglesmith         NaN  \n",
       "# 174 - The Organ, Sloan, Jill Barber                  NaN  \n",
       "#1                                                     NaN  \n",
       "#1 Crush                                               NaN  \n",
       "#1 Crush (Original Version)                            NaN  \n",
       "#1 Hit Jam                                             NaN  \n",
       "#1 Target                                              NaN  \n",
       "#102 - Saskatoon Secret                                NaN  \n",
       "#105 - The Canadian Dictionary Special                 NaN  \n",
       "\n",
       "[10 rows x 66 columns]"
      ]
     },
     "execution_count": 51,
     "metadata": {},
     "output_type": "execute_result"
    }
   ],
   "source": [
    "pt.head(10)"
   ]
  },
  {
   "cell_type": "code",
   "execution_count": 52,
   "metadata": {},
   "outputs": [],
   "source": [
    "pt.fillna(0,inplace=True)   "
   ]
  },
  {
   "cell_type": "code",
   "execution_count": 53,
   "metadata": {
    "scrolled": true
   },
   "outputs": [
    {
     "data": {
      "text/html": [
       "<div>\n",
       "<style>\n",
       "    .dataframe thead tr:only-child th {\n",
       "        text-align: right;\n",
       "    }\n",
       "\n",
       "    .dataframe thead th {\n",
       "        text-align: left;\n",
       "    }\n",
       "\n",
       "    .dataframe tbody tr th {\n",
       "        vertical-align: top;\n",
       "    }\n",
       "</style>\n",
       "<table border=\"1\" class=\"dataframe\">\n",
       "  <thead>\n",
       "    <tr>\n",
       "      <th></th>\n",
       "      <th colspan=\"10\" halign=\"left\">Age</th>\n",
       "      <th>...</th>\n",
       "      <th colspan=\"10\" halign=\"left\">Gender</th>\n",
       "    </tr>\n",
       "    <tr>\n",
       "      <th>UserID</th>\n",
       "      <th>user_000001</th>\n",
       "      <th>user_000002</th>\n",
       "      <th>user_000003</th>\n",
       "      <th>user_000004</th>\n",
       "      <th>user_000005</th>\n",
       "      <th>user_000006</th>\n",
       "      <th>user_000007</th>\n",
       "      <th>user_000008</th>\n",
       "      <th>user_000009</th>\n",
       "      <th>user_000010</th>\n",
       "      <th>...</th>\n",
       "      <th>user_000024</th>\n",
       "      <th>user_000025</th>\n",
       "      <th>user_000026</th>\n",
       "      <th>user_000027</th>\n",
       "      <th>user_000028</th>\n",
       "      <th>user_000029</th>\n",
       "      <th>user_000030</th>\n",
       "      <th>user_000031</th>\n",
       "      <th>user_000032</th>\n",
       "      <th>user_000033</th>\n",
       "    </tr>\n",
       "    <tr>\n",
       "      <th>Track</th>\n",
       "      <th></th>\n",
       "      <th></th>\n",
       "      <th></th>\n",
       "      <th></th>\n",
       "      <th></th>\n",
       "      <th></th>\n",
       "      <th></th>\n",
       "      <th></th>\n",
       "      <th></th>\n",
       "      <th></th>\n",
       "      <th></th>\n",
       "      <th></th>\n",
       "      <th></th>\n",
       "      <th></th>\n",
       "      <th></th>\n",
       "      <th></th>\n",
       "      <th></th>\n",
       "      <th></th>\n",
       "      <th></th>\n",
       "      <th></th>\n",
       "      <th></th>\n",
       "    </tr>\n",
       "  </thead>\n",
       "  <tbody>\n",
       "    <tr>\n",
       "      <th>! (Foreword)</th>\n",
       "      <td>0.0</td>\n",
       "      <td>0.0</td>\n",
       "      <td>0.0</td>\n",
       "      <td>0.0</td>\n",
       "      <td>0.0</td>\n",
       "      <td>0.0</td>\n",
       "      <td>0.0</td>\n",
       "      <td>0.0</td>\n",
       "      <td>0.0</td>\n",
       "      <td>0.0</td>\n",
       "      <td>...</td>\n",
       "      <td>0.0</td>\n",
       "      <td>0.0</td>\n",
       "      <td>8.0</td>\n",
       "      <td>0.0</td>\n",
       "      <td>0.0</td>\n",
       "      <td>0.0</td>\n",
       "      <td>0.0</td>\n",
       "      <td>0.0</td>\n",
       "      <td>0.0</td>\n",
       "      <td>0.0</td>\n",
       "    </tr>\n",
       "    <tr>\n",
       "      <th># 173 - The Stills, Novillero, Fred Eaglesmith</th>\n",
       "      <td>0.0</td>\n",
       "      <td>0.0</td>\n",
       "      <td>0.0</td>\n",
       "      <td>0.0</td>\n",
       "      <td>0.0</td>\n",
       "      <td>0.0</td>\n",
       "      <td>0.0</td>\n",
       "      <td>0.0</td>\n",
       "      <td>0.0</td>\n",
       "      <td>0.0</td>\n",
       "      <td>...</td>\n",
       "      <td>0.0</td>\n",
       "      <td>0.0</td>\n",
       "      <td>0.0</td>\n",
       "      <td>0.0</td>\n",
       "      <td>0.0</td>\n",
       "      <td>0.0</td>\n",
       "      <td>0.0</td>\n",
       "      <td>0.0</td>\n",
       "      <td>0.0</td>\n",
       "      <td>0.0</td>\n",
       "    </tr>\n",
       "    <tr>\n",
       "      <th># 174 - The Organ, Sloan, Jill Barber</th>\n",
       "      <td>0.0</td>\n",
       "      <td>0.0</td>\n",
       "      <td>0.0</td>\n",
       "      <td>0.0</td>\n",
       "      <td>0.0</td>\n",
       "      <td>0.0</td>\n",
       "      <td>0.0</td>\n",
       "      <td>0.0</td>\n",
       "      <td>0.0</td>\n",
       "      <td>0.0</td>\n",
       "      <td>...</td>\n",
       "      <td>0.0</td>\n",
       "      <td>0.0</td>\n",
       "      <td>0.0</td>\n",
       "      <td>0.0</td>\n",
       "      <td>0.0</td>\n",
       "      <td>0.0</td>\n",
       "      <td>0.0</td>\n",
       "      <td>0.0</td>\n",
       "      <td>0.0</td>\n",
       "      <td>0.0</td>\n",
       "    </tr>\n",
       "    <tr>\n",
       "      <th>#1</th>\n",
       "      <td>0.0</td>\n",
       "      <td>0.0</td>\n",
       "      <td>0.0</td>\n",
       "      <td>0.0</td>\n",
       "      <td>0.0</td>\n",
       "      <td>0.0</td>\n",
       "      <td>0.0</td>\n",
       "      <td>0.0</td>\n",
       "      <td>0.0</td>\n",
       "      <td>23.0</td>\n",
       "      <td>...</td>\n",
       "      <td>0.0</td>\n",
       "      <td>0.0</td>\n",
       "      <td>0.0</td>\n",
       "      <td>0.0</td>\n",
       "      <td>0.0</td>\n",
       "      <td>0.0</td>\n",
       "      <td>12.0</td>\n",
       "      <td>0.0</td>\n",
       "      <td>0.0</td>\n",
       "      <td>0.0</td>\n",
       "    </tr>\n",
       "    <tr>\n",
       "      <th>#1 Crush</th>\n",
       "      <td>0.0</td>\n",
       "      <td>0.0</td>\n",
       "      <td>0.0</td>\n",
       "      <td>1.0</td>\n",
       "      <td>0.0</td>\n",
       "      <td>0.0</td>\n",
       "      <td>0.0</td>\n",
       "      <td>0.0</td>\n",
       "      <td>0.0</td>\n",
       "      <td>0.0</td>\n",
       "      <td>...</td>\n",
       "      <td>0.0</td>\n",
       "      <td>0.0</td>\n",
       "      <td>0.0</td>\n",
       "      <td>0.0</td>\n",
       "      <td>0.0</td>\n",
       "      <td>6.0</td>\n",
       "      <td>0.0</td>\n",
       "      <td>0.0</td>\n",
       "      <td>0.0</td>\n",
       "      <td>0.0</td>\n",
       "    </tr>\n",
       "  </tbody>\n",
       "</table>\n",
       "<p>5 rows × 66 columns</p>\n",
       "</div>"
      ],
      "text/plain": [
       "                                                       Age              \\\n",
       "UserID                                         user_000001 user_000002   \n",
       "Track                                                                    \n",
       "! (Foreword)                                           0.0         0.0   \n",
       "# 173 - The Stills, Novillero, Fred Eaglesmith         0.0         0.0   \n",
       "# 174 - The Organ, Sloan, Jill Barber                  0.0         0.0   \n",
       "#1                                                     0.0         0.0   \n",
       "#1 Crush                                               0.0         0.0   \n",
       "\n",
       "                                                                        \\\n",
       "UserID                                         user_000003 user_000004   \n",
       "Track                                                                    \n",
       "! (Foreword)                                           0.0         0.0   \n",
       "# 173 - The Stills, Novillero, Fred Eaglesmith         0.0         0.0   \n",
       "# 174 - The Organ, Sloan, Jill Barber                  0.0         0.0   \n",
       "#1                                                     0.0         0.0   \n",
       "#1 Crush                                               0.0         1.0   \n",
       "\n",
       "                                                                        \\\n",
       "UserID                                         user_000005 user_000006   \n",
       "Track                                                                    \n",
       "! (Foreword)                                           0.0         0.0   \n",
       "# 173 - The Stills, Novillero, Fred Eaglesmith         0.0         0.0   \n",
       "# 174 - The Organ, Sloan, Jill Barber                  0.0         0.0   \n",
       "#1                                                     0.0         0.0   \n",
       "#1 Crush                                               0.0         0.0   \n",
       "\n",
       "                                                                        \\\n",
       "UserID                                         user_000007 user_000008   \n",
       "Track                                                                    \n",
       "! (Foreword)                                           0.0         0.0   \n",
       "# 173 - The Stills, Novillero, Fred Eaglesmith         0.0         0.0   \n",
       "# 174 - The Organ, Sloan, Jill Barber                  0.0         0.0   \n",
       "#1                                                     0.0         0.0   \n",
       "#1 Crush                                               0.0         0.0   \n",
       "\n",
       "                                                                        \\\n",
       "UserID                                         user_000009 user_000010   \n",
       "Track                                                                    \n",
       "! (Foreword)                                           0.0         0.0   \n",
       "# 173 - The Stills, Novillero, Fred Eaglesmith         0.0         0.0   \n",
       "# 174 - The Organ, Sloan, Jill Barber                  0.0         0.0   \n",
       "#1                                                     0.0        23.0   \n",
       "#1 Crush                                               0.0         0.0   \n",
       "\n",
       "                                                   ...          Gender  \\\n",
       "UserID                                             ...     user_000024   \n",
       "Track                                              ...                   \n",
       "! (Foreword)                                       ...             0.0   \n",
       "# 173 - The Stills, Novillero, Fred Eaglesmith     ...             0.0   \n",
       "# 174 - The Organ, Sloan, Jill Barber              ...             0.0   \n",
       "#1                                                 ...             0.0   \n",
       "#1 Crush                                           ...             0.0   \n",
       "\n",
       "                                                                        \\\n",
       "UserID                                         user_000025 user_000026   \n",
       "Track                                                                    \n",
       "! (Foreword)                                           0.0         8.0   \n",
       "# 173 - The Stills, Novillero, Fred Eaglesmith         0.0         0.0   \n",
       "# 174 - The Organ, Sloan, Jill Barber                  0.0         0.0   \n",
       "#1                                                     0.0         0.0   \n",
       "#1 Crush                                               0.0         0.0   \n",
       "\n",
       "                                                                        \\\n",
       "UserID                                         user_000027 user_000028   \n",
       "Track                                                                    \n",
       "! (Foreword)                                           0.0         0.0   \n",
       "# 173 - The Stills, Novillero, Fred Eaglesmith         0.0         0.0   \n",
       "# 174 - The Organ, Sloan, Jill Barber                  0.0         0.0   \n",
       "#1                                                     0.0         0.0   \n",
       "#1 Crush                                               0.0         0.0   \n",
       "\n",
       "                                                                        \\\n",
       "UserID                                         user_000029 user_000030   \n",
       "Track                                                                    \n",
       "! (Foreword)                                           0.0         0.0   \n",
       "# 173 - The Stills, Novillero, Fred Eaglesmith         0.0         0.0   \n",
       "# 174 - The Organ, Sloan, Jill Barber                  0.0         0.0   \n",
       "#1                                                     0.0        12.0   \n",
       "#1 Crush                                               6.0         0.0   \n",
       "\n",
       "                                                                        \\\n",
       "UserID                                         user_000031 user_000032   \n",
       "Track                                                                    \n",
       "! (Foreword)                                           0.0         0.0   \n",
       "# 173 - The Stills, Novillero, Fred Eaglesmith         0.0         0.0   \n",
       "# 174 - The Organ, Sloan, Jill Barber                  0.0         0.0   \n",
       "#1                                                     0.0         0.0   \n",
       "#1 Crush                                               0.0         0.0   \n",
       "\n",
       "                                                            \n",
       "UserID                                         user_000033  \n",
       "Track                                                       \n",
       "! (Foreword)                                           0.0  \n",
       "# 173 - The Stills, Novillero, Fred Eaglesmith         0.0  \n",
       "# 174 - The Organ, Sloan, Jill Barber                  0.0  \n",
       "#1                                                     0.0  \n",
       "#1 Crush                                               0.0  \n",
       "\n",
       "[5 rows x 66 columns]"
      ]
     },
     "execution_count": 53,
     "metadata": {},
     "output_type": "execute_result"
    }
   ],
   "source": [
    "pt.head()"
   ]
  },
  {
   "cell_type": "code",
   "execution_count": 54,
   "metadata": {},
   "outputs": [],
   "source": [
    "def pct_one(row):\n",
    "    total= (row.sum(axis=0))\n",
    "    return (len(row ==1)/total)"
   ]
  },
  {
   "cell_type": "code",
   "execution_count": 55,
   "metadata": {},
   "outputs": [],
   "source": [
    "plays[\"Pct One\"] = round(pt.apply(pct_one, axis=1),2)"
   ]
  },
  {
   "cell_type": "code",
   "execution_count": 56,
   "metadata": {},
   "outputs": [
    {
     "data": {
      "text/html": [
       "<div>\n",
       "<style>\n",
       "    .dataframe thead tr:only-child th {\n",
       "        text-align: right;\n",
       "    }\n",
       "\n",
       "    .dataframe thead th {\n",
       "        text-align: left;\n",
       "    }\n",
       "\n",
       "    .dataframe tbody tr th {\n",
       "        vertical-align: top;\n",
       "    }\n",
       "</style>\n",
       "<table border=\"1\" class=\"dataframe\">\n",
       "  <thead>\n",
       "    <tr style=\"text-align: right;\">\n",
       "      <th></th>\n",
       "      <th>Plays</th>\n",
       "      <th>Pct Males</th>\n",
       "      <th>Avg Age</th>\n",
       "      <th>Pct One</th>\n",
       "    </tr>\n",
       "    <tr>\n",
       "      <th>Track</th>\n",
       "      <th></th>\n",
       "      <th></th>\n",
       "      <th></th>\n",
       "      <th></th>\n",
       "    </tr>\n",
       "  </thead>\n",
       "  <tbody>\n",
       "    <tr>\n",
       "      <th>! (Foreword)</th>\n",
       "      <td>8</td>\n",
       "      <td>100.00</td>\n",
       "      <td>22.000000</td>\n",
       "      <td>4.12</td>\n",
       "    </tr>\n",
       "    <tr>\n",
       "      <th># 173 - The Stills, Novillero, Fred Eaglesmith</th>\n",
       "      <td>1</td>\n",
       "      <td>100.00</td>\n",
       "      <td>27.000000</td>\n",
       "      <td>33.00</td>\n",
       "    </tr>\n",
       "    <tr>\n",
       "      <th># 174 - The Organ, Sloan, Jill Barber</th>\n",
       "      <td>2</td>\n",
       "      <td>50.00</td>\n",
       "      <td>27.500000</td>\n",
       "      <td>16.50</td>\n",
       "    </tr>\n",
       "    <tr>\n",
       "      <th>#1</th>\n",
       "      <td>65</td>\n",
       "      <td>55.38</td>\n",
       "      <td>24.246154</td>\n",
       "      <td>0.51</td>\n",
       "    </tr>\n",
       "    <tr>\n",
       "      <th>#1 Crush</th>\n",
       "      <td>7</td>\n",
       "      <td>85.71</td>\n",
       "      <td>25.000000</td>\n",
       "      <td>4.71</td>\n",
       "    </tr>\n",
       "  </tbody>\n",
       "</table>\n",
       "</div>"
      ],
      "text/plain": [
       "                                                Plays  Pct Males    Avg Age  \\\n",
       "Track                                                                         \n",
       "! (Foreword)                                        8     100.00  22.000000   \n",
       "# 173 - The Stills, Novillero, Fred Eaglesmith      1     100.00  27.000000   \n",
       "# 174 - The Organ, Sloan, Jill Barber               2      50.00  27.500000   \n",
       "#1                                                 65      55.38  24.246154   \n",
       "#1 Crush                                            7      85.71  25.000000   \n",
       "\n",
       "                                                Pct One  \n",
       "Track                                                    \n",
       "! (Foreword)                                       4.12  \n",
       "# 173 - The Stills, Novillero, Fred Eaglesmith    33.00  \n",
       "# 174 - The Organ, Sloan, Jill Barber             16.50  \n",
       "#1                                                 0.51  \n",
       "#1 Crush                                           4.71  "
      ]
     },
     "execution_count": 56,
     "metadata": {},
     "output_type": "execute_result"
    }
   ],
   "source": [
    "plays.head()"
   ]
  },
  {
   "cell_type": "markdown",
   "metadata": {},
   "source": [
    "percentage of plays that came from a user who played the song at least five times  "
   ]
  },
  {
   "cell_type": "code",
   "execution_count": 57,
   "metadata": {},
   "outputs": [],
   "source": [
    "def pct_five(row):\n",
    "    total = row.sum(axis=0)\n",
    "    return (len(row>=5)/total)"
   ]
  },
  {
   "cell_type": "code",
   "execution_count": 58,
   "metadata": {},
   "outputs": [],
   "source": [
    "plays['Pct Five or more'] = round(pt.apply(pct_five,axis=1),2)"
   ]
  },
  {
   "cell_type": "code",
   "execution_count": 59,
   "metadata": {},
   "outputs": [
    {
     "data": {
      "text/html": [
       "<div>\n",
       "<style>\n",
       "    .dataframe thead tr:only-child th {\n",
       "        text-align: right;\n",
       "    }\n",
       "\n",
       "    .dataframe thead th {\n",
       "        text-align: left;\n",
       "    }\n",
       "\n",
       "    .dataframe tbody tr th {\n",
       "        vertical-align: top;\n",
       "    }\n",
       "</style>\n",
       "<table border=\"1\" class=\"dataframe\">\n",
       "  <thead>\n",
       "    <tr style=\"text-align: right;\">\n",
       "      <th></th>\n",
       "      <th>Plays</th>\n",
       "      <th>Pct Males</th>\n",
       "      <th>Avg Age</th>\n",
       "      <th>Pct One</th>\n",
       "      <th>Pct Five or more</th>\n",
       "    </tr>\n",
       "    <tr>\n",
       "      <th>Track</th>\n",
       "      <th></th>\n",
       "      <th></th>\n",
       "      <th></th>\n",
       "      <th></th>\n",
       "      <th></th>\n",
       "    </tr>\n",
       "  </thead>\n",
       "  <tbody>\n",
       "    <tr>\n",
       "      <th>! (Foreword)</th>\n",
       "      <td>8</td>\n",
       "      <td>100.00</td>\n",
       "      <td>22.000000</td>\n",
       "      <td>4.12</td>\n",
       "      <td>4.12</td>\n",
       "    </tr>\n",
       "    <tr>\n",
       "      <th># 173 - The Stills, Novillero, Fred Eaglesmith</th>\n",
       "      <td>1</td>\n",
       "      <td>100.00</td>\n",
       "      <td>27.000000</td>\n",
       "      <td>33.00</td>\n",
       "      <td>33.00</td>\n",
       "    </tr>\n",
       "    <tr>\n",
       "      <th># 174 - The Organ, Sloan, Jill Barber</th>\n",
       "      <td>2</td>\n",
       "      <td>50.00</td>\n",
       "      <td>27.500000</td>\n",
       "      <td>16.50</td>\n",
       "      <td>16.50</td>\n",
       "    </tr>\n",
       "    <tr>\n",
       "      <th>#1</th>\n",
       "      <td>65</td>\n",
       "      <td>55.38</td>\n",
       "      <td>24.246154</td>\n",
       "      <td>0.51</td>\n",
       "      <td>0.51</td>\n",
       "    </tr>\n",
       "    <tr>\n",
       "      <th>#1 Crush</th>\n",
       "      <td>7</td>\n",
       "      <td>85.71</td>\n",
       "      <td>25.000000</td>\n",
       "      <td>4.71</td>\n",
       "      <td>4.71</td>\n",
       "    </tr>\n",
       "  </tbody>\n",
       "</table>\n",
       "</div>"
      ],
      "text/plain": [
       "                                                Plays  Pct Males    Avg Age  \\\n",
       "Track                                                                         \n",
       "! (Foreword)                                        8     100.00  22.000000   \n",
       "# 173 - The Stills, Novillero, Fred Eaglesmith      1     100.00  27.000000   \n",
       "# 174 - The Organ, Sloan, Jill Barber               2      50.00  27.500000   \n",
       "#1                                                 65      55.38  24.246154   \n",
       "#1 Crush                                            7      85.71  25.000000   \n",
       "\n",
       "                                                Pct One  Pct Five or more  \n",
       "Track                                                                      \n",
       "! (Foreword)                                       4.12              4.12  \n",
       "# 173 - The Stills, Novillero, Fred Eaglesmith    33.00             33.00  \n",
       "# 174 - The Organ, Sloan, Jill Barber             16.50             16.50  \n",
       "#1                                                 0.51              0.51  \n",
       "#1 Crush                                           4.71              4.71  "
      ]
     },
     "execution_count": 59,
     "metadata": {},
     "output_type": "execute_result"
    }
   ],
   "source": [
    "plays.head()"
   ]
  },
  {
   "cell_type": "markdown",
   "metadata": {},
   "source": [
    "## Pickling"
   ]
  },
  {
   "cell_type": "code",
   "execution_count": 60,
   "metadata": {},
   "outputs": [],
   "source": [
    "pickle_out = open('data.pkl', 'wb')\n",
    "# Pickle the 'data' dictionary using the highest protocol available.\n",
    "pickle.dump(plays, pickle_out, pickle.HIGHEST_PROTOCOL)\n",
    "pickle_out.close()"
   ]
  },
  {
   "cell_type": "code",
   "execution_count": null,
   "metadata": {},
   "outputs": [],
   "source": []
  }
 ],
 "metadata": {
  "kernelspec": {
   "display_name": "Python 3",
   "language": "python",
   "name": "python3"
  },
  "language_info": {
   "codemirror_mode": {
    "name": "ipython",
    "version": 3
   },
   "file_extension": ".py",
   "mimetype": "text/x-python",
   "name": "python",
   "nbconvert_exporter": "python",
   "pygments_lexer": "ipython3",
   "version": "3.6.6"
  }
 },
 "nbformat": 4,
 "nbformat_minor": 2
}
