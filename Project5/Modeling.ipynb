{
 "cells": [
  {
   "cell_type": "markdown",
   "metadata": {},
   "source": [
    "In a new notebook, load the dataframe object.   \n",
    "\n",
    "Using k-fold cross-validation, apply a linear regression model.   \n",
    "\n",
    "Here, the response variable is the number of times a song has been played based on what we know about the listeners. \n",
    "\n",
    "Be sure to return the model score on both the training and validation data.\n",
    "\n",
    "Explain your results. Specifically address, if the assumption of linear response to the input features was reasonable. \n",
    "\n",
    "You will want to study a plot of the model's residual. \n",
    "Ideally, the residuals are small in magnitude, and are evenly distributed about the true values. \n",
    "What are some possible improvements that can be made?\n",
    "\n",
    "Suppose we are instead curious about whether a song will be played by a user based on a demographics. \n",
    "Apply a logistic regression model and report your results"
   ]
  },
  {
   "cell_type": "markdown",
   "metadata": {},
   "source": [
    "# Modeling"
   ]
  },
  {
   "cell_type": "code",
   "execution_count": 1,
   "metadata": {},
   "outputs": [],
   "source": [
    "import pickle\n",
    "import numpy as np\n",
    "import pandas as pd\n",
    "from sklearn.linear_model import LinearRegression\n",
    "from sklearn.linear_model import LogisticRegression\n",
    "from sklearn import metrics\n",
    "from sklearn.metrics import classification_report\n",
    "import matplotlib.pyplot as plt \n",
    "import seaborn as sns\n",
    "from sklearn.model_selection import train_test_split\n",
    "from sklearn.model_selection import KFold\n",
    "%matplotlib inline"
   ]
  },
  {
   "cell_type": "code",
   "execution_count": 2,
   "metadata": {},
   "outputs": [],
   "source": [
    "#call the pickled object and save it to a variable\n",
    "pickle_in = open(\"data.pkl\", \"rb\")\n",
    "data = pickle.load(pickle_in)\n"
   ]
  },
  {
   "cell_type": "code",
   "execution_count": 3,
   "metadata": {},
   "outputs": [],
   "source": [
    "y= data.Plays"
   ]
  },
  {
   "cell_type": "code",
   "execution_count": 4,
   "metadata": {},
   "outputs": [
    {
     "data": {
      "text/plain": [
       "Track\n",
       "! (Foreword)                                       8\n",
       "# 173 - The Stills, Novillero, Fred Eaglesmith     1\n",
       "# 174 - The Organ, Sloan, Jill Barber              2\n",
       "#1                                                65\n",
       "#1 Crush                                           7\n",
       "Name: Plays, dtype: int64"
      ]
     },
     "execution_count": 4,
     "metadata": {},
     "output_type": "execute_result"
    }
   ],
   "source": [
    "y.head()"
   ]
  },
  {
   "cell_type": "markdown",
   "metadata": {},
   "source": [
    "## K-fold Cross-Validation"
   ]
  },
  {
   "cell_type": "code",
   "execution_count": 5,
   "metadata": {},
   "outputs": [],
   "source": [
    "X_train, X_test, y_train, y_test = train_test_split(data, y, test_size=0.2)"
   ]
  },
  {
   "cell_type": "code",
   "execution_count": 6,
   "metadata": {},
   "outputs": [],
   "source": [
    "#X_train = data[train].drop(['Plays'],axis=1)\n",
    "#y_train = data[train][\"Plays\"]\n",
    "#X_test = data[test].drop(['Plays'],axis=1)\n",
    "#y_test = data[test][\"Plays\"]"
   ]
  },
  {
   "cell_type": "markdown",
   "metadata": {},
   "source": [
    "## Linear Modeling"
   ]
  },
  {
   "cell_type": "code",
   "execution_count": 7,
   "metadata": {},
   "outputs": [],
   "source": [
    "lm = LinearRegression()"
   ]
  },
  {
   "cell_type": "code",
   "execution_count": 8,
   "metadata": {},
   "outputs": [
    {
     "data": {
      "text/plain": [
       "LinearRegression(copy_X=True, fit_intercept=True, n_jobs=None,\n",
       "         normalize=False)"
      ]
     },
     "execution_count": 8,
     "metadata": {},
     "output_type": "execute_result"
    }
   ],
   "source": [
    "lm.fit(X_train,y_train)"
   ]
  },
  {
   "cell_type": "markdown",
   "metadata": {},
   "source": [
    "### Analysis of Linear Model"
   ]
  },
  {
   "cell_type": "code",
   "execution_count": 9,
   "metadata": {},
   "outputs": [
    {
     "name": "stdout",
     "output_type": "stream",
     "text": [
      "Coeff and intercept: [ 1.00000000e+00 -2.90213774e-17 -6.48969379e-17  1.23203149e-16\n",
      "  6.31157239e-17] 2.9309887850104133e-13\n"
     ]
    }
   ],
   "source": [
    "print ('Coeff and intercept:', lm.coef_, lm.intercept_ )"
   ]
  },
  {
   "cell_type": "code",
   "execution_count": 10,
   "metadata": {},
   "outputs": [
    {
     "name": "stdout",
     "output_type": "stream",
     "text": [
      "Training Score: 1.0\n",
      "Testing Score: 1.0\n",
      "Training MSE:  1.1668577601683573e-24\n",
      "Testing MSE:  1.1375898719555836e-24\n"
     ]
    }
   ],
   "source": [
    "print ('Training Score:', lm.score(X_train, y_train))\n",
    "print ('Testing Score:', lm.score(X_test, y_test))\n",
    "print ('Training MSE: ', np.mean((lm.predict(X_train) - y_train)**2))\n",
    "print ('Testing MSE: ', np.mean((lm.predict(X_test) - y_test)**2))"
   ]
  },
  {
   "cell_type": "markdown",
   "metadata": {},
   "source": [
    "Given that the scoring for this model is 1.o ( a perfect score) I suspect overfitting. The residuals should indicate the same."
   ]
  },
  {
   "cell_type": "markdown",
   "metadata": {},
   "source": [
    "### Residuals"
   ]
  },
  {
   "cell_type": "code",
   "execution_count": 11,
   "metadata": {},
   "outputs": [
    {
     "name": "stderr",
     "output_type": "stream",
     "text": [
      "C:\\Users\\rpena\\Anaconda3\\lib\\site-packages\\matplotlib\\legend.py:641: UserWarning: Unrecognized location \"upperleft\". Falling back on \"best\"; valid locations are\n",
      "\tbest\n",
      "\tupper right\n",
      "\tupper left\n",
      "\tlower left\n",
      "\tlower right\n",
      "\tright\n",
      "\tcenter left\n",
      "\tcenter right\n",
      "\tlower center\n",
      "\tupper center\n",
      "\tcenter\n",
      "\n",
      "  % (loc, '\\n\\t'.join(self.codes)))\n"
     ]
    },
    {
     "data": {
      "image/png": "[encoded data removed]",
      "text/plain": [
       "<Figure size 432x288 with 1 Axes>"
      ]
     },
     "metadata": {},
     "output_type": "display_data"
    }
   ],
   "source": [
    "plt.scatter(y_train, (lm.predict(X_train)-y_train), c='blue', marker='o', label='Training Data', alpha = 0.8)\n",
    "plt.scatter(y_test, (lm.predict(X_test)-y_test), c='green', marker='s', label='Testing Data', alpha = 0.5)\n",
    "plt.xlabel('Predicted values')\n",
    "plt.ylabel('Residuals')\n",
    "plt.legend(loc='upperleft')\n",
    "plt.hlines(y=0, xmin=-10, xmax=60, lw=2, color='red')\n",
    "plt.show();"
   ]
  },
  {
   "cell_type": "markdown",
   "metadata": {},
   "source": [
    "Explain Residuals\n",
    "\n",
    "The residuals of this model appear to be perfectl aligned. I believe that this model is severly overfit."
   ]
  },
  {
   "cell_type": "markdown",
   "metadata": {},
   "source": [
    "## Logistic Model"
   ]
  },
  {
   "cell_type": "code",
   "execution_count": 12,
   "metadata": {},
   "outputs": [
    {
     "name": "stderr",
     "output_type": "stream",
     "text": [
      "C:\\Users\\rpena\\Anaconda3\\lib\\site-packages\\sklearn\\linear_model\\logistic.py:757: ConvergenceWarning: lbfgs failed to converge. Increase the number of iterations.\n",
      "  \"of iterations.\", ConvergenceWarning)\n"
     ]
    }
   ],
   "source": [
    "logM = LogisticRegression(random_state=2,solver='lbfgs',multi_class='multinomial').fit(X_train, y_train)"
   ]
  },
  {
   "cell_type": "code",
   "execution_count": 13,
   "metadata": {},
   "outputs": [
    {
     "data": {
      "text/plain": [
       "0.7063032951964692"
      ]
     },
     "execution_count": 13,
     "metadata": {},
     "output_type": "execute_result"
    }
   ],
   "source": [
    "logM.score(X_test, y_test)"
   ]
  },
  {
   "cell_type": "code",
   "execution_count": 14,
   "metadata": {},
   "outputs": [
    {
     "name": "stderr",
     "output_type": "stream",
     "text": [
      "C:\\Users\\rpena\\Anaconda3\\lib\\site-packages\\sklearn\\metrics\\classification.py:1143: UndefinedMetricWarning: Precision and F-score are ill-defined and being set to 0.0 in labels with no predicted samples.\n",
      "  'precision', 'predicted', average, warn_for)\n",
      "C:\\Users\\rpena\\Anaconda3\\lib\\site-packages\\sklearn\\metrics\\classification.py:1145: UndefinedMetricWarning: Recall and F-score are ill-defined and being set to 0.0 in labels with no true samples.\n",
      "  'recall', 'true', average, warn_for)\n"
     ]
    }
   ],
   "source": [
    "y_pred = logM.predict(X_test)\n",
    "report=classification_report(y_test,y_pred)"
   ]
  },
  {
   "cell_type": "code",
   "execution_count": 15,
   "metadata": {},
   "outputs": [
    {
     "name": "stdout",
     "output_type": "stream",
     "text": [
      "              precision    recall  f1-score   support\n",
      "\n",
      "           1       0.98      1.00      0.99      8933\n",
      "           2       0.90      0.86      0.88      3639\n",
      "           3       0.65      0.74      0.69      2062\n",
      "           4       0.66      0.61      0.64      1407\n",
      "           5       0.55      0.67      0.61       999\n",
      "           6       0.53      0.46      0.49       757\n",
      "           7       0.51      0.57      0.54       586\n",
      "           8       0.27      0.37      0.31       464\n",
      "           9       0.15      0.11      0.13       404\n",
      "          10       0.21      0.14      0.17       351\n",
      "          11       0.28      0.21      0.24       321\n",
      "          12       0.17      0.26      0.21       238\n",
      "          13       0.24      0.28      0.26       241\n",
      "          14       0.18      0.11      0.14       236\n",
      "          15       0.18      0.10      0.13       213\n",
      "          16       0.12      0.37      0.18       191\n",
      "          17       0.00      0.00      0.00       155\n",
      "          18       0.00      0.00      0.00       131\n",
      "          19       0.05      0.08      0.06       120\n",
      "          20       1.00      0.06      0.11       119\n",
      "          21       0.00      0.00      0.00       102\n",
      "          22       0.11      0.08      0.09        93\n",
      "          23       0.00      0.00      0.00        77\n",
      "          24       0.00      0.00      0.00        84\n",
      "          25       0.09      0.51      0.16        81\n",
      "          26       0.00      0.00      0.00        73\n",
      "          27       0.00      0.00      0.00        69\n",
      "          28       0.06      0.11      0.08        37\n",
      "          29       0.00      0.00      0.00        49\n",
      "          30       0.08      0.09      0.08        45\n",
      "          31       0.10      0.03      0.05        58\n",
      "          32       0.00      0.00      0.00        44\n",
      "          33       0.00      0.00      0.00        44\n",
      "          34       0.00      0.00      0.00        38\n",
      "          35       0.06      0.04      0.05        51\n",
      "          36       0.00      0.00      0.00        30\n",
      "          37       0.02      0.16      0.04        32\n",
      "          38       0.00      0.00      0.00        25\n",
      "          39       0.11      0.21      0.15        33\n",
      "          40       0.00      0.00      0.00        21\n",
      "          41       0.00      0.00      0.00        23\n",
      "          42       0.00      0.00      0.00        27\n",
      "          43       0.00      0.00      0.00        27\n",
      "          44       0.00      0.00      0.00        19\n",
      "          45       0.00      0.00      0.00        21\n",
      "          46       0.00      0.00      0.00        18\n",
      "          47       0.00      0.00      0.00        15\n",
      "          48       0.00      0.00      0.00        18\n",
      "          49       0.00      0.00      0.00        13\n",
      "          50       0.00      0.00      0.00        21\n",
      "          51       0.00      0.00      0.00        19\n",
      "          52       0.00      0.00      0.00        14\n",
      "          53       0.01      0.08      0.02        12\n",
      "          54       0.00      0.00      0.00        10\n",
      "          55       0.00      0.00      0.00         6\n",
      "          56       0.00      0.00      0.00        14\n",
      "          57       0.00      0.00      0.00         7\n",
      "          58       0.00      0.00      0.00         8\n",
      "          59       0.00      0.00      0.00        14\n",
      "          60       0.00      0.00      0.00        18\n",
      "          61       0.00      0.00      0.00        16\n",
      "          62       0.00      0.00      0.00        14\n",
      "          63       0.00      0.00      0.00         8\n",
      "          64       0.00      0.00      0.00         7\n",
      "          65       0.00      0.00      0.00        10\n",
      "          66       0.00      0.00      0.00         5\n",
      "          67       0.00      0.00      0.00         4\n",
      "          68       0.00      0.00      0.00         6\n",
      "          69       0.00      0.00      0.00         8\n",
      "          70       0.00      0.00      0.00         4\n",
      "          71       0.00      0.00      0.00         8\n",
      "          72       0.00      0.00      0.00         6\n",
      "          73       0.00      0.00      0.00         6\n",
      "          74       0.00      0.00      0.00         9\n",
      "          75       0.00      0.00      0.00         9\n",
      "          76       0.00      0.00      0.00         3\n",
      "          77       0.00      0.00      0.00         3\n",
      "          78       0.00      0.00      0.00         6\n",
      "          79       0.00      0.00      0.00         3\n",
      "          80       0.00      0.00      0.00         6\n",
      "          81       0.00      0.00      0.00         4\n",
      "          82       0.00      0.00      0.00         7\n",
      "          83       0.00      0.00      0.00         3\n",
      "          84       0.00      0.00      0.00         6\n",
      "          85       0.00      0.00      0.00         4\n",
      "          86       0.00      0.00      0.00         5\n",
      "          87       0.00      0.00      0.00         3\n",
      "          88       0.00      0.00      0.00         1\n",
      "          89       0.00      0.00      0.00         4\n",
      "          90       0.00      0.00      0.00         5\n",
      "          91       0.00      0.00      0.00         2\n",
      "          92       0.00      0.00      0.00         4\n",
      "          93       0.00      0.00      0.00         1\n",
      "          94       0.00      0.00      0.00         6\n",
      "          95       0.00      0.00      0.00         6\n",
      "          96       0.00      0.00      0.00         5\n",
      "          97       0.00      0.00      0.00         6\n",
      "          98       0.00      0.00      0.00         3\n",
      "          99       0.00      0.00      0.00         1\n",
      "         100       0.00      0.00      0.00         2\n",
      "         101       0.00      0.00      0.00         5\n",
      "         102       0.00      0.00      0.00         4\n",
      "         103       0.00      0.00      0.00         4\n",
      "         104       0.00      0.00      0.00         2\n",
      "         105       0.00      0.00      0.00         1\n",
      "         106       0.00      0.00      0.00         3\n",
      "         107       0.00      0.00      0.00         1\n",
      "         108       0.00      0.00      0.00         2\n",
      "         109       0.00      0.00      0.00         1\n",
      "         110       0.00      0.00      0.00         2\n",
      "         112       0.00      0.00      0.00         3\n",
      "         113       0.00      0.00      0.00         1\n",
      "         114       0.00      0.00      0.00         1\n",
      "         115       0.00      0.00      0.00         1\n",
      "         118       0.01      0.20      0.02         5\n",
      "         119       0.00      0.00      0.00         3\n",
      "         120       0.00      0.00      0.00         2\n",
      "         122       0.00      0.00      0.00         2\n",
      "         123       0.00      0.00      0.00         1\n",
      "         124       0.00      0.00      0.00         4\n",
      "         125       0.00      0.00      0.00         2\n",
      "         128       0.00      0.00      0.00         2\n",
      "         129       0.00      0.00      0.00         6\n",
      "         130       0.00      0.00      0.00         2\n",
      "         131       0.00      0.00      0.00         1\n",
      "         133       0.00      0.00      0.00         2\n",
      "         134       0.00      0.00      0.00         3\n",
      "         135       0.00      0.00      0.00         1\n",
      "         136       0.00      0.00      0.00         1\n",
      "         137       0.00      0.00      0.00         1\n",
      "         138       0.00      0.00      0.00         1\n",
      "         139       0.00      0.00      0.00         1\n",
      "         141       0.00      0.00      0.00         2\n",
      "         142       0.00      0.00      0.00         3\n",
      "         145       0.00      0.00      0.00         1\n",
      "         147       0.00      0.00      0.00         1\n",
      "         148       0.00      0.00      0.00         3\n",
      "         149       0.00      0.00      0.00         1\n",
      "         152       0.00      0.00      0.00         1\n",
      "         153       0.00      0.00      0.00         2\n",
      "         154       0.00      0.00      0.00         1\n",
      "         156       0.00      0.00      0.00         1\n",
      "         157       0.00      0.00      0.00         4\n",
      "         158       0.00      0.00      0.00         2\n",
      "         159       0.00      0.00      0.00         1\n",
      "         161       0.00      0.00      0.00         1\n",
      "         168       0.00      0.00      0.00         1\n",
      "         173       0.00      0.00      0.00         1\n",
      "         175       0.00      0.00      0.00         1\n",
      "         176       0.00      0.00      0.00         1\n",
      "         177       0.00      0.00      0.00         2\n",
      "         180       0.00      0.00      0.00         1\n",
      "         181       0.00      0.00      0.00         1\n",
      "         185       0.00      0.00      0.00         1\n",
      "         187       0.00      0.00      0.00         1\n",
      "         190       0.00      0.00      0.00         1\n",
      "         191       0.00      0.00      0.00         2\n",
      "         192       0.00      0.00      0.00         1\n",
      "         193       0.00      0.00      0.00         2\n",
      "         198       0.00      0.00      0.00         1\n",
      "         202       0.00      0.00      0.00         1\n",
      "         211       0.00      0.00      0.00         1\n",
      "         213       0.00      0.00      0.00         1\n",
      "         222       0.00      0.00      0.00         2\n",
      "         238       0.00      0.00      0.00         1\n",
      "         241       0.00      0.00      0.00         1\n",
      "         249       0.00      0.00      0.00         1\n",
      "         274       0.00      0.00      0.00         1\n",
      "         275       0.00      0.00      0.00         1\n",
      "         299       0.00      0.00      0.00         1\n",
      "         303       0.00      0.00      0.00         1\n",
      "         320       0.00      0.00      0.00         1\n",
      "         326       0.00      0.00      0.00         1\n",
      "         333       0.00      0.00      0.00         2\n",
      "         335       0.00      0.00      0.00         1\n",
      "         336       0.00      0.00      0.00         1\n",
      "         337       0.00      0.00      0.00         1\n",
      "         338       0.00      0.00      0.00         2\n",
      "         355       0.00      0.00      0.00         1\n",
      "         370       0.00      0.00      0.00         1\n",
      "         383       0.00      0.00      0.00         1\n",
      "         412       0.00      0.00      0.00         1\n",
      "         512       0.00      0.00      0.00         1\n",
      "         730       0.00      0.00      0.00         1\n",
      "        1893       0.00      0.00      0.00         1\n",
      "        2028       0.00      0.00      0.00         0\n",
      "        2121       0.00      0.00      0.00         1\n",
      "\n",
      "   micro avg       0.71      0.71      0.71     23337\n",
      "   macro avg       0.04      0.05      0.04     23337\n",
      "weighted avg       0.70      0.71      0.70     23337\n",
      "\n"
     ]
    }
   ],
   "source": [
    "print(report)"
   ]
  }
 ],
 "metadata": {
  "kernelspec": {
   "display_name": "Python 3",
   "language": "python",
   "name": "python3"
  },
  "language_info": {
   "codemirror_mode": {
    "name": "ipython",
    "version": 3
   },
   "file_extension": ".py",
   "mimetype": "text/x-python",
   "name": "python",
   "nbconvert_exporter": "python",
   "pygments_lexer": "ipython3",
   "version": "3.6.6"
  }
 },
 "nbformat": 4,
 "nbformat_minor": 2
}
