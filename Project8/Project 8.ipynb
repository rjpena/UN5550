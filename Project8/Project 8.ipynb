{
 "cells": [
  {
   "cell_type": "markdown",
   "metadata": {},
   "source": [
    "# Project 8 - Networking"
   ]
  },
  {
   "cell_type": "markdown",
   "metadata": {},
   "source": [
    "## Part 1 - Lecture Summary\n",
    "### Digitizing the Smithosian Herbarium\n",
    "\n",
    "Dr. Dorr's main focus for the talk was about the herbology and herbariums around the world and their efforts to fully digitize their collections. He did mention a few of the \"V's\" of big data, but I don't think it was intentional or meant to be the focus of the talk. \n",
    "\n",
    "Dr. Dorr mentioned the *volume* of his herbarium and a few others, stating that there were nearly 5 Million specimens worldwide and that it was most likely to increase as they were unsure of the phylogentic coverage of their specimens. Their data *varied* between actual the actual physical specimens, information tags, and barcodes of the samples. There was no mention of the *velocity* of the data they were sampled, but he did discuess the time the actual digitization process was taking (but that was outsourced). One aspect of *veracity* that was covered was the barcodes not sticking, which could lead to loss of data that was being input into the database.\n",
    "\n",
    "The project decided to try to solve the problem of identifying mercury contamination of the physical specimens using a convoluted neural network to identify the \"gray splotches\" that indicate mercury was used to store the speciment. Using 70-20-10 split of the data and 8000 clean and 8000 contaminated samples they were able to reach a 92-95% accuracy for each class.\n",
    "\n",
    "It was an interesting lecture, but Dr. Dorr made it very obvious that he was just the funds raiser and had no real knowledge of the data science related efforts being used."
   ]
  },
  {
   "cell_type": "markdown",
   "metadata": {},
   "source": [
    "## Part 2 - Create a Network Graph"
   ]
  },
  {
   "cell_type": "code",
   "execution_count": 1,
   "metadata": {},
   "outputs": [],
   "source": [
    "import networkx as nx\n",
    "import numpy as np"
   ]
  },
  {
   "cell_type": "code",
   "execution_count": 2,
   "metadata": {},
   "outputs": [],
   "source": [
    "A=np.matrix([[0,1,0,1,0,1],[1,0,1,0,0,1],[0,1,0,0,1,1],[1,0,0,0,0,0],[0,0,1,0,0,1],[1,1,1,0,1,0]])"
   ]
  },
  {
   "cell_type": "code",
   "execution_count": 3,
   "metadata": {},
   "outputs": [],
   "source": [
    "G=nx.from_numpy_matrix(A)"
   ]
  },
  {
   "cell_type": "code",
   "execution_count": 4,
   "metadata": {},
   "outputs": [
    {
     "data": {
      "text/plain": [
       "<networkx.classes.graph.Graph at 0x2698876bdd8>"
      ]
     },
     "execution_count": 4,
     "metadata": {},
     "output_type": "execute_result"
    }
   ],
   "source": [
    "G"
   ]
  },
  {
   "cell_type": "code",
   "execution_count": 6,
   "metadata": {},
   "outputs": [
    {
     "data": {
      "image/png": "[encoded data removed]",
      "text/plain": [
       "<Figure size 432x288 with 1 Axes>"
      ]
     },
     "metadata": {},
     "output_type": "display_data"
    }
   ],
   "source": [
    "nx.draw(G, with_labels=True, font_weight='bold', pos=nx.spring_layout(G))#spectral,spring,shell,circular,random layouts args"
   ]
  },
  {
   "cell_type": "markdown",
   "metadata": {},
   "source": [
    "## Part 3 - Compute Centralities"
   ]
  },
  {
   "cell_type": "code",
   "execution_count": 7,
   "metadata": {},
   "outputs": [
    {
     "name": "stdout",
     "output_type": "stream",
     "text": [
      "The degree centrality of Graph G is: \n",
      " {0: 0.6000000000000001, 1: 0.6000000000000001, 2: 0.6000000000000001, 3: 0.2, 4: 0.4, 5: 0.8}\n"
     ]
    }
   ],
   "source": [
    "degree=nx.degree_centrality(G)\n",
    "print(\"The degree centrality of Graph G is: \\n\", degree)"
   ]
  },
  {
   "cell_type": "code",
   "execution_count": 8,
   "metadata": {},
   "outputs": [
    {
     "name": "stdout",
     "output_type": "stream",
     "text": [
      "The closeness centrality of Graph G is: \n",
      " {0: 0.7142857142857143, 1: 0.7142857142857143, 2: 0.625, 3: 0.45454545454545453, 4: 0.5555555555555556, 5: 0.8333333333333334}\n"
     ]
    }
   ],
   "source": [
    "closeness=nx.closeness_centrality(G)\n",
    "print(\"The closeness centrality of Graph G is: \\n\", closeness)"
   ]
  },
  {
   "cell_type": "code",
   "execution_count": 9,
   "metadata": {},
   "outputs": [
    {
     "name": "stdout",
     "output_type": "stream",
     "text": [
      "The betweenness centrality of Graph G is: \n",
      " {0: 0.4, 1: 0.1, 2: 0.05, 3: 0.0, 4: 0.0, 5: 0.35000000000000003}\n"
     ]
    }
   ],
   "source": [
    "between=nx.betweenness_centrality(G)\n",
    "print(\"The betweenness centrality of Graph G is: \\n\", between)"
   ]
  },
  {
   "cell_type": "code",
   "execution_count": 10,
   "metadata": {},
   "outputs": [
    {
     "name": "stdout",
     "output_type": "stream",
     "text": [
      "The eigenvector centrality of Graph G is: \n",
      " {0: 0.3834327635729094, 1: 0.46493880333267035, 2: 0.45310115951559804, 3: 0.12862901683739722, 4: 0.3363097865225342, 5: 0.5494186634404209}\n"
     ]
    }
   ],
   "source": [
    "eigen=nx.eigenvector_centrality(G)\n",
    "print(\"The eigenvector centrality of Graph G is: \\n\", eigen)"
   ]
  },
  {
   "cell_type": "markdown",
   "metadata": {},
   "source": [
    "## Part 4 - NET Ranking Network"
   ]
  },
  {
   "cell_type": "markdown",
   "metadata": {},
   "source": [
    "I would interpret this data almost as a network of networks. Sports teams are usually divided by divisions or conferences. I would have the first network be a ring of nodes with each node being a conference. These division would then be connected to nodes that represented the teams in each conference. Within each conference the edges connecting the team nodes could then be weighted using either the scoring, W/L ratio, or ranking."
   ]
  },
  {
   "cell_type": "markdown",
   "metadata": {},
   "source": [
    "Using this network of networks centrality measures could indicate either high ranking, high scoring, or larger W/L ratios between the conferences based on the weight of each edge. The \"better\" conference would have higher weighted edges. This could also be applied within the conference to individual teams with the same being true for the \"better\" team."
   ]
  }
 ],
 "metadata": {
  "kernelspec": {
   "display_name": "Python 3",
   "language": "python",
   "name": "python3"
  },
  "language_info": {
   "codemirror_mode": {
    "name": "ipython",
    "version": 3
   },
   "file_extension": ".py",
   "mimetype": "text/x-python",
   "name": "python",
   "nbconvert_exporter": "python",
   "pygments_lexer": "ipython3",
   "version": "3.6.6"
  }
 },
 "nbformat": 4,
 "nbformat_minor": 2
}
